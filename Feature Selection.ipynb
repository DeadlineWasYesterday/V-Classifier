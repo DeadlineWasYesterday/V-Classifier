{
 "cells": [
  {
   "cell_type": "code",
   "execution_count": 1,
   "metadata": {},
   "outputs": [],
   "source": [
    "import numpy as np\n",
    "import pandas as pd\n",
    "import random\n",
    "import matplotlib.pyplot as plt\n",
    "import seaborn as sns\n",
    "from Bio import SeqIO\n",
    "from Bio.Seq import Seq\n",
    "from Bio.Alphabet import IUPAC\n",
    "from Bio.SeqRecord import SeqRecord\n",
    "from Bio import SeqUtils\n",
    "from sklearn.model_selection import cross_val_score\n",
    "from sklearn.metrics import f1_score\n",
    "from sklearn.ensemble import RandomForestClassifier\n",
    "from sklearn.preprocessing import StandardScaler\n",
    "sc = StandardScaler()\n",
    "from sklearn.model_selection import train_test_split\n",
    "from sklearn.ensemble import RandomForestClassifier\n",
    "from sklearn.feature_selection import SelectFromModel\n",
    "from sklearn.feature_selection import RFECV\n",
    "import scikitplot as skplt\n",
    "from sklearn import metrics\n",
    "from scipy.stats import mannwhitneyu\n",
    "from sklearn.metrics import confusion_matrix"
   ]
  },
  {
   "cell_type": "code",
   "execution_count": 3,
   "metadata": {},
   "outputs": [],
   "source": [
    "with open('ph f1', 'r') as f:\n",
    "    a = f.readlines()\n",
    "a = [s[:-1] for s in a]"
   ]
  },
  {
   "cell_type": "code",
   "execution_count": 4,
   "metadata": {},
   "outputs": [],
   "source": [
    "c = [s for s in a if len(s) < 6]"
   ]
  },
  {
   "cell_type": "code",
   "execution_count": 5,
   "metadata": {},
   "outputs": [],
   "source": [
    "b = [s for s in a if len(s) == 6]"
   ]
  },
  {
   "cell_type": "code",
   "execution_count": 6,
   "metadata": {},
   "outputs": [],
   "source": [
    "b1 = b[:370]"
   ]
  },
  {
   "cell_type": "code",
   "execution_count": 7,
   "metadata": {},
   "outputs": [],
   "source": [
    "b2 = b[370:]"
   ]
  },
  {
   "cell_type": "code",
   "execution_count": 8,
   "metadata": {},
   "outputs": [],
   "source": [
    "df1 = pd.concat([pd.read_csv('../ppnnw5.csv')[['Gen', 'die']], \n",
    "                 pd.read_csv('../ppnnw5.csv')[c], \n",
    "                 pd.read_csv('../ppnnw6.csv')[b]\n",
    "                ], axis = 1)\n",
    "df1 = df1.loc[df1['die'] == 'no']\n",
    "df1['Gen'] = 1\n",
    "\n",
    "df2 = pd.read_csv('../h1sk.csv')[['die']]\n",
    "df2 = pd.concat([df2, \n",
    "                 pd.read_csv('../h1w5.csv')[c], \n",
    "                 pd.read_csv('../h1w6p1.csv')[b1],\n",
    "                 pd.read_csv('../h1w6p2.csv')[b2]],\n",
    "                axis = 1)\n",
    "df2 = df2.loc[df2['die'] == 'no']\n",
    "df2['Gen'] = 0"
   ]
  },
  {
   "cell_type": "code",
   "execution_count": 9,
   "metadata": {},
   "outputs": [],
   "source": [
    "data = pd.concat([df1,df2], axis = 0).reset_index(drop = True)"
   ]
  },
  {
   "cell_type": "code",
   "execution_count": 11,
   "metadata": {},
   "outputs": [],
   "source": [
    "def rf(data, split, nest, crt, cvf):\n",
    "    #Splitting features and labels\n",
    "    X = data.iloc[:, 2:].values.astype(float)\n",
    "    y = data.iloc[:, 0].values.astype(float)\n",
    "    \n",
    "    # Splitting the dataset into the Training set and Test set\n",
    "    X_train, X_test, y_train, y_test = train_test_split(X, y, test_size = split)\n",
    "    \n",
    "    # Feature Scaling\n",
    "    sc = StandardScaler()\n",
    "    X_train = sc.fit_transform(X_train)\n",
    "    X_test = sc.transform(X_test)\n",
    "    \n",
    "    \n",
    "    # Fitting Random Forest Classification to the Training set\n",
    "    classifier = RandomForestClassifier(n_estimators = nest, criterion = crt)\n",
    "    classifier.fit(X_train, y_train)\n",
    "    \n",
    "    # Predicting the Test set results\n",
    "    y_pred = classifier.predict(X_test)\n",
    "    \n",
    "    # Making the Confusion Matrix\n",
    "#     cm = confusion_matrix(y_test, y_pred)\n",
    "\n",
    "    #feature selection 1\n",
    "    selector1 = SelectFromModel(RandomForestClassifier(n_estimators = 150))\n",
    "    selector1.fit(X_train, y_train)\n",
    "    \n",
    "    cv_bin = cross_val_score(classifier, X, y, cv=cvf, scoring='f1')\n",
    "    cv_mac = cross_val_score(classifier, X_train, y_train, cv=cvf, scoring='f1_macro')\n",
    "    f1bin = f1_score(y_test, y_pred, average='binary')\n",
    "    f1mac = f1_score(y_test, y_pred, average='macro')\n",
    "    \n",
    "    \n",
    "    dunnowhat = metrics.accuracy_score(y_test, y_pred)\n",
    "    y_pred_proba = classifier.predict_proba(X_test)[::,1]\n",
    "    fpr, tpr, _ = metrics.roc_curve(y_test,  y_pred_proba)\n",
    "    auc = metrics.roc_auc_score(y_test, y_pred_proba)\n",
    "    plt.plot(fpr,tpr,label=\"data 1, auc=\"+str(auc))\n",
    "    plt.legend(loc=4)\n",
    "    plt.show()\n",
    "    \n",
    "    return cv_mac, cv_bin, f1mac, f1bin, selector1"
   ]
  },
  {
   "cell_type": "code",
   "execution_count": 6,
   "metadata": {},
   "outputs": [],
   "source": [
    "a = []\n",
    "for i in range(0,1364,682):\n",
    "    df1 = pd.concat([pd.read_csv('../ppnnw5.csv')[['Gen', 'die']], \n",
    "                 pd.read_csv('../ppnnw5.csv').iloc[:,i+10:i+682+10]], axis = 1)\n",
    "    df1 = df1.loc[df1['die'] == 'no']\n",
    "    df1['Gen'] = 1\n",
    "\n",
    "    df2 = pd.read_csv('../h1sk.csv')[['die']]\n",
    "    df2 = pd.concat([df2, pd.read_csv('../h1w5.csv').iloc[:,i+5:i+682+5]], axis = 1)\n",
    "    df2 = df2.loc[df2['die'] == 'no']\n",
    "    df2['Gen'] = 0\n",
    "    data = pd.concat([df1,df2], axis = 0).reset_index(drop = True)\n",
    "    cv, sl = rf(data, 0.25, 200, 'entropy', 10)\n",
    "    a = a + list(data.iloc[:,2:].columns[sl.get_support()])\n",
    "\n",
    "# for i in range(0,2048,512):\n",
    "#     df1 = pd.concat([pd.read_csv('../ppnnw5.csv')[['Gen', 'die']], \n",
    "#                  pd.read_csv('../ppnnw6.csv').iloc[:,i+10:i+512+10]], axis = 1)\n",
    "#     df1 = df1.loc[df1['die'] == 'no']\n",
    "#     df1['Gen'] = 1\n",
    "\n",
    "#     df2 = pd.read_csv('../h1sk.csv')[['die']]\n",
    "#     df2 = pd.concat([df2, pd.read_csv('../h1w6p1.csv').iloc[:,i+5:i+512+5]], axis = 1)\n",
    "#     df2 = df2.loc[df2['die'] == 'no']\n",
    "#     df2['Gen'] = 0\n",
    "#     data = pd.concat([df1,df2], axis = 0).reset_index(drop = True)\n",
    "#     cv, sl = rf(data, 0.25, 200, 'entropy', 10)\n",
    "#     a = a + list(data.iloc[:,2:].columns[sl.get_support()])\n",
    "    \n",
    "# for i in range(0,2048,512):\n",
    "#     df1 = pd.concat([pd.read_csv('../ppnnw5.csv')[['Gen', 'die']], \n",
    "#                  pd.read_csv('../ppnnw6.csv').iloc[:,i+10+2048:i+512+10+2048]], axis = 1)\n",
    "#     df1 = df1.loc[df1['die'] == 'no']\n",
    "#     df1['Gen'] = 1\n",
    "\n",
    "#     df2 = pd.read_csv('../h1sk.csv')[['die']]\n",
    "#     df2 = pd.concat([df2, pd.read_csv('../h1w6p2.csv').iloc[:,i+5:i+512+5]], axis = 1)\n",
    "#     df2 = df2.loc[df2['die'] == 'no']\n",
    "#     df2['Gen'] = 0\n",
    "#     data = pd.concat([df1,df2], axis = 0).reset_index(drop = True)\n",
    "#     cv, sl = rf(data, 0.25, 200, 'entropy', 10)\n",
    "#     a = a + list(data.iloc[:,2:].columns[sl.get_support()])    "
   ]
  },
  {
   "cell_type": "code",
   "execution_count": 7,
   "metadata": {},
   "outputs": [],
   "source": [
    "a = ['AATCG', 'ACGAT', 'ATACG', 'ATC', 'ATCA', 'ATCG', 'ATCGA', 'ATTCG', \n",
    "                                                  'CAAT', 'CAATC', 'CGAAT', 'CGAT', 'CGATA', 'CGATC', 'CGATT', 'CGTA', \n",
    "                                                  'GAT', 'GATC', 'GTCAA', 'TATCG', 'TCAA', 'TCAAT', 'TCGA', 'TCGAT', 'TCGTA', \n",
    "                                                  'TGAT',\n",
    "    'ACGATA', 'ATATCG', 'ATCGAT', 'TAATCG', \n",
    "                                               'TAGTCG', 'TCAATC', 'TCGATA', 'TCGATC', 'TCGGTA',\n",
    "    'CAATCG', 'CAATTG', 'CCGATA', 'CGATAA', 'CGATAC', 'CGATAG', 'CGATAT', 'CGATCA', \n",
    "                                               'CGATTA', 'CGATTG', 'CGCATA', 'CGGTAT', 'GTCGAT', 'GTCGTA', 'GTTGAT']"
   ]
  },
  {
   "cell_type": "code",
   "execution_count": 8,
   "metadata": {},
   "outputs": [
    {
     "data": {
      "text/plain": [
       "50"
      ]
     },
     "execution_count": 8,
     "metadata": {},
     "output_type": "execute_result"
    }
   ],
   "source": [
    "len(a)"
   ]
  },
  {
   "cell_type": "code",
   "execution_count": 23,
   "metadata": {},
   "outputs": [
    {
     "data": {
      "text/plain": [
       "50"
      ]
     },
     "execution_count": 23,
     "metadata": {},
     "output_type": "execute_result"
    }
   ],
   "source": [
    "len(a)"
   ]
  },
  {
   "cell_type": "code",
   "execution_count": 15,
   "metadata": {},
   "outputs": [],
   "source": [
    "with open('ph f1', 'r') as f:\n",
    "    b = f.readlines()"
   ]
  },
  {
   "cell_type": "code",
   "execution_count": 54,
   "metadata": {},
   "outputs": [],
   "source": [
    "a = (d + e)"
   ]
  },
  {
   "cell_type": "code",
   "execution_count": 24,
   "metadata": {},
   "outputs": [],
   "source": [
    "with open('ph f2', 'w') as f:\n",
    "    for item in a:\n",
    "        f.write(item)\n",
    "        f.write('\\n')"
   ]
  },
  {
   "cell_type": "code",
   "execution_count": 56,
   "metadata": {},
   "outputs": [],
   "source": [
    "b = [s for s in a if len(s) == 6]\n",
    "c = [s for s in a if len(s) != 6]"
   ]
  },
  {
   "cell_type": "code",
   "execution_count": 23,
   "metadata": {},
   "outputs": [
    {
     "data": {
      "text/plain": [
       "0.9860434508456443"
      ]
     },
     "execution_count": 23,
     "metadata": {},
     "output_type": "execute_result"
    }
   ],
   "source": [
    "cb.mean()"
   ]
  },
  {
   "cell_type": "code",
   "execution_count": 12,
   "metadata": {},
   "outputs": [
    {
     "data": {
      "image/png": "[encoded data removed]",
      "text/plain": [
       "<Figure size 432x288 with 1 Axes>"
      ]
     },
     "metadata": {
      "needs_background": "light"
     },
     "output_type": "display_data"
    }
   ],
   "source": [
    "cm, cb, fm, fb, sl = rf(data, 0.25, 280, 'entropy', 10)"
   ]
  },
  {
   "cell_type": "code",
   "execution_count": 84,
   "metadata": {},
   "outputs": [],
   "source": [
    "df1 = pd.concat([pd.read_csv('../ppnnw5.csv')[['Gen', 'die']], pd.read_csv('../ppnnw6.csv').iloc[:,10:]], axis = 1)\n",
    "df1 = df1.loc[df1['die'] == 'no']\n",
    "df1.loc[df1['Gen'] == 'ssRNA(+)', 'Gen'] = 0\n",
    "df1.loc[df1['Gen'] == 'ssRNA(+)i', 'Gen'] = 0\n",
    "df1.loc[df1['Gen'] == 'ssRNA(-)', 'Gen'] = 1\n",
    "df1.loc[df1['Gen'] == 'ssRNA(-)g', 'Gen'] = 1\n",
    "cv, sl = rf(df1, 0.25, 200, 'entropy', 10)\n",
    "a = a + list(df1.iloc[:,2:].columns[sl.get_support()])"
   ]
  },
  {
   "cell_type": "code",
   "execution_count": 86,
   "metadata": {},
   "outputs": [],
   "source": [
    "b = [s for s in a if len(s) == 6]\n",
    "c = [s for s in a if len(s) != 6]"
   ]
  },
  {
   "cell_type": "code",
   "execution_count": 87,
   "metadata": {},
   "outputs": [],
   "source": [
    "with open('pn f1', 'w') as f:\n",
    "    for item in a:\n",
    "        f.write(item)\n",
    "        f.write('\\n')"
   ]
  },
  {
   "cell_type": "code",
   "execution_count": 97,
   "metadata": {},
   "outputs": [
    {
     "data": {
      "text/plain": [
       "array([0.95042781, 0.95921438, 0.92466885, 0.95921438, 0.96777894,\n",
       "       0.94909091, 0.94909091, 0.93980176, 0.9669386 , 0.89239548])"
      ]
     },
     "execution_count": 97,
     "metadata": {},
     "output_type": "execute_result"
    }
   ],
   "source": [
    "cv"
   ]
  },
  {
   "cell_type": "code",
   "execution_count": 93,
   "metadata": {},
   "outputs": [
    {
     "data": {
      "image/png": "[encoded data removed]",
      "text/plain": [
       "<Figure size 432x288 with 1 Axes>"
      ]
     },
     "metadata": {
      "needs_background": "light"
     },
     "output_type": "display_data"
    }
   ],
   "source": [
    "df1 = pd.concat([pd.read_csv('../ppnnw5.csv')[['Gen', 'die']], pd.read_csv('../ppnnw5.csv')[c],\n",
    "                 pd.read_csv('../ppnnw6.csv')[b]], axis = 1)\n",
    "df1 = df1.loc[df1['die'] == 'no']\n",
    "df1.loc[df1['Gen'] == 'ssRNA(+)', 'Gen'] = 0\n",
    "df1.loc[df1['Gen'] == 'ssRNA(+)i', 'Gen'] = 0\n",
    "df1.loc[df1['Gen'] == 'ssRNA(-)', 'Gen'] = 1\n",
    "df1.loc[df1['Gen'] == 'ssRNA(-)g', 'Gen'] = 1\n",
    "cv, sl = rf(df1, 0.25, 200, 'entropy', 10)"
   ]
  },
  {
   "cell_type": "code",
   "execution_count": null,
   "metadata": {},
   "outputs": [],
   "source": [
    "# data = pd.concat([df1,df2], axis = 0).reset_index(drop = True)\n",
    "\n",
    "# currentmax = 0\n",
    "# sel = []\n",
    "# for i1 in range(10):\n",
    "#     wd1 = pd.concat([data.iloc[:, :2], data.iloc[:,sel]], axis = 1)\n",
    "#     for i in range(2,len(data.columns)):\n",
    "#         wd = pd.concat([wd1, data.iloc[:,i]], axis = 1)\n",
    "#         cv = rf(wd, 0, 200, 'entropy', 10)\n",
    "#         em = cv.mean() / cv.std()\n",
    "#         if em > currentmax:\n",
    "#             best = i\n",
    "#             currentmax = em           \n",
    "    \n",
    "#     sel.append(best)    \n",
    "#     print(i1)\n"
   ]
  },
  {
   "cell_type": "code",
   "execution_count": 30,
   "metadata": {
    "collapsed": true
   },
   "outputs": [
    {
     "data": {
      "text/plain": [
       "array([False, False, False, False, False,  True, False, False, False,\n",
       "       False, False, False, False, False, False,  True, False, False,\n",
       "       False, False, False, False,  True, False, False,  True, False,\n",
       "        True, False, False, False, False, False, False, False, False,\n",
       "        True, False, False, False, False, False,  True, False, False,\n",
       "        True,  True,  True, False, False, False, False, False,  True,\n",
       "        True, False, False, False, False,  True,  True, False, False,\n",
       "       False,  True,  True, False, False, False, False, False, False,\n",
       "       False, False,  True,  True,  True, False, False, False, False,\n",
       "       False,  True, False, False, False, False, False, False, False,\n",
       "       False, False, False, False, False,  True, False, False, False,\n",
       "       False, False, False, False, False, False, False, False, False,\n",
       "       False, False, False,  True, False, False, False, False, False,\n",
       "       False,  True, False, False, False, False, False, False, False,\n",
       "       False, False, False, False, False, False,  True, False, False,\n",
       "       False, False, False, False, False, False,  True,  True, False,\n",
       "        True, False,  True, False, False, False, False, False, False,\n",
       "       False, False, False, False, False, False, False, False, False,\n",
       "        True, False, False, False, False,  True,  True, False, False,\n",
       "       False, False, False, False, False, False, False, False,  True,\n",
       "       False, False, False, False, False, False, False,  True, False,\n",
       "       False, False,  True, False,  True, False, False, False, False,\n",
       "       False,  True, False, False, False, False, False, False, False,\n",
       "        True, False, False, False,  True, False, False,  True,  True,\n",
       "       False,  True,  True,  True, False,  True,  True, False, False,\n",
       "       False,  True,  True, False, False, False, False, False, False,\n",
       "       False, False, False])"
      ]
     },
     "execution_count": 30,
     "metadata": {},
     "output_type": "execute_result"
    }
   ],
   "source": [
    "sl.get_support()"
   ]
  },
  {
   "cell_type": "code",
   "execution_count": 50,
   "metadata": {},
   "outputs": [
    {
     "data": {
      "text/plain": [
       "115"
      ]
     },
     "execution_count": 50,
     "metadata": {},
     "output_type": "execute_result"
    }
   ],
   "source": [
    "len(d)"
   ]
  },
  {
   "cell_type": "code",
   "execution_count": 49,
   "metadata": {},
   "outputs": [
    {
     "data": {
      "text/plain": [
       "47"
      ]
     },
     "execution_count": 49,
     "metadata": {},
     "output_type": "execute_result"
    }
   ],
   "source": [
    "len(e)"
   ]
  },
  {
   "cell_type": "code",
   "execution_count": null,
   "metadata": {},
   "outputs": [],
   "source": [
    "d = list(data.iloc[:,2:].columns[sl.get_support()])"
   ]
  },
  {
   "cell_type": "code",
   "execution_count": 48,
   "metadata": {},
   "outputs": [],
   "source": [
    "e = list(data.iloc[:,2:].columns[sl.get_support()])"
   ]
  },
  {
   "cell_type": "code",
   "execution_count": null,
   "metadata": {},
   "outputs": [],
   "source": [
    "len(a + b + c + d)"
   ]
  },
  {
   "cell_type": "code",
   "execution_count": null,
   "metadata": {},
   "outputs": [],
   "source": [
    "for i in range(1000):\n",
    "    t1, t2 = (mannwhitneyu(df1.iloc[:,i],df2.iloc[:,i]))\n",
    "    if t2 > 0.1:\n",
    "        print(t2)"
   ]
  },
  {
   "cell_type": "code",
   "execution_count": null,
   "metadata": {},
   "outputs": [],
   "source": [
    "data = pd.concat([df1, df2], axis = 0).reset_index(drop = True)"
   ]
  },
  {
   "cell_type": "code",
   "execution_count": null,
   "metadata": {},
   "outputs": [],
   "source": [
    "a = data.describe().transpose()"
   ]
  },
  {
   "cell_type": "code",
   "execution_count": null,
   "metadata": {},
   "outputs": [],
   "source": [
    "a['CoV'] = a['std'] / a['mean']"
   ]
  },
  {
   "cell_type": "code",
   "execution_count": null,
   "metadata": {},
   "outputs": [],
   "source": [
    "b = df1.describe().transpose()"
   ]
  },
  {
   "cell_type": "code",
   "execution_count": null,
   "metadata": {},
   "outputs": [],
   "source": [
    "b['CoV'] = b['std'] / b['mean']"
   ]
  },
  {
   "cell_type": "code",
   "execution_count": null,
   "metadata": {},
   "outputs": [],
   "source": [
    "b.sort_values(by='CoV')"
   ]
  },
  {
   "cell_type": "code",
   "execution_count": null,
   "metadata": {},
   "outputs": [],
   "source": [
    "a.sort_values(by='CoV')[-60:]"
   ]
  },
  {
   "cell_type": "code",
   "execution_count": null,
   "metadata": {},
   "outputs": [],
   "source": [
    "a.sort_values(by='CoV')[-50:].index"
   ]
  },
  {
   "cell_type": "code",
   "execution_count": null,
   "metadata": {},
   "outputs": [],
   "source": []
  }
 ],
 "metadata": {
  "kernelspec": {
   "display_name": "Python 3",
   "language": "python",
   "name": "python3"
  },
  "language_info": {
   "codemirror_mode": {
    "name": "ipython",
    "version": 3
   },
   "file_extension": ".py",
   "mimetype": "text/x-python",
   "name": "python",
   "nbconvert_exporter": "python",
   "pygments_lexer": "ipython3",
   "version": "3.8.2"
  }
 },
 "nbformat": 4,
 "nbformat_minor": 4
}
