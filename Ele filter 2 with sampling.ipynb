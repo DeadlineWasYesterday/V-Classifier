{
 "cells": [
  {
   "cell_type": "code",
   "execution_count": null,
   "metadata": {},
   "outputs": [
    {
     "name": "stdout",
     "output_type": "stream",
     "text": [
      "99 challenger iterations remaining.\n",
      "98 challenger iterations remaining.\n",
      "97 challenger iterations remaining.\n",
      "96 challenger iterations remaining.\n",
      "95 challenger iterations remaining.\n",
      "94 challenger iterations remaining.\n",
      "93 challenger iterations remaining.\n",
      "92 challenger iterations remaining.\n",
      "91 challenger iterations remaining.\n",
      "90 challenger iterations remaining.\n",
      "89 challenger iterations remaining.\n",
      "88 challenger iterations remaining.\n"
     ]
    }
   ],
   "source": [
    "import numpy as np\n",
    "import pandas as pd\n",
    "import random\n",
    "import matplotlib.pyplot as plt\n",
    "import seaborn as sns\n",
    "\n",
    "def featsrc(rp1, rn1):    \n",
    "    \n",
    "    res = pd.concat([rp1,rn1], axis = 0).reset_index(drop = True)\n",
    "    \n",
    "    rpd = pd.concat([rp1.quantile(q=0.05), rp1.quantile(q=0.10), rp1.quantile(q=0.90), rp1.quantile(q=0.95)], axis=1)\n",
    "    rnd = pd.concat([rn1.quantile(q=0.05), rn1.quantile(q=0.10), rn1.quantile(q=0.90), rn1.quantile(q=0.95)], axis=1)\n",
    "    \n",
    "    odf = pd.DataFrame(index = rpd.index, columns= rpd.columns)\n",
    "\n",
    "    for i3 in rpd.index:\n",
    "        odf.loc[i3,0.05] = max(rpd.loc[i3,0.05], rnd.loc[i3,0.05])\n",
    "        odf.loc[i3,0.10] = max(rpd.loc[i3,0.10], rnd.loc[i3,0.10])\n",
    "        odf.loc[i3,0.90] = min(rpd.loc[i3,0.90], rnd.loc[i3,0.90])\n",
    "        odf.loc[i3,0.95] = min(rpd.loc[i3,0.95], rnd.loc[i3,0.95])\n",
    "    \n",
    "    odf['in 90'] = 0\n",
    "    odf['in 80'] = 0\n",
    "\n",
    "    for i in res.index:\n",
    "        for c in res.columns:\n",
    "            if odf.loc[c,0.05] < res.loc[i,c] < odf.loc[c,0.95]:\n",
    "                odf.loc[c, 'in 90'] = odf.loc[c, 'in 90'] + 1\n",
    "\n",
    "                if odf.loc[c,0.10] < res.loc[i,c] < odf.loc[c,0.90]:\n",
    "                    odf.loc[c, 'in 80'] = odf.loc[c, 'in 80'] + 1\n",
    "    \n",
    "    return odf.sort_values(by=['in 80', 'in 90'])[:200].index\n",
    "\n",
    "\n",
    "#sample df1 into 440 entries\n",
    "pndf = pd.read_csv('pndf.csv')\n",
    "res = pd.read_csv('res 340.csv')\n",
    "\n",
    "fdf = pd.DataFrame(index = res.columns, columns = ['challenger', 'scontrol', 'pcontrol'])\n",
    "fdf['challenger'] = 0\n",
    "fdf['scontrol'] = 0\n",
    "fdf['pcontrol'] = 0\n",
    "\n",
    "#challenger\n",
    "for i in range(100):\n",
    "    df1 = pd.concat([pndf, res], axis = 1)\n",
    "    p = df1.loc[df1['Gen'] == 'ssRNA(+)'].sample(220).reset_index(drop = True)\n",
    "    n = df1.loc[df1['Gen'] == 'ssRNA(-)'].sample(220).reset_index(drop = True)\n",
    "    rp1 = p.iloc[:,8:]\n",
    "    rn1 = n.iloc[:,8:]\n",
    "    feats = featsrc(rp1,rn1)\n",
    "    c = 200\n",
    "    for f in feats:\n",
    "        fdf.loc[f,'challenger'] = fdf.loc[f,'challenger'] + c\n",
    "        c-=1\n",
    "    \n",
    "    #scontrol score\n",
    "    df1 = pd.concat([p,n], axis = 0).reset_index(drop = True)    \n",
    "    df1['Gen'] = 0\n",
    "    rindex = np.random.choice(len(df1), 220, replace=False)\n",
    "    for i2 in rindex:\n",
    "        df1.loc[i2,'Gen'] = 1      \n",
    "\n",
    "    p = df1.loc[df1['Gen'] == 0].sample(220).reset_index(drop = True)\n",
    "    n = df1.loc[df1['Gen'] == 1].sample(220).reset_index(drop = True)\n",
    "    rp1 = p.iloc[:,8:]\n",
    "    rn1 = n.iloc[:,8:]\n",
    "    feats = featsrc(rp1,rn1)\n",
    "    c = 200\n",
    "    for f in feats:\n",
    "        fdf.loc[f,'scontrol'] = fdf.loc[f,'scontrol'] + c\n",
    "        c-=1\n",
    "    print('%d challenger iterations remaining.' % (99-i))\n",
    "    \n",
    "#control\n",
    "for i in range(100):    \n",
    "    df1 = pd.concat([pndf, res], axis = 1)\n",
    "    p = df1.loc[df1['Gen'] == 'ssRNA(+)'].sample(220).reset_index(drop = True)\n",
    "    n = df1.loc[df1['Gen'] == 'ssRNA(-)'].sample(220).reset_index(drop = True)\n",
    "    df1 = pd.concat([p,n], axis = 0).reset_index(drop = True)\n",
    "    df1['Gen'] = 0    \n",
    "    rindex = np.random.choice(len(df1), 220, replace=False)\n",
    "    for i2 in rindex:\n",
    "        df1.loc[i2,'Gen'] = 1   \n",
    "    p = df1.loc[df1['Gen'] == 0].sample(220).reset_index(drop = True)\n",
    "    n = df1.loc[df1['Gen'] == 1].sample(220).reset_index(drop = True)\n",
    "    rp1 = p.iloc[:,8:]\n",
    "    rn1 = n.iloc[:,8:]\n",
    "\n",
    "    feats = featsrc(rp1,rn1)\n",
    "    c = 200\n",
    "    for f in feats:\n",
    "        fdf.loc[f,'pcontrol'] = fdf.loc[f,'pcontrol'] + c\n",
    "        c-=1\n",
    "    print('%d control iterations remaining.' % (99 - i))"
   ]
  },
  {
   "cell_type": "code",
   "execution_count": 45,
   "metadata": {},
   "outputs": [],
   "source": [
    "srtf = fdf.sort_values(by=['result', 'challenger'], ascending = [False, False])"
   ]
  },
  {
   "cell_type": "code",
   "execution_count": 57,
   "metadata": {
    "scrolled": true
   },
   "outputs": [
    {
     "data": {
      "text/plain": [
       "Index(['GGCA', 'GCCA', 'ACG', 'TGAT', 'TCTA', 'TTAA', 'ATTC', 'G', 'TAAG',\n",
       "       'TTAT'],\n",
       "      dtype='object')"
      ]
     },
     "execution_count": 57,
     "metadata": {},
     "output_type": "execute_result"
    }
   ],
   "source": [
    "srtf.loc[srtf['challenger'] > 9000][:10].index"
   ]
  },
  {
   "cell_type": "code",
   "execution_count": null,
   "metadata": {},
   "outputs": [],
   "source": [
    "def split(df1):\n",
    "    p = df1.loc[:219].sample(frac=1).reset_index(drop = True)\n",
    "    n = df1.loc[220:].sample(frac=1).reset_index(drop = True)\n",
    "    ps1 = p.iloc[:88]\n",
    "    ns1 = n.iloc[:88]\n",
    "    ps2 = p.iloc[88:176].reset_index(drop = True)\n",
    "    ns2 = n.iloc[88:176].reset_index(drop = True)\n",
    "    ps3 = p.iloc[176:].reset_index(drop = True)\n",
    "    ns3 = n.iloc[176:].reset_index(drop = True)\n",
    "    \n",
    "    return (ps1,ns1,ps2,ns2,ps3,ns3)"
   ]
  }
 ],
 "metadata": {
  "kernelspec": {
   "display_name": "Python 3",
   "language": "python",
   "name": "python3"
  },
  "language_info": {
   "codemirror_mode": {
    "name": "ipython",
    "version": 3
   },
   "file_extension": ".py",
   "mimetype": "text/x-python",
   "name": "python",
   "nbconvert_exporter": "python",
   "pygments_lexer": "ipython3",
   "version": "3.8.2"
  }
 },
 "nbformat": 4,
 "nbformat_minor": 4
}
