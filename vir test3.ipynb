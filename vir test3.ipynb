{
 "cells": [
  {
   "cell_type": "code",
   "execution_count": null,
   "metadata": {},
   "outputs": [],
   "source": [
    "#Load 131k seq data \n",
    "\n",
    "from Bio import SeqIO\n",
    "import pandas as pd\n",
    "\n",
    "eyed = []\n",
    "name = []\n",
    "desc = []\n",
    "\n",
    "for seq_record in SeqIO.parse('Complete NCBI Virus Genbank only.fasta', \"fasta\"):\n",
    "    eyed.append(seq_record.id)\n",
    "    desc.append(seq_record.description.lower())\n",
    "\n",
    "#All following anomalies in this cell had species name missing\n",
    "#Fix anomaly at index 21244\n",
    "\n",
    "desc[21244] = 'MK293717 |Gemycircularvirus strain RN/Haikou/China| complete genome|complete|China|Rattus norvegicus|Gemycircularvirus'.lower()\n",
    "\n",
    "#Fix anomaly at index 40853\n",
    "\n",
    "desc[40853] = 'mf407276 |bacillus phage vb_bvep-goe6| complete genome|complete||bacillus velezensis fzb42|bacillus phage'\n",
    "\n",
    "#Fix anomaly at index 50896\n",
    "\n",
    "desc[50896] = 'kx349291 |cyanophage s-rim44 isolate es_42_0910| complete genome|complete|usa|synechococcus|cyanophage'\n",
    "\n",
    "#Fix other cyanophage anomalies\n",
    "\n",
    "c = 0\n",
    "l = []\n",
    "for i in desc:\n",
    "    if i[-1] == '|':\n",
    "        l.append(c)\n",
    "    c+=1\n",
    "    \n",
    "for i in l:\n",
    "    desc[i] = desc[i] + 'cyanophage' "
   ]
  },
  {
   "cell_type": "code",
   "execution_count": null,
   "metadata": {},
   "outputs": [],
   "source": [
    "#Species name missing detection\n",
    "c = 0\n",
    "l = []\n",
    "for i in desc:\n",
    "    if i[-1] == '|':\n",
    "        print(i, c)\n",
    "    c+=1"
   ]
  },
  {
   "cell_type": "code",
   "execution_count": null,
   "metadata": {},
   "outputs": [],
   "source": [
    "for i in l:\n",
    "    print(desc[i])"
   ]
  },
  {
   "cell_type": "code",
   "execution_count": null,
   "metadata": {},
   "outputs": [],
   "source": [
    "#load sequence id and description into dataframe\n",
    "\n",
    "df = pd.DataFrame({'Sequence description' : desc})\n",
    "df['ID'] = eyed"
   ]
  },
  {
   "cell_type": "code",
   "execution_count": null,
   "metadata": {},
   "outputs": [],
   "source": [
    "#Get species name by taking last '|' split section from description\n",
    "\n",
    "l = [x.split('|')[-1].lower() for x in df['Sequence description']]\n",
    "df['Species'] = l"
   ]
  },
  {
   "cell_type": "code",
   "execution_count": null,
   "metadata": {},
   "outputs": [],
   "source": [
    "#New dataframe with only unique species names\n",
    "\n",
    "df2 = df.drop_duplicates(subset = 'Species')\n",
    "\n",
    "#leaves 17046 rows"
   ]
  },
  {
   "cell_type": "code",
   "execution_count": null,
   "metadata": {},
   "outputs": [],
   "source": [
    "#Shorten species name upto 'virus' for viruses and upto 'phage' for phages\n",
    "\n",
    "tl = list(df2['Species'])\n",
    "tl2 = []\n",
    "\n",
    "for i in tl:\n",
    "    if 'virus' in i:\n",
    "        tl2.append(i.split('virus')[0] + 'virus')\n",
    "    elif 'phage' in i:\n",
    "        tl2.append(i.split('phage')[0] + 'phage')\n",
    "    else:\n",
    "        tl2.append(i)\n",
    "        \n",
    "df2.loc[:, 'Species'] = tl2"
   ]
  },
  {
   "cell_type": "code",
   "execution_count": null,
   "metadata": {},
   "outputs": [],
   "source": [
    "#checking which entries have species names starting with phage or virus\n",
    "\n",
    "# c = 0\n",
    "# for i in tl2:\n",
    "#     if i == 'virus':\n",
    "#         print(tl[c])\n",
    "#     elif i == \"phage\":\n",
    "#         print(tl[c])\n",
    "#     c+=1"
   ]
  },
  {
   "cell_type": "code",
   "execution_count": null,
   "metadata": {},
   "outputs": [],
   "source": [
    "#if you want to look at the the weridest species names\n",
    "\n",
    "# for i in df2['Species'].tolist():\n",
    "#     if 'virus' not in i and 'phage' not in i and 'viroid' not in i and 'viridae' not in i and 'satellite' not in i:\n",
    "#         print(i)"
   ]
  },
  {
   "cell_type": "code",
   "execution_count": null,
   "metadata": {},
   "outputs": [],
   "source": [
    "#Drop duplicates on Species again\n",
    "\n",
    "df2 = df2.drop_duplicates(subset = 'Species').reset_index(drop= True)\n",
    "\n",
    "#remove just 'virus' at index 688\n",
    "#100% make sure this code does not run twice\n",
    "df2 = df2.drop(axis = 0, index = 688).reset_index(drop= True)\n",
    "\n",
    "#leaves 4818 rows\n",
    "\n",
    "#Making new 'Genome type' column\n",
    "\n",
    "df2['Genome type'] = 'dunno'"
   ]
  },
  {
   "cell_type": "markdown",
   "metadata": {},
   "source": [
    "End of primary filtering for species in bulk sequence data file\n",
    "Start of genome type labelling"
   ]
  },
  {
   "cell_type": "markdown",
   "metadata": {},
   "source": [
    "Using ViRAD .txt files "
   ]
  },
  {
   "cell_type": "code",
   "execution_count": null,
   "metadata": {},
   "outputs": [],
   "source": [
    "#loading files into lists p, n and d\n",
    "\n",
    "f = open('plus ssRNA.txt', 'r')\n",
    "p = f.readlines()\n",
    "f.close()\n",
    "f = open('minus ssRNA.txt', 'r')\n",
    "n = f.readlines()\n",
    "f.close()\n",
    "f = open('dsRNA.txt', 'r')\n",
    "d = f.readlines()\n",
    "f.close()"
   ]
  },
  {
   "cell_type": "code",
   "execution_count": null,
   "metadata": {},
   "outputs": [],
   "source": [
    "#join p, n and d into three large strings\n",
    "\n",
    "p2 = ''\n",
    "p2 = p2.join(p).lower()\n",
    "n2 = ''\n",
    "n2 = n2.join(n).lower()\n",
    "d2 = ''\n",
    "d2 = d2.join(d).lower()"
   ]
  },
  {
   "cell_type": "markdown",
   "metadata": {},
   "source": [
    "Anomaly detection"
   ]
  },
  {
   "cell_type": "code",
   "execution_count": null,
   "metadata": {},
   "outputs": [],
   "source": [
    "#found both in p2 and n2\n",
    "\n",
    "for i in df2['Species'].tolist():\n",
    "    if i in p2 and i in n2:\n",
    "        print('wtf', i, df2['Species'].tolist().index(i))\n",
    "\n",
    "##Reveals 3 anomalies. output: wtf cosavirus 174 \\n wtf virus 688 \\n wtf  2403\n",
    "#Hardcoded species name to species name missing values\n",
    "#Cosavirus is probably plus ssRNA. Manually annotated in cell below\n",
    "#hardcoded removal of just 'virus' from df2 in cell above"
   ]
  },
  {
   "cell_type": "code",
   "execution_count": null,
   "metadata": {},
   "outputs": [],
   "source": [
    "#found both in p2 and d2\n",
    "\n",
    "for i in df2['Species'].tolist():\n",
    "    if i in p2 and i in d2:\n",
    "        print('wtf', i, df2['Species'].tolist().index(i))\n",
    "        \n",
    "        \n",
    "#gives output wtf pseudomonas phage 27 \\n wtf phage 49 \\n wtf rna virus 305\n",
    "#d2 has 5 pseudomonas phage strains and p2 has 2. Hoping to manually hardcode them below\n",
    "#rna virus comes from 'rna virus hoopoe/bbanka01/2015/hun' which has unknown genome. hardlabelling\n",
    "df2.loc[df2['Species'] == 'rna virus', 'Species'] = 'rna virus hoopoe'\n",
    "df2.loc[df2['Species'] == 'rna virus hoopoe', 'Genome type'] = 'unknown RNA'\n",
    "\n",
    "# phage 49 will be hard to fix for reasons hard to explain rn. Will ignore for now."
   ]
  },
  {
   "cell_type": "code",
   "execution_count": null,
   "metadata": {},
   "outputs": [],
   "source": [
    "#found both in n2 and d2\n",
    "\n",
    "for i in df2['Species'].tolist():\n",
    "    if i in n2 and i in d2:\n",
    "        print('wtf', i, df2['Species'].tolist().index(i))\n",
    "        \n",
    "        \n",
    "#gives output: wtf yam virus 1017\n",
    "#yam virus y is probably an unknown RNA virus. Skimming the paper did not reveal genome type. The family Betaflexiviridae is\n",
    "# probably a plus RNA family, so manually labelling as plus RNA"
   ]
  },
  {
   "cell_type": "code",
   "execution_count": null,
   "metadata": {},
   "outputs": [],
   "source": [
    "#label\n",
    "\n",
    "c = 0 \n",
    "\n",
    "for i in df2['Species'].tolist():\n",
    "    if i in p2:\n",
    "        df2.loc[c, 'Genome type'] = 'plus ssRNA'\n",
    "    elif i in n2:\n",
    "        df2.loc[c, 'Genome type'] = 'minus ssRNA'\n",
    "    elif i in d2:\n",
    "        df2.loc[c, 'Genome type'] = 'dsRNA'\n",
    "    c+=1\n",
    "                \n",
    "##Reveals 3 anomalies. output: wtf cosavirus 174 | wtf virus 688 | wtf  2403\n",
    "#Hardcoded 2403 species name\n",
    "#Cosavirus is probably 'plus ssRNA'. Manually annotating\n",
    "df2.loc[174, 'Genome type'] = 'plus ssRNA'\n",
    "#hardcoded removal of just virus from df2 in cell above\n",
    "#hardcoding 'yam virus' as 'plus ssRNA' \n",
    "df2.loc[1017, 'Genome type'] = 'plus ssRNA'"
   ]
  },
  {
   "cell_type": "code",
   "execution_count": null,
   "metadata": {},
   "outputs": [],
   "source": [
    "#hardcoding 5 + 2 = 7 pseudomonas phages\n",
    "\n",
    "df3 = df.drop_duplicates(subset= 'Species').reset_index(drop = True)\n",
    "\n",
    "pl = []\n",
    "c = 0\n",
    "for i in tl2:\n",
    "    if i == 'pseudomonas phage':\n",
    "        pl.append(c)\n",
    "    c+=1\n",
    "        \n",
    "for i in pl:\n",
    "    if df3.loc[i, 'Species'] in p2:\n",
    "        nd = dict(df3.loc[i, :])\n",
    "        nd['Genome type'] = 'plus ssRNA'\n",
    "        df2 = df2.append(nd, ignore_index=True)\n",
    "    elif df3.loc[i, 'Species'] in d2:\n",
    "        nd = dict(df3.loc[i, :])\n",
    "        nd['Genome type'] = 'dsRNA'\n",
    "        df2 = df2.append(nd, ignore_index=True)\n",
    "        \n",
    "#this adds 1 new plus ssRNA value and 2 new dsRNA values"
   ]
  },
  {
   "cell_type": "code",
   "execution_count": null,
   "metadata": {
    "scrolled": true
   },
   "outputs": [],
   "source": [
    "df2.loc[df2['Genome type'] == 'minus ssRNA']"
   ]
  },
  {
   "cell_type": "code",
   "execution_count": null,
   "metadata": {},
   "outputs": [],
   "source": [
    "len(df2.loc[df2['Genome type'] == 'dsRNA'])"
   ]
  },
  {
   "cell_type": "markdown",
   "metadata": {},
   "source": [
    "Code above labels 579 rows as 'plus ssRNA' and 39 rows as 'minus ssRNA' and 85 as 'dsRNA' and 1 as 'unknown RNA'\n",
    "\n",
    "4116 rows left unlabelled"
   ]
  },
  {
   "cell_type": "markdown",
   "metadata": {},
   "source": [
    "End of using the three ViRAD files.\n",
    "\n",
    "Data could be labelled by matching the family/order names in those files. Will explore later"
   ]
  },
  {
   "cell_type": "markdown",
   "metadata": {},
   "source": [
    "Starting the use of NCBI taxonomy and ICTV file"
   ]
  },
  {
   "cell_type": "code",
   "execution_count": 6,
   "metadata": {},
   "outputs": [],
   "source": [
    "#Loading data\n",
    "\n",
    "df3 = pd.read_csv('tax.csv')\n",
    "df4 = pd.read_csv('ICTV 2018b.v2.csv')"
   ]
  },
  {
   "cell_type": "code",
   "execution_count": 7,
   "metadata": {},
   "outputs": [],
   "source": [
    "#Take first comma separated part of 'Selected lineage' column as a 'Fam' column\n",
    "\n",
    "df3['Fam'] = [x.split(',')[0] for x in df3['Selected lineage'].to_list()]"
   ]
  },
  {
   "cell_type": "code",
   "execution_count": 8,
   "metadata": {},
   "outputs": [],
   "source": [
    "#Make a new dataframe df5 which relates a Family with its Genome type\n",
    "\n",
    "df5 = pd.DataFrame({'Fam' : df4['Family'], 'Genome type' : df4['Genome Composition']})\n",
    "df5 = df5.drop_duplicates(subset = 'Fam')\n",
    "\n",
    "#merge df3 to df5 to get an expected Genome type for every NCBI entry\n",
    "\n",
    "df3 = pd.merge(df3, df5, how = 'left', on = 'Fam')\n",
    "\n",
    "#Out of 212830 entries, only 4028 remain unlabelled\n",
    "#Only 15008 out of 212k entries have a unique taxonomy name"
   ]
  },
  {
   "cell_type": "code",
   "execution_count": 123,
   "metadata": {},
   "outputs": [],
   "source": [
    "# for some reason 'Neighbor' in df3 and 'ID' in df have no common entries.\n",
    "# downloading data from ncbi (not ncbi virus) , that share the same accession number scheme"
   ]
  },
  {
   "cell_type": "code",
   "execution_count": 124,
   "metadata": {},
   "outputs": [],
   "source": [
    "#trying to merge tax data with 131k ncbi seq data"
   ]
  },
  {
   "cell_type": "code",
   "execution_count": 125,
   "metadata": {},
   "outputs": [],
   "source": [
    "df2 = df2.reset_index(drop = True)"
   ]
  },
  {
   "cell_type": "code",
   "execution_count": 126,
   "metadata": {},
   "outputs": [],
   "source": [
    "df3 = df3.drop_duplicates(subset = 'Taxonomy name').reset_index(drop = True)\n",
    "df3['Taxonomy name'] = [x.lower() for x in df3['Taxonomy name'].to_list()]"
   ]
  },
  {
   "cell_type": "code",
   "execution_count": 129,
   "metadata": {},
   "outputs": [],
   "source": [
    "dft = df3[['Taxonomy name', 'Fam', 'Genome type']].copy().reset_index(drop = True)"
   ]
  },
  {
   "cell_type": "code",
   "execution_count": 130,
   "metadata": {},
   "outputs": [],
   "source": [
    "dft = dft.rename(columns = {'Taxonomy name' : 'Species'})"
   ]
  },
  {
   "cell_type": "code",
   "execution_count": 131,
   "metadata": {},
   "outputs": [],
   "source": [
    "dft = pd.merge(df2, dft, on = 'Species', how= 'left')"
   ]
  },
  {
   "cell_type": "code",
   "execution_count": 132,
   "metadata": {},
   "outputs": [
    {
     "data": {
      "text/html": [
       "<div>\n",
       "<style scoped>\n",
       "    .dataframe tbody tr th:only-of-type {\n",
       "        vertical-align: middle;\n",
       "    }\n",
       "\n",
       "    .dataframe tbody tr th {\n",
       "        vertical-align: top;\n",
       "    }\n",
       "\n",
       "    .dataframe thead th {\n",
       "        text-align: right;\n",
       "    }\n",
       "</style>\n",
       "<table border=\"1\" class=\"dataframe\">\n",
       "  <thead>\n",
       "    <tr style=\"text-align: right;\">\n",
       "      <th></th>\n",
       "      <th>Sequence description</th>\n",
       "      <th>ID</th>\n",
       "      <th>Species</th>\n",
       "      <th>Fam</th>\n",
       "      <th>Genome type</th>\n",
       "    </tr>\n",
       "  </thead>\n",
       "  <tbody>\n",
       "    <tr>\n",
       "      <th>109</th>\n",
       "      <td>mn832721 |crimean-congo hemorrhagic fever orth...</td>\n",
       "      <td>MN832721</td>\n",
       "      <td>crimean-congo hemorrhagic fever orthonairovirus</td>\n",
       "      <td>Nairoviridae</td>\n",
       "      <td>ssRNA(-)</td>\n",
       "    </tr>\n",
       "    <tr>\n",
       "      <th>181</th>\n",
       "      <td>mn850091 |andes orthohantavirus strain arch14/...</td>\n",
       "      <td>MN850091</td>\n",
       "      <td>andes orthohantavirus</td>\n",
       "      <td>Hantaviridae</td>\n",
       "      <td>ssRNA(-)</td>\n",
       "    </tr>\n",
       "    <tr>\n",
       "      <th>324</th>\n",
       "      <td>mn264268 |oropouche virus strain ov/homo sapie...</td>\n",
       "      <td>MN264268</td>\n",
       "      <td>oropouche orthobunyavirus</td>\n",
       "      <td>Peribunyaviridae</td>\n",
       "      <td>ssRNA(-)</td>\n",
       "    </tr>\n",
       "    <tr>\n",
       "      <th>359</th>\n",
       "      <td>mk395271 |porcine respirovirus 1 strain gd2018...</td>\n",
       "      <td>MK395271</td>\n",
       "      <td>porcine respirovirus 1</td>\n",
       "      <td>Paramyxoviridae</td>\n",
       "      <td>ssRNA(-)</td>\n",
       "    </tr>\n",
       "    <tr>\n",
       "      <th>371</th>\n",
       "      <td>mn233932 |rabies lyssavirus strain nl.2012.062...</td>\n",
       "      <td>MN233932</td>\n",
       "      <td>rabies lyssavirus</td>\n",
       "      <td>Rhabdoviridae</td>\n",
       "      <td>ssRNA(-)</td>\n",
       "    </tr>\n",
       "    <tr>\n",
       "      <th>...</th>\n",
       "      <td>...</td>\n",
       "      <td>...</td>\n",
       "      <td>...</td>\n",
       "      <td>...</td>\n",
       "      <td>...</td>\n",
       "    </tr>\n",
       "    <tr>\n",
       "      <th>16217</th>\n",
       "      <td>fj905105 |lyssavirus ozernoe| complete genome|...</td>\n",
       "      <td>FJ905105</td>\n",
       "      <td>lyssavirus ozernoe</td>\n",
       "      <td>Rhabdoviridae</td>\n",
       "      <td>ssRNA(-)</td>\n",
       "    </tr>\n",
       "    <tr>\n",
       "      <th>16426</th>\n",
       "      <td>ef646763 |prospect hill virus segment l| compl...</td>\n",
       "      <td>EF646763</td>\n",
       "      <td>prospect hill orthohantavirus</td>\n",
       "      <td>Hantaviridae</td>\n",
       "      <td>ssRNA(-)</td>\n",
       "    </tr>\n",
       "    <tr>\n",
       "      <th>16523</th>\n",
       "      <td>ef533944 |hantavirus z10 segment s| complete s...</td>\n",
       "      <td>EF533944</td>\n",
       "      <td>hantavirus z10</td>\n",
       "      <td>Hantaviridae</td>\n",
       "      <td>ssRNA(-)</td>\n",
       "    </tr>\n",
       "    <tr>\n",
       "      <th>16570</th>\n",
       "      <td>dq284451 |cano delgadito virus strain vhv-574 ...</td>\n",
       "      <td>DQ284451</td>\n",
       "      <td>cano delgadito orthohantavirus</td>\n",
       "      <td>Hantaviridae</td>\n",
       "      <td>ssRNA(-)</td>\n",
       "    </tr>\n",
       "    <tr>\n",
       "      <th>16914</th>\n",
       "      <td>af473851 |goose paramyxovirus sf02| complete g...</td>\n",
       "      <td>AF473851</td>\n",
       "      <td>goose paramyxovirus sf02</td>\n",
       "      <td>Paramyxoviridae</td>\n",
       "      <td>ssRNA(-)</td>\n",
       "    </tr>\n",
       "  </tbody>\n",
       "</table>\n",
       "<p>125 rows × 5 columns</p>\n",
       "</div>"
      ],
      "text/plain": [
       "                                    Sequence description        ID  \\\n",
       "109    mn832721 |crimean-congo hemorrhagic fever orth...  MN832721   \n",
       "181    mn850091 |andes orthohantavirus strain arch14/...  MN850091   \n",
       "324    mn264268 |oropouche virus strain ov/homo sapie...  MN264268   \n",
       "359    mk395271 |porcine respirovirus 1 strain gd2018...  MK395271   \n",
       "371    mn233932 |rabies lyssavirus strain nl.2012.062...  MN233932   \n",
       "...                                                  ...       ...   \n",
       "16217  fj905105 |lyssavirus ozernoe| complete genome|...  FJ905105   \n",
       "16426  ef646763 |prospect hill virus segment l| compl...  EF646763   \n",
       "16523  ef533944 |hantavirus z10 segment s| complete s...  EF533944   \n",
       "16570  dq284451 |cano delgadito virus strain vhv-574 ...  DQ284451   \n",
       "16914  af473851 |goose paramyxovirus sf02| complete g...  AF473851   \n",
       "\n",
       "                                               Species               Fam  \\\n",
       "109    crimean-congo hemorrhagic fever orthonairovirus      Nairoviridae   \n",
       "181                              andes orthohantavirus      Hantaviridae   \n",
       "324                          oropouche orthobunyavirus  Peribunyaviridae   \n",
       "359                             porcine respirovirus 1   Paramyxoviridae   \n",
       "371                                  rabies lyssavirus     Rhabdoviridae   \n",
       "...                                                ...               ...   \n",
       "16217                               lyssavirus ozernoe     Rhabdoviridae   \n",
       "16426                    prospect hill orthohantavirus      Hantaviridae   \n",
       "16523                                   hantavirus z10      Hantaviridae   \n",
       "16570                   cano delgadito orthohantavirus      Hantaviridae   \n",
       "16914                         goose paramyxovirus sf02   Paramyxoviridae   \n",
       "\n",
       "      Genome type  \n",
       "109      ssRNA(-)  \n",
       "181      ssRNA(-)  \n",
       "324      ssRNA(-)  \n",
       "359      ssRNA(-)  \n",
       "371      ssRNA(-)  \n",
       "...           ...  \n",
       "16217    ssRNA(-)  \n",
       "16426    ssRNA(-)  \n",
       "16523    ssRNA(-)  \n",
       "16570    ssRNA(-)  \n",
       "16914    ssRNA(-)  \n",
       "\n",
       "[125 rows x 5 columns]"
      ]
     },
     "execution_count": 132,
     "metadata": {},
     "output_type": "execute_result"
    }
   ],
   "source": [
    "dft.loc[dft['Genome type'] == 'ssRNA(-)']"
   ]
  },
  {
   "cell_type": "markdown",
   "metadata": {},
   "source": [
    "3830 rows labelled"
   ]
  },
  {
   "cell_type": "markdown",
   "metadata": {},
   "source": [
    "exporting 125*2 rows"
   ]
  },
  {
   "cell_type": "code",
   "execution_count": 133,
   "metadata": {},
   "outputs": [],
   "source": [
    "dfx = pd.concat([dft.loc[dft['Genome type'] == 'ssRNA(-)'], dft.loc[dft['Genome type'] == 'ssRNA(+)'].reset_index(drop = True).loc[:124]])"
   ]
  },
  {
   "cell_type": "code",
   "execution_count": 134,
   "metadata": {},
   "outputs": [],
   "source": [
    "dfx = dfx[['Sequence description', 'Species', 'Genome type']].copy().reset_index(drop = True)"
   ]
  },
  {
   "cell_type": "code",
   "execution_count": 3,
   "metadata": {},
   "outputs": [],
   "source": [
    "dfx = pd.read_csv('fib.csv')"
   ]
  },
  {
   "cell_type": "code",
   "execution_count": 4,
   "metadata": {},
   "outputs": [],
   "source": [
    "dexes = []\n",
    "for i in dfx['Sequence description'].to_list():\n",
    "    dexes.append(desc.index(i))"
   ]
  },
  {
   "cell_type": "code",
   "execution_count": 178,
   "metadata": {},
   "outputs": [],
   "source": [
    "dexes = [int(i) for i in dexes]"
   ]
  },
  {
   "cell_type": "code",
   "execution_count": 19,
   "metadata": {},
   "outputs": [],
   "source": [
    "#something impossible happens here\n",
    "\n",
    "sex = []\n",
    "c = 0\n",
    "for seq_record in SeqIO.parse('Complete NCBI Virus Genbank only.fasta', \"fasta\"):\n",
    "    for i in dexes:\n",
    "        if c == i:\n",
    "            sex.append(seq_record.seq)\n",
    "    c+=1\n",
    "print(len(sex))"
   ]
  },
  {
   "cell_type": "code",
   "execution_count": 22,
   "metadata": {},
   "outputs": [],
   "source": [
    "dfx['Seq'] = sex"
   ]
  },
  {
   "cell_type": "code",
   "execution_count": 23,
   "metadata": {},
   "outputs": [],
   "source": [
    "dfy = dfx[['Species', 'Genome type', 'Seq']].copy()"
   ]
  },
  {
   "cell_type": "code",
   "execution_count": 25,
   "metadata": {},
   "outputs": [],
   "source": [
    "dfy.to_csv('fib2.csv', index = False)"
   ]
  },
  {
   "cell_type": "code",
   "execution_count": null,
   "metadata": {},
   "outputs": [],
   "source": [
    "len(sex)"
   ]
  },
  {
   "cell_type": "code",
   "execution_count": 151,
   "metadata": {},
   "outputs": [],
   "source": [
    "dex2 = []\n",
    "for x, y in sex:\n",
    "    dex2.append(y)"
   ]
  },
  {
   "cell_type": "code",
   "execution_count": 160,
   "metadata": {
    "scrolled": true
   },
   "outputs": [],
   "source": [
    "dex2.sort()"
   ]
  },
  {
   "cell_type": "code",
   "execution_count": 167,
   "metadata": {},
   "outputs": [
    {
     "data": {
      "text/plain": [
       "249"
      ]
     },
     "execution_count": 167,
     "metadata": {},
     "output_type": "execute_result"
    }
   ],
   "source": [
    "len(sex)"
   ]
  },
  {
   "cell_type": "code",
   "execution_count": 155,
   "metadata": {},
   "outputs": [],
   "source": [
    "for i in dexes:\n",
    "    if i not in dex2:\n",
    "        print(i)"
   ]
  },
  {
   "cell_type": "code",
   "execution_count": 113,
   "metadata": {},
   "outputs": [],
   "source": [
    "dfx.to_csv('fib.csv', index=False)"
   ]
  },
  {
   "cell_type": "code",
   "execution_count": null,
   "metadata": {
    "scrolled": true
   },
   "outputs": [],
   "source": [
    "#df3['Taxonomy name'] = df3['Taxonomy name'].lower()"
   ]
  },
  {
   "cell_type": "code",
   "execution_count": null,
   "metadata": {
    "scrolled": true
   },
   "outputs": [],
   "source": [
    "'Y15034' in df3['Representative']"
   ]
  },
  {
   "cell_type": "code",
   "execution_count": null,
   "metadata": {},
   "outputs": [],
   "source": [
    "from Bio import Entrez\n",
    "from Bio import SeqIO\n",
    "Entrez.email = \"mysticmacrophage@gmail.com\"\n",
    "with Entrez.efetch(\n",
    "db=\"nucleotide\", rettype=\"gb\", retmode=\"text\", id=\"A04321\"\n",
    ") as handle:\n",
    "    seq_record = SeqIO.read(handle, \"gb\")\n",
    "    print(\"%s with %i features\" % (seq_record.description, len(seq_record.features)))"
   ]
  },
  {
   "cell_type": "code",
   "execution_count": null,
   "metadata": {
    "scrolled": true
   },
   "outputs": [],
   "source": [
    "df3.sort_values(by='Neighbor')"
   ]
  },
  {
   "cell_type": "code",
   "execution_count": null,
   "metadata": {},
   "outputs": [],
   "source": [
    "'A04321' in df['ID'].to_list()"
   ]
  },
  {
   "cell_type": "code",
   "execution_count": null,
   "metadata": {
    "scrolled": true
   },
   "outputs": [],
   "source": [
    "len(df3.loc[df3['Genome type'].isnull()])"
   ]
  },
  {
   "cell_type": "code",
   "execution_count": null,
   "metadata": {},
   "outputs": [],
   "source": [
    "ndf = pd.read_csv('first test label.csv')\n",
    "ndf = ndf[~ndf['Genome type'].isin(['dunno'])].reset_index(drop=True)\n",
    "ndf = ndf.drop(axis = 1, labels = 'Unnamed: 0')"
   ]
  },
  {
   "cell_type": "code",
   "execution_count": null,
   "metadata": {
    "scrolled": true
   },
   "outputs": [],
   "source": [
    "l = []\n",
    "\n",
    "for i in ndf['Sequence description']:\n",
    "    l.append(desc.index(i))"
   ]
  },
  {
   "cell_type": "code",
   "execution_count": null,
   "metadata": {},
   "outputs": [],
   "source": [
    "c = 0\n",
    "for seq_record in SeqIO.parse('Complete NCBI Virus Genbank only.fasta', \"fasta\"):\n",
    "    if c in l:\n",
    "        l.append(seq_record.seq)\n",
    "    c+=1"
   ]
  },
  {
   "cell_type": "code",
   "execution_count": 6,
   "metadata": {},
   "outputs": [],
   "source": [
    "l = []\n",
    "c = 0\n",
    "for seq_record in SeqIO.parse('Complete NCBI Virus Genbank only.fasta', \"fasta\"):\n",
    "    if c in dexes:\n",
    "        l.append(seq_record.seq)\n",
    "    c+=1"
   ]
  },
  {
   "cell_type": "code",
   "execution_count": null,
   "metadata": {},
   "outputs": [],
   "source": [
    "import numpy as np\n",
    "a = np.array(l)\n",
    "a = a.reshape(704, 2, order = 'F')"
   ]
  },
  {
   "cell_type": "code",
   "execution_count": null,
   "metadata": {},
   "outputs": [],
   "source": [
    "ndf['Seq'] = l[704:]"
   ]
  },
  {
   "cell_type": "code",
   "execution_count": null,
   "metadata": {},
   "outputs": [],
   "source": [
    "ndf.to_csv('first test label.csv', index = False)"
   ]
  },
  {
   "cell_type": "code",
   "execution_count": null,
   "metadata": {},
   "outputs": [],
   "source": [
    "l[-5]"
   ]
  },
  {
   "cell_type": "code",
   "execution_count": null,
   "metadata": {},
   "outputs": [],
   "source": [
    "str(l[-5].translate(11))"
   ]
  },
  {
   "cell_type": "code",
   "execution_count": null,
   "metadata": {},
   "outputs": [],
   "source": [
    "from os.path import join\n",
    "from os import listdir, rmdir\n",
    "from shutil import move\n",
    "\n",
    "root = r'C:\\Users\\Michael\\Downloads\\_'\n",
    "# for filename in listdir(join(root, '_')):\n",
    "#     move(join(root, '_', filename), join(root, filename))\n",
    "# rmdir(root)"
   ]
  },
  {
   "cell_type": "code",
   "execution_count": null,
   "metadata": {},
   "outputs": [],
   "source": [
    "listdir(join(root, 'abaca_bunchy_top_virus_uid28697'))"
   ]
  },
  {
   "cell_type": "code",
   "execution_count": null,
   "metadata": {},
   "outputs": [],
   "source": [
    "from Bio import SeqIO\n",
    "import pandas as pd\n",
    "\n",
    "eyed = []\n",
    "name = []\n",
    "desc = []\n",
    "\n",
    "for seq_record in SeqIO.parse('sequence (17).gb', \"genbank\"):\n",
    "    eyed.append(seq_record.id)\n",
    "print(len(eyed))"
   ]
  },
  {
   "cell_type": "code",
   "execution_count": null,
   "metadata": {},
   "outputs": [],
   "source": [
    "import pandas as pd \n",
    "x = pd.read_csv('sequence.seq')"
   ]
  },
  {
   "cell_type": "code",
   "execution_count": null,
   "metadata": {},
   "outputs": [],
   "source": [
    "for i in x:\n",
    "    if x in df['']"
   ]
  }
 ],
 "metadata": {
  "kernelspec": {
   "display_name": "Python 3",
   "language": "python",
   "name": "python3"
  },
  "language_info": {
   "codemirror_mode": {
    "name": "ipython",
    "version": 3
   },
   "file_extension": ".py",
   "mimetype": "text/x-python",
   "name": "python",
   "nbconvert_exporter": "python",
   "pygments_lexer": "ipython3",
   "version": "3.8.2"
  }
 },
 "nbformat": 4,
 "nbformat_minor": 4
}
