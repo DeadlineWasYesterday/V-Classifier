{
 "cells": [
  {
   "cell_type": "code",
   "execution_count": 201,
   "metadata": {},
   "outputs": [],
   "source": [
    "#Load 131k seq data \n",
    "\n",
    "from Bio import SeqIO\n",
    "import pandas as pd\n",
    "\n",
    "eyed = []\n",
    "name = []\n",
    "desc = []\n",
    "\n",
    "for seq_record in SeqIO.parse('Complete NCBI Virus Genbank only.fasta', \"fasta\"):\n",
    "    eyed.append(seq_record.id)\n",
    "    desc.append(seq_record.description.lower())\n",
    "\n",
    "#All following anomalies in this cell had species name missing\n",
    "#Fix anomaly at index 21244\n",
    "\n",
    "desc[21244] = 'MK293717 |Gemycircularvirus strain RN/Haikou/China| complete genome|complete|China|Rattus norvegicus|Gemycircularvirus'.lower()\n",
    "\n",
    "#Fix anomaly at index 40853\n",
    "\n",
    "desc[40853] = 'mf407276 |bacillus phage vb_bvep-goe6| complete genome|complete||bacillus velezensis fzb42|bacillus phage'\n",
    "\n",
    "#Fix anomaly at index 50896\n",
    "\n",
    "desc[50896] = 'kx349291 |cyanophage s-rim44 isolate es_42_0910| complete genome|complete|usa|synechococcus|cyanophage'\n",
    "\n",
    "#Fix other cyanophage anomalies\n",
    "\n",
    "c = 0\n",
    "l = []\n",
    "for i in desc:\n",
    "    if i[-1] == '|':\n",
    "        l.append(c)\n",
    "    c+=1\n",
    "    \n",
    "for i in l:\n",
    "    desc[i] = desc[i] + 'cyanophage' "
   ]
  },
  {
   "cell_type": "code",
   "execution_count": 202,
   "metadata": {},
   "outputs": [],
   "source": [
    "#Species name missing detection\n",
    "c = 0\n",
    "l = []\n",
    "for i in desc:\n",
    "    if i[-1] == '|':\n",
    "        print(i, c)\n",
    "    c+=1"
   ]
  },
  {
   "cell_type": "code",
   "execution_count": 203,
   "metadata": {},
   "outputs": [],
   "source": [
    "for i in l:\n",
    "    print(desc[i])"
   ]
  },
  {
   "cell_type": "code",
   "execution_count": 204,
   "metadata": {},
   "outputs": [],
   "source": [
    "#load sequence id and description into dataframe\n",
    "\n",
    "df = pd.DataFrame({'Sequence description' : desc})\n",
    "df['ID'] = eyed"
   ]
  },
  {
   "cell_type": "code",
   "execution_count": 205,
   "metadata": {},
   "outputs": [],
   "source": [
    "#Get species name by taking last '|' split section from description\n",
    "\n",
    "l = [x.split('|')[-1].lower() for x in df['Sequence description']]\n",
    "df['Species'] = l"
   ]
  },
  {
   "cell_type": "code",
   "execution_count": 206,
   "metadata": {},
   "outputs": [],
   "source": [
    "#New dataframe with only unique species names\n",
    "\n",
    "df2 = df.drop_duplicates(subset = 'Species')\n",
    "\n",
    "#leaves 17046 rows"
   ]
  },
  {
   "cell_type": "code",
   "execution_count": 207,
   "metadata": {},
   "outputs": [
    {
     "name": "stderr",
     "output_type": "stream",
     "text": [
      "c:\\users\\michael\\appdata\\local\\programs\\python\\python38-32\\lib\\site-packages\\pandas\\core\\indexing.py:1048: SettingWithCopyWarning: \n",
      "A value is trying to be set on a copy of a slice from a DataFrame.\n",
      "Try using .loc[row_indexer,col_indexer] = value instead\n",
      "\n",
      "See the caveats in the documentation: https://pandas.pydata.org/pandas-docs/stable/user_guide/indexing.html#returning-a-view-versus-a-copy\n",
      "  self.obj[item_labels[indexer[info_axis]]] = value\n"
     ]
    }
   ],
   "source": [
    "#Shorten species name upto 'virus' for viruses and upto 'phage' for phages\n",
    "\n",
    "tl = list(df2['Species'])\n",
    "tl2 = []\n",
    "\n",
    "for i in tl:\n",
    "    if 'virus' in i:\n",
    "        tl2.append(i.split('virus')[0] + 'virus')\n",
    "    elif 'phage' in i:\n",
    "        tl2.append(i.split('phage')[0] + 'phage')\n",
    "    else:\n",
    "        tl2.append(i)\n",
    "        \n",
    "df2.loc[:, 'Species'] = tl2"
   ]
  },
  {
   "cell_type": "code",
   "execution_count": 208,
   "metadata": {
    "collapsed": true
   },
   "outputs": [
    {
     "name": "stdout",
     "output_type": "stream",
     "text": [
      "phage nbeco005\n",
      "phage nbsal001\n",
      "phage nbsal005\n",
      "phage nbeco002\n",
      "phage nbeco004\n",
      "phage nbeco003\n",
      "phage nbeco001\n",
      "phage nbsal002\n",
      "phage nbsal004\n",
      "phage nbsal003\n",
      "phage apr34_1792\n",
      "phage ys1-2_2434\n",
      "phage fako05_000032f\n",
      "phage fako27_000238f\n",
      "phage fako27_000271f\n",
      "phage apr34_1784\n",
      "phage apr34_1789\n",
      "virus sp. ctgox21\n",
      "phage altai3\n",
      "phage nc-b\n",
      "phage nc-g\n",
      "phage nc-a\n",
      "phage ngi136\n",
      "phage ng54\n",
      "phage nv18\n",
      "phage nv21\n",
      "phage ng55\n",
      "phage ngi4\n",
      "phage 5p_2\n",
      "phage 5p_3\n",
      "phage 5p_1\n",
      "phage pbkp05\n",
      "virus sp.\n",
      "phage 206\n",
      "phage 203\n",
      "phage medpe-swcel-c56\n",
      "phage nctb\n"
     ]
    }
   ],
   "source": [
    "#checking which entries have species names starting with phage or virus\n",
    "\n",
    "# c = 0\n",
    "# for i in tl2:\n",
    "#     if i == 'virus':\n",
    "#         print(tl[c])\n",
    "#     elif i == \"phage\":\n",
    "#         print(tl[c])\n",
    "#     c+=1"
   ]
  },
  {
   "cell_type": "code",
   "execution_count": 209,
   "metadata": {
    "collapsed": true
   },
   "outputs": [
    {
     "name": "stdout",
     "output_type": "stream",
     "text": [
      "synchytrium chytrid fungus meld element\n",
      "possum hepacivrus\n",
      "picornavirales sp.\n",
      "caudovirales sp. ctown3\n",
      "reptile-associated circular dna molecule\n",
      "insect-associated ssdna molecule\n",
      "caudovirales gx15bay\n",
      "pseudomonas aeruginosa hage pazq-1\n",
      "circular genetic element sp.\n",
      "avian hdv-like agent\n",
      "caudovirales sp.\n",
      "hyposidra talaca npv\n",
      "gokushovirinae environmental samples\n",
      "chimpanzee faeces associated circular dna molecule 1\n",
      "bovine faeces associated circular dna molecule 1\n",
      "porcine faeces associated circular dna molecule-1\n",
      "lake sarah-associated circular molecule 3\n",
      "lake sarah-associated circular molecule 5\n",
      "lake sarah-associated circular molecule 8\n",
      "lake sarah-associated circular molecule 12\n",
      "lake sarah-associated circular molecule 10\n",
      "lake sarah-associated circular molecule 11\n",
      "lake sarah-associated circular molecule 4\n",
      "lake sarah-associated circular molecule 6\n",
      "lake sarah-associated circular molecule 7\n",
      "lake sarah-associated circular molecule 1\n",
      "lake sarah-associated circular molecule 9\n",
      "lake sarah-associated circular molecule 2\n",
      "ctenophore-associated circular genome 3\n",
      "ctenophore-associated circular genome 1\n",
      "ctenophore-associated circular genome 4\n",
      "btrf-alphacov/yn2012\n",
      "gokushovirinae gnx3r\n",
      "gokushovirinae gair4\n",
      "hermit crab associated circular genome\n",
      "artemia melana sponge associated circular genome\n",
      "gokushovirinae bog1183_53\n",
      "gokushovirinae fen672_31\n",
      "gokushovirinae bog5712_52\n",
      "gokushovirinae fen7875_21\n",
      "gokushovirinae bog8989_22\n",
      "condylorrhiza vestigialis mnpv\n",
      "sewage-associated circular dna molecule\n",
      "sewage-associated circular dna molecule-3\n",
      "sewage-associated circular dna molecule-1\n",
      "sewage-associated circular dna molecule-2\n",
      "poscv kor j481\n",
      "galidia erv\n",
      "sauropus leaf curl disease associated dna beta\n",
      "tylcaxv-sic2-[it:sic2/5:04]\n",
      "tobacco bushy top disease-associated rna\n",
      "neodiprion abietis npv\n",
      "luffa puckering and leaf distortion-associated dna beta\n",
      "cowpea severe leaf curl-associated dna beta\n"
     ]
    }
   ],
   "source": [
    "#if you want to look at the the weridest species names\n",
    "\n",
    "# for i in df2['Species'].tolist():\n",
    "#     if 'virus' not in i and 'phage' not in i and 'viroid' not in i and 'viridae' not in i and 'satellite' not in i:\n",
    "#         print(i)"
   ]
  },
  {
   "cell_type": "code",
   "execution_count": 210,
   "metadata": {},
   "outputs": [],
   "source": [
    "#Drop duplicates on Species again\n",
    "\n",
    "df2 = df2.drop_duplicates(subset = 'Species').reset_index(drop= True)\n",
    "\n",
    "#remove just 'virus' at index 688\n",
    "#100% make sure this code does not run twice\n",
    "df2 = df2.drop(axis = 0, index = 688).reset_index(drop= True)\n",
    "\n",
    "#leaves 4818 rows\n",
    "\n",
    "#Making new 'Genome type' column\n",
    "\n",
    "df2['Genome type'] = 'dunno'"
   ]
  },
  {
   "cell_type": "markdown",
   "metadata": {},
   "source": [
    "End of primary filtering for species in bulk sequence data file\n",
    "Start of genome type labelling"
   ]
  },
  {
   "cell_type": "markdown",
   "metadata": {},
   "source": [
    "Using ViRAD .txt files "
   ]
  },
  {
   "cell_type": "code",
   "execution_count": 211,
   "metadata": {},
   "outputs": [],
   "source": [
    "#loading files into lists p, n and d\n",
    "\n",
    "f = open('plus ssRNA.txt', 'r')\n",
    "p = f.readlines()\n",
    "f.close()\n",
    "f = open('minus ssRNA.txt', 'r')\n",
    "n = f.readlines()\n",
    "f.close()\n",
    "f = open('dsRNA.txt', 'r')\n",
    "d = f.readlines()\n",
    "f.close()"
   ]
  },
  {
   "cell_type": "code",
   "execution_count": 212,
   "metadata": {},
   "outputs": [],
   "source": [
    "#join p, n and d into three large strings\n",
    "\n",
    "p2 = ''\n",
    "p2 = p2.join(p).lower()\n",
    "n2 = ''\n",
    "n2 = n2.join(n).lower()\n",
    "d2 = ''\n",
    "d2 = d2.join(d).lower()"
   ]
  },
  {
   "cell_type": "markdown",
   "metadata": {},
   "source": [
    "Anomaly detection"
   ]
  },
  {
   "cell_type": "code",
   "execution_count": 213,
   "metadata": {},
   "outputs": [
    {
     "name": "stdout",
     "output_type": "stream",
     "text": [
      "wtf cosavirus 174\n"
     ]
    }
   ],
   "source": [
    "#found both in p2 and n2\n",
    "\n",
    "for i in df2['Species'].tolist():\n",
    "    if i in p2 and i in n2:\n",
    "        print('wtf', i, df2['Species'].tolist().index(i))\n",
    "\n",
    "##Reveals 3 anomalies. output: wtf cosavirus 174 \\n wtf virus 688 \\n wtf  2403\n",
    "#Hardcoded species name to species name missing values\n",
    "#Cosavirus is probably plus ssRNA. Manually annotated in cell below\n",
    "#hardcoded removal of just 'virus' from df2 in cell above"
   ]
  },
  {
   "cell_type": "code",
   "execution_count": 232,
   "metadata": {},
   "outputs": [
    {
     "name": "stdout",
     "output_type": "stream",
     "text": [
      "wtf pseudomonas phage 27\n",
      "wtf phage 49\n",
      "wtf rna virus 305\n"
     ]
    }
   ],
   "source": [
    "#found both in p2 and d2\n",
    "\n",
    "for i in df2['Species'].tolist():\n",
    "    if i in p2 and i in d2:\n",
    "        print('wtf', i, df2['Species'].tolist().index(i))\n",
    "        \n",
    "        \n",
    "#gives output wtf pseudomonas phage 27 \\n wtf phage 49 \\n wtf rna virus 305\n",
    "#d2 has 5 pseudomonas phage strains and p2 has 2. Hoping to manually hardcode them below\n",
    "#rna virus comes from 'rna virus hoopoe/bbanka01/2015/hun' which has unknown genome. hardlabelling\n",
    "df2.loc[df2['Species'] == 'rna virus', 'Species'] = 'rna virus hoopoe'\n",
    "df2.loc[df2['Species'] == 'rna virus hoopoe', 'Genome type'] = 'unknown RNA'\n",
    "\n",
    "# phage 49 will be hard to fix for reasons hard to explain rn. Will ignore for now."
   ]
  },
  {
   "cell_type": "code",
   "execution_count": 215,
   "metadata": {},
   "outputs": [
    {
     "name": "stdout",
     "output_type": "stream",
     "text": [
      "wtf yam virus 1017\n"
     ]
    }
   ],
   "source": [
    "#found both in n2 and d2\n",
    "\n",
    "for i in df2['Species'].tolist():\n",
    "    if i in n2 and i in d2:\n",
    "        print('wtf', i, df2['Species'].tolist().index(i))\n",
    "        \n",
    "        \n",
    "#gives output: wtf yam virus 1017\n",
    "#yam virus y is probably an unknown RNA virus. Skimming the paper did not reveal genome type. The family Betaflexiviridae is\n",
    "# probably a plus RNA family, so manually labelling as plus RNA"
   ]
  },
  {
   "cell_type": "code",
   "execution_count": 239,
   "metadata": {},
   "outputs": [],
   "source": [
    "#label\n",
    "\n",
    "c = 0 \n",
    "\n",
    "for i in df2['Species'].tolist():\n",
    "    if i in p2:\n",
    "        df2.loc[c, 'Genome type'] = 'plus ssRNA'\n",
    "    elif i in n2:\n",
    "        df2.loc[c, 'Genome type'] = 'minus ssRNA'\n",
    "    elif i in d2:\n",
    "        df2.loc[c, 'Genome type'] = 'dsRNA'\n",
    "    c+=1\n",
    "                \n",
    "##Reveals 3 anomalies. output: wtf cosavirus 174 | wtf virus 688 | wtf  2403\n",
    "#Hardcoded 2403 species name\n",
    "#Cosavirus is probably 'plus ssRNA'. Manually annotating\n",
    "df2.loc[174, 'Genome type'] = 'plus ssRNA'\n",
    "#hardcoded removal of just virus from df2 in cell above\n",
    "#hardcoding 'yam virus' as 'plus ssRNA' \n",
    "df2.loc[1017, 'Genome type'] = 'plus ssRNA'"
   ]
  },
  {
   "cell_type": "code",
   "execution_count": 303,
   "metadata": {},
   "outputs": [],
   "source": [
    "#hardcoding 5 + 2 = 7 pseudomonas phages\n",
    "\n",
    "df3 = df.drop_duplicates(subset= 'Species').reset_index(drop = True)\n",
    "\n",
    "pl = []\n",
    "c = 0\n",
    "for i in tl2:\n",
    "    if i == 'pseudomonas phage':\n",
    "        pl.append(c)\n",
    "    c+=1\n",
    "        \n",
    "for i in pl:\n",
    "    if df3.loc[i, 'Species'] in p2:\n",
    "        nd = dict(df3.loc[i, :])\n",
    "        nd['Genome type'] = 'plus ssRNA'\n",
    "        df2 = df2.append(nd, ignore_index=True)\n",
    "    elif df3.loc[i, 'Species'] in d2:\n",
    "        nd = dict(df3.loc[i, :])\n",
    "        nd['Genome type'] = 'dsRNA'\n",
    "        df2 = df2.append(nd, ignore_index=True)\n",
    "        \n",
    "#this adds 1 new plus ssRNA value and 2 new dsRNA values"
   ]
  },
  {
   "cell_type": "code",
   "execution_count": 377,
   "metadata": {
    "scrolled": true
   },
   "outputs": [
    {
     "data": {
      "text/html": [
       "<div>\n",
       "<style scoped>\n",
       "    .dataframe tbody tr th:only-of-type {\n",
       "        vertical-align: middle;\n",
       "    }\n",
       "\n",
       "    .dataframe tbody tr th {\n",
       "        vertical-align: top;\n",
       "    }\n",
       "\n",
       "    .dataframe thead th {\n",
       "        text-align: right;\n",
       "    }\n",
       "</style>\n",
       "<table border=\"1\" class=\"dataframe\">\n",
       "  <thead>\n",
       "    <tr style=\"text-align: right;\">\n",
       "      <th></th>\n",
       "      <th>Sequence description</th>\n",
       "      <th>ID</th>\n",
       "      <th>Species</th>\n",
       "      <th>Genome type</th>\n",
       "    </tr>\n",
       "  </thead>\n",
       "  <tbody>\n",
       "    <tr>\n",
       "      <th>19</th>\n",
       "      <td>mh169353 |influenza a virus (a/waterfowl/korea...</td>\n",
       "      <td>MH169353</td>\n",
       "      <td>influenza a virus</td>\n",
       "      <td>minus ssRNA</td>\n",
       "    </tr>\n",
       "    <tr>\n",
       "      <th>248</th>\n",
       "      <td>mn550995 |melon yellow spot virus strain zheji...</td>\n",
       "      <td>MN550995</td>\n",
       "      <td>melon yellow spot virus</td>\n",
       "      <td>minus ssRNA</td>\n",
       "    </tr>\n",
       "    <tr>\n",
       "      <th>313</th>\n",
       "      <td>mn258361 |marburg marburgvirus isolate predict...</td>\n",
       "      <td>MN258361</td>\n",
       "      <td>marburg marburgvirus</td>\n",
       "      <td>minus ssRNA</td>\n",
       "    </tr>\n",
       "    <tr>\n",
       "      <th>355</th>\n",
       "      <td>mn567046 |university of helsinki virus-2 isola...</td>\n",
       "      <td>MN567046</td>\n",
       "      <td>university of helsinki virus</td>\n",
       "      <td>minus ssRNA</td>\n",
       "    </tr>\n",
       "    <tr>\n",
       "      <th>423</th>\n",
       "      <td>mn729604 |avian metapneumovirus isolate hungar...</td>\n",
       "      <td>MN729604</td>\n",
       "      <td>avian metapneumovirus</td>\n",
       "      <td>minus ssRNA</td>\n",
       "    </tr>\n",
       "    <tr>\n",
       "      <th>589</th>\n",
       "      <td>mn745085 |human metapneumovirus isolate bj0077...</td>\n",
       "      <td>MN745085</td>\n",
       "      <td>human metapneumovirus</td>\n",
       "      <td>minus ssRNA</td>\n",
       "    </tr>\n",
       "    <tr>\n",
       "      <th>608</th>\n",
       "      <td>mn038329 |viral hemorrhagic septicemia virus i...</td>\n",
       "      <td>MN038329</td>\n",
       "      <td>viral hemorrhagic septicemia virus</td>\n",
       "      <td>minus ssRNA</td>\n",
       "    </tr>\n",
       "    <tr>\n",
       "      <th>624</th>\n",
       "      <td>mk251241 |european bat lyssavirus isolate 5220...</td>\n",
       "      <td>MK251241</td>\n",
       "      <td>european bat lyssavirus</td>\n",
       "      <td>minus ssRNA</td>\n",
       "    </tr>\n",
       "    <tr>\n",
       "      <th>1109</th>\n",
       "      <td>mh428628 |metapneumovirus sp. isolate ug-ngo-a...</td>\n",
       "      <td>MH428628</td>\n",
       "      <td>metapneumovirus</td>\n",
       "      <td>minus ssRNA</td>\n",
       "    </tr>\n",
       "    <tr>\n",
       "      <th>1680</th>\n",
       "      <td>mk028835 |bundibugyo ebolavirus isolate ebola ...</td>\n",
       "      <td>MK028835</td>\n",
       "      <td>bundibugyo ebolavirus</td>\n",
       "      <td>minus ssRNA</td>\n",
       "    </tr>\n",
       "    <tr>\n",
       "      <th>1880</th>\n",
       "      <td>mf540571 |reston ebolavirus isolate drpz210bg|...</td>\n",
       "      <td>MF540571</td>\n",
       "      <td>reston ebolavirus</td>\n",
       "      <td>minus ssRNA</td>\n",
       "    </tr>\n",
       "    <tr>\n",
       "      <th>1986</th>\n",
       "      <td>mh121169 |sudan ebolavirus isolate ebola virus...</td>\n",
       "      <td>MH121169</td>\n",
       "      <td>sudan ebolavirus</td>\n",
       "      <td>minus ssRNA</td>\n",
       "    </tr>\n",
       "    <tr>\n",
       "      <th>1987</th>\n",
       "      <td>mh121167 |tai forest ebolavirus isolate ebola ...</td>\n",
       "      <td>MH121167</td>\n",
       "      <td>tai forest ebolavirus</td>\n",
       "      <td>minus ssRNA</td>\n",
       "    </tr>\n",
       "    <tr>\n",
       "      <th>2123</th>\n",
       "      <td>mg869084 |influenza b virus (b/bethesda/nih001...</td>\n",
       "      <td>MG869084</td>\n",
       "      <td>influenza b virus</td>\n",
       "      <td>minus ssRNA</td>\n",
       "    </tr>\n",
       "    <tr>\n",
       "      <th>2144</th>\n",
       "      <td>mf594598 |avian paramyxovirus 17 isolate cheon...</td>\n",
       "      <td>MF594598</td>\n",
       "      <td>avian paramyxovirus</td>\n",
       "      <td>minus ssRNA</td>\n",
       "    </tr>\n",
       "    <tr>\n",
       "      <th>2362</th>\n",
       "      <td>mf593932 |arumowot virus isolate ar 1286-64 se...</td>\n",
       "      <td>MF593932</td>\n",
       "      <td>arumowot virus</td>\n",
       "      <td>minus ssRNA</td>\n",
       "    </tr>\n",
       "    <tr>\n",
       "      <th>2661</th>\n",
       "      <td>ky100868 |porcine rubulavirus isolate porv/mx/...</td>\n",
       "      <td>KY100868</td>\n",
       "      <td>porcine rubulavirus</td>\n",
       "      <td>minus ssRNA</td>\n",
       "    </tr>\n",
       "    <tr>\n",
       "      <th>2893</th>\n",
       "      <td>ku239112 |phlebovirus sdyy104/china/2011 segme...</td>\n",
       "      <td>KU239112</td>\n",
       "      <td>phlebovirus</td>\n",
       "      <td>minus ssRNA</td>\n",
       "    </tr>\n",
       "    <tr>\n",
       "      <th>3099</th>\n",
       "      <td>kt868953 |australian bat lyssavirus isolate 15...</td>\n",
       "      <td>KT868953</td>\n",
       "      <td>australian bat lyssavirus</td>\n",
       "      <td>minus ssRNA</td>\n",
       "    </tr>\n",
       "    <tr>\n",
       "      <th>3158</th>\n",
       "      <td>km853163 |hantavirus nmaa82 segment s nucleoca...</td>\n",
       "      <td>KM853163</td>\n",
       "      <td>hantavirus</td>\n",
       "      <td>minus ssRNA</td>\n",
       "    </tr>\n",
       "    <tr>\n",
       "      <th>3361</th>\n",
       "      <td>kp876483 |hybrid snakehead virus| complete gen...</td>\n",
       "      <td>KP876483</td>\n",
       "      <td>siniperca chuatsi rhabdovirus</td>\n",
       "      <td>minus ssRNA</td>\n",
       "    </tr>\n",
       "    <tr>\n",
       "      <th>3459</th>\n",
       "      <td>km360090 |respiratory syncytial virus isolate ...</td>\n",
       "      <td>KM360090</td>\n",
       "      <td>respiratory syncytial virus</td>\n",
       "      <td>minus ssRNA</td>\n",
       "    </tr>\n",
       "    <tr>\n",
       "      <th>3743</th>\n",
       "      <td>kc335496 |razdan virus strain leiv-arm2741 seg...</td>\n",
       "      <td>KC335496</td>\n",
       "      <td>razdan virus</td>\n",
       "      <td>minus ssRNA</td>\n",
       "    </tr>\n",
       "    <tr>\n",
       "      <th>3755</th>\n",
       "      <td>kf234255 |murrumbidgee virus isolate 934 segme...</td>\n",
       "      <td>KF234255</td>\n",
       "      <td>murrumbidgee virus</td>\n",
       "      <td>minus ssRNA</td>\n",
       "    </tr>\n",
       "    <tr>\n",
       "      <th>3761</th>\n",
       "      <td>jx569193 |american bat vesiculovirus tffn-2013...</td>\n",
       "      <td>JX569193</td>\n",
       "      <td>american bat vesiculovirus</td>\n",
       "      <td>minus ssRNA</td>\n",
       "    </tr>\n",
       "    <tr>\n",
       "      <th>3799</th>\n",
       "      <td>kc854417 |brazoran virus segment m| complete s...</td>\n",
       "      <td>KC854417</td>\n",
       "      <td>brazoran virus</td>\n",
       "      <td>minus ssRNA</td>\n",
       "    </tr>\n",
       "    <tr>\n",
       "      <th>3832</th>\n",
       "      <td>jx947861 |influenza c virus (c/eastern india/1...</td>\n",
       "      <td>JX947861</td>\n",
       "      <td>influenza c virus</td>\n",
       "      <td>minus ssRNA</td>\n",
       "    </tr>\n",
       "    <tr>\n",
       "      <th>3864</th>\n",
       "      <td>kc589005 |lone star virus isolate tma 1381 seg...</td>\n",
       "      <td>KC589005</td>\n",
       "      <td>lone star virus</td>\n",
       "      <td>minus ssRNA</td>\n",
       "    </tr>\n",
       "    <tr>\n",
       "      <th>3973</th>\n",
       "      <td>jx403908 |drosophila melanogaster sigma virus ...</td>\n",
       "      <td>JX403908</td>\n",
       "      <td>drosophila melanogaster sigmavirus</td>\n",
       "      <td>minus ssRNA</td>\n",
       "    </tr>\n",
       "    <tr>\n",
       "      <th>4019</th>\n",
       "      <td>jx193798 |ikoma lyssavirus isolate rv2508| com...</td>\n",
       "      <td>JX193798</td>\n",
       "      <td>ikoma lyssavirus</td>\n",
       "      <td>minus ssRNA</td>\n",
       "    </tr>\n",
       "    <tr>\n",
       "      <th>4083</th>\n",
       "      <td>hm639778 |oyo virus segment s nucleocapsid gen...</td>\n",
       "      <td>HM639778</td>\n",
       "      <td>oyo virus</td>\n",
       "      <td>minus ssRNA</td>\n",
       "    </tr>\n",
       "    <tr>\n",
       "      <th>4194</th>\n",
       "      <td>jf502613 |rhabdovirus 9574.1 glycoprotein gene...</td>\n",
       "      <td>JF502613</td>\n",
       "      <td>rhabdovirus</td>\n",
       "      <td>minus ssRNA</td>\n",
       "    </tr>\n",
       "    <tr>\n",
       "      <th>4252</th>\n",
       "      <td>hq644140 |groundnut ringspot and tomato chloro...</td>\n",
       "      <td>HQ644140</td>\n",
       "      <td>groundnut ringspot and tomato chlorotic spot v...</td>\n",
       "      <td>minus ssRNA</td>\n",
       "    </tr>\n",
       "    <tr>\n",
       "      <th>4402</th>\n",
       "      <td>gq410979 |drosophila obscura sigma virus 10a| ...</td>\n",
       "      <td>GQ410979</td>\n",
       "      <td>drosophila obscura sigmavirus</td>\n",
       "      <td>minus ssRNA</td>\n",
       "    </tr>\n",
       "    <tr>\n",
       "      <th>4424</th>\n",
       "      <td>fj905105 |lyssavirus ozernoe| complete genome|...</td>\n",
       "      <td>FJ905105</td>\n",
       "      <td>lyssavirus</td>\n",
       "      <td>minus ssRNA</td>\n",
       "    </tr>\n",
       "    <tr>\n",
       "      <th>4506</th>\n",
       "      <td>ef552433 |tomato zonate spot virus segment s| ...</td>\n",
       "      <td>EF552433</td>\n",
       "      <td>tomato zonate spot virus</td>\n",
       "      <td>minus ssRNA</td>\n",
       "    </tr>\n",
       "    <tr>\n",
       "      <th>4625</th>\n",
       "      <td>dq435829 |simian virus 12| complete genome|com...</td>\n",
       "      <td>DQ435829</td>\n",
       "      <td>simian virus</td>\n",
       "      <td>minus ssRNA</td>\n",
       "    </tr>\n",
       "    <tr>\n",
       "      <th>4680</th>\n",
       "      <td>ay772167 |mopeia lassa reassortant 29 segment ...</td>\n",
       "      <td>AY772167</td>\n",
       "      <td>mopeia lassa virus</td>\n",
       "      <td>minus ssRNA</td>\n",
       "    </tr>\n",
       "    <tr>\n",
       "      <th>4745</th>\n",
       "      <td>af473851 |goose paramyxovirus sf02| complete g...</td>\n",
       "      <td>AF473851</td>\n",
       "      <td>goose paramyxovirus</td>\n",
       "      <td>minus ssRNA</td>\n",
       "    </tr>\n",
       "  </tbody>\n",
       "</table>\n",
       "</div>"
      ],
      "text/plain": [
       "                                   Sequence description        ID  \\\n",
       "19    mh169353 |influenza a virus (a/waterfowl/korea...  MH169353   \n",
       "248   mn550995 |melon yellow spot virus strain zheji...  MN550995   \n",
       "313   mn258361 |marburg marburgvirus isolate predict...  MN258361   \n",
       "355   mn567046 |university of helsinki virus-2 isola...  MN567046   \n",
       "423   mn729604 |avian metapneumovirus isolate hungar...  MN729604   \n",
       "589   mn745085 |human metapneumovirus isolate bj0077...  MN745085   \n",
       "608   mn038329 |viral hemorrhagic septicemia virus i...  MN038329   \n",
       "624   mk251241 |european bat lyssavirus isolate 5220...  MK251241   \n",
       "1109  mh428628 |metapneumovirus sp. isolate ug-ngo-a...  MH428628   \n",
       "1680  mk028835 |bundibugyo ebolavirus isolate ebola ...  MK028835   \n",
       "1880  mf540571 |reston ebolavirus isolate drpz210bg|...  MF540571   \n",
       "1986  mh121169 |sudan ebolavirus isolate ebola virus...  MH121169   \n",
       "1987  mh121167 |tai forest ebolavirus isolate ebola ...  MH121167   \n",
       "2123  mg869084 |influenza b virus (b/bethesda/nih001...  MG869084   \n",
       "2144  mf594598 |avian paramyxovirus 17 isolate cheon...  MF594598   \n",
       "2362  mf593932 |arumowot virus isolate ar 1286-64 se...  MF593932   \n",
       "2661  ky100868 |porcine rubulavirus isolate porv/mx/...  KY100868   \n",
       "2893  ku239112 |phlebovirus sdyy104/china/2011 segme...  KU239112   \n",
       "3099  kt868953 |australian bat lyssavirus isolate 15...  KT868953   \n",
       "3158  km853163 |hantavirus nmaa82 segment s nucleoca...  KM853163   \n",
       "3361  kp876483 |hybrid snakehead virus| complete gen...  KP876483   \n",
       "3459  km360090 |respiratory syncytial virus isolate ...  KM360090   \n",
       "3743  kc335496 |razdan virus strain leiv-arm2741 seg...  KC335496   \n",
       "3755  kf234255 |murrumbidgee virus isolate 934 segme...  KF234255   \n",
       "3761  jx569193 |american bat vesiculovirus tffn-2013...  JX569193   \n",
       "3799  kc854417 |brazoran virus segment m| complete s...  KC854417   \n",
       "3832  jx947861 |influenza c virus (c/eastern india/1...  JX947861   \n",
       "3864  kc589005 |lone star virus isolate tma 1381 seg...  KC589005   \n",
       "3973  jx403908 |drosophila melanogaster sigma virus ...  JX403908   \n",
       "4019  jx193798 |ikoma lyssavirus isolate rv2508| com...  JX193798   \n",
       "4083  hm639778 |oyo virus segment s nucleocapsid gen...  HM639778   \n",
       "4194  jf502613 |rhabdovirus 9574.1 glycoprotein gene...  JF502613   \n",
       "4252  hq644140 |groundnut ringspot and tomato chloro...  HQ644140   \n",
       "4402  gq410979 |drosophila obscura sigma virus 10a| ...  GQ410979   \n",
       "4424  fj905105 |lyssavirus ozernoe| complete genome|...  FJ905105   \n",
       "4506  ef552433 |tomato zonate spot virus segment s| ...  EF552433   \n",
       "4625  dq435829 |simian virus 12| complete genome|com...  DQ435829   \n",
       "4680  ay772167 |mopeia lassa reassortant 29 segment ...  AY772167   \n",
       "4745  af473851 |goose paramyxovirus sf02| complete g...  AF473851   \n",
       "\n",
       "                                                Species  Genome type  \n",
       "19                                    influenza a virus  minus ssRNA  \n",
       "248                             melon yellow spot virus  minus ssRNA  \n",
       "313                                marburg marburgvirus  minus ssRNA  \n",
       "355                        university of helsinki virus  minus ssRNA  \n",
       "423                               avian metapneumovirus  minus ssRNA  \n",
       "589                               human metapneumovirus  minus ssRNA  \n",
       "608                  viral hemorrhagic septicemia virus  minus ssRNA  \n",
       "624                             european bat lyssavirus  minus ssRNA  \n",
       "1109                                    metapneumovirus  minus ssRNA  \n",
       "1680                              bundibugyo ebolavirus  minus ssRNA  \n",
       "1880                                  reston ebolavirus  minus ssRNA  \n",
       "1986                                   sudan ebolavirus  minus ssRNA  \n",
       "1987                              tai forest ebolavirus  minus ssRNA  \n",
       "2123                                  influenza b virus  minus ssRNA  \n",
       "2144                                avian paramyxovirus  minus ssRNA  \n",
       "2362                                     arumowot virus  minus ssRNA  \n",
       "2661                                porcine rubulavirus  minus ssRNA  \n",
       "2893                                        phlebovirus  minus ssRNA  \n",
       "3099                          australian bat lyssavirus  minus ssRNA  \n",
       "3158                                         hantavirus  minus ssRNA  \n",
       "3361                      siniperca chuatsi rhabdovirus  minus ssRNA  \n",
       "3459                        respiratory syncytial virus  minus ssRNA  \n",
       "3743                                       razdan virus  minus ssRNA  \n",
       "3755                                 murrumbidgee virus  minus ssRNA  \n",
       "3761                         american bat vesiculovirus  minus ssRNA  \n",
       "3799                                     brazoran virus  minus ssRNA  \n",
       "3832                                  influenza c virus  minus ssRNA  \n",
       "3864                                    lone star virus  minus ssRNA  \n",
       "3973                 drosophila melanogaster sigmavirus  minus ssRNA  \n",
       "4019                                   ikoma lyssavirus  minus ssRNA  \n",
       "4083                                          oyo virus  minus ssRNA  \n",
       "4194                                        rhabdovirus  minus ssRNA  \n",
       "4252  groundnut ringspot and tomato chlorotic spot v...  minus ssRNA  \n",
       "4402                      drosophila obscura sigmavirus  minus ssRNA  \n",
       "4424                                         lyssavirus  minus ssRNA  \n",
       "4506                           tomato zonate spot virus  minus ssRNA  \n",
       "4625                                       simian virus  minus ssRNA  \n",
       "4680                                 mopeia lassa virus  minus ssRNA  \n",
       "4745                                goose paramyxovirus  minus ssRNA  "
      ]
     },
     "execution_count": 377,
     "metadata": {},
     "output_type": "execute_result"
    }
   ],
   "source": [
    "df2.loc[df2['Genome type'] == 'minus ssRNA']"
   ]
  },
  {
   "cell_type": "code",
   "execution_count": 293,
   "metadata": {},
   "outputs": [
    {
     "data": {
      "text/plain": [
       "83"
      ]
     },
     "execution_count": 293,
     "metadata": {},
     "output_type": "execute_result"
    }
   ],
   "source": [
    "len(df2.loc[df2['Genome type'] == 'dsRNA'])"
   ]
  },
  {
   "cell_type": "markdown",
   "metadata": {},
   "source": [
    "Code above labels 579 rows as 'plus ssRNA' and 39 rows as 'minus ssRNA' and 85 as 'dsRNA' and 1 as 'unknown RNA'\n",
    "\n",
    "4116 rows left unlabelled"
   ]
  },
  {
   "cell_type": "markdown",
   "metadata": {},
   "source": [
    "End of using the three ViRAD files.\n",
    "\n",
    "Data could be labelled by matching the family/order names in those files. Will explore later"
   ]
  },
  {
   "cell_type": "markdown",
   "metadata": {},
   "source": [
    "Starting the use of NCBI taxonomy and ICTV file"
   ]
  },
  {
   "cell_type": "code",
   "execution_count": 320,
   "metadata": {},
   "outputs": [],
   "source": [
    "#Loading data\n",
    "\n",
    "df3 = pd.read_csv('tax.csv')\n",
    "df4 = pd.read_csv('ICTV 2018b.v2.csv')"
   ]
  },
  {
   "cell_type": "code",
   "execution_count": 321,
   "metadata": {},
   "outputs": [],
   "source": [
    "#Take first comma separated part of 'Selected lineage' column as a 'Fam' column\n",
    "\n",
    "df3['Fam'] = [x.split(',')[0] for x in df3['Selected lineage'].to_list()]"
   ]
  },
  {
   "cell_type": "code",
   "execution_count": 328,
   "metadata": {},
   "outputs": [],
   "source": [
    "#Make a new dataframe df5 which relates a Family with its Genome type\n",
    "\n",
    "df5 = pd.DataFrame({'Fam' : df4['Family'], 'Genome type' : df4['Genome Composition']})\n",
    "df5 = df5.drop_duplicates(subset = 'Fam')\n",
    "\n",
    "#merge df3 to df5 to get an expected Genome type for every NCBI entry\n",
    "\n",
    "df3 = pd.merge(df3, df5, how = 'left', on = 'Fam')\n",
    "\n",
    "#Out of 212830 entries, only 4028 remain unlabelled\n",
    "#Only 15008 out of 212k entries have a unique taxonomy name"
   ]
  },
  {
   "cell_type": "code",
   "execution_count": 341,
   "metadata": {},
   "outputs": [
    {
     "data": {
      "text/plain": [
       "15008"
      ]
     },
     "execution_count": 341,
     "metadata": {},
     "output_type": "execute_result"
    }
   ],
   "source": [
    "# for some reason 'Neighbor' in df3 and 'ID' in df have no common entries.\n",
    "# downloading data from ncbi (not ncbi virus) , that share the same accession number scheme"
   ]
  },
  {
   "cell_type": "code",
   "execution_count": 340,
   "metadata": {
    "scrolled": true
   },
   "outputs": [
    {
     "data": {
      "text/html": [
       "<div>\n",
       "<style scoped>\n",
       "    .dataframe tbody tr th:only-of-type {\n",
       "        vertical-align: middle;\n",
       "    }\n",
       "\n",
       "    .dataframe tbody tr th {\n",
       "        vertical-align: top;\n",
       "    }\n",
       "\n",
       "    .dataframe thead th {\n",
       "        text-align: right;\n",
       "    }\n",
       "</style>\n",
       "<table border=\"1\" class=\"dataframe\">\n",
       "  <thead>\n",
       "    <tr style=\"text-align: right;\">\n",
       "      <th></th>\n",
       "      <th>Representative</th>\n",
       "      <th>Neighbor</th>\n",
       "      <th>Host</th>\n",
       "      <th>Selected lineage</th>\n",
       "      <th>Taxonomy name</th>\n",
       "      <th>Segment name</th>\n",
       "      <th>Fam</th>\n",
       "      <th>Genome type</th>\n",
       "    </tr>\n",
       "  </thead>\n",
       "  <tbody>\n",
       "    <tr>\n",
       "      <th>0</th>\n",
       "      <td>NC_003663</td>\n",
       "      <td>HQ420896</td>\n",
       "      <td>human,vertebrates</td>\n",
       "      <td>Poxviridae,Orthopoxvirus,Cowpox virus</td>\n",
       "      <td>Cowpox virus</td>\n",
       "      <td>segment</td>\n",
       "      <td>Poxviridae</td>\n",
       "      <td>dsDNA</td>\n",
       "    </tr>\n",
       "    <tr>\n",
       "      <th>1</th>\n",
       "      <td>NC_003663</td>\n",
       "      <td>KY463519</td>\n",
       "      <td>human,vertebrates</td>\n",
       "      <td>Poxviridae,Orthopoxvirus,Cowpox virus</td>\n",
       "      <td>Cowpox virus</td>\n",
       "      <td>segment</td>\n",
       "      <td>Poxviridae</td>\n",
       "      <td>dsDNA</td>\n",
       "    </tr>\n",
       "    <tr>\n",
       "      <th>2</th>\n",
       "      <td>NC_003663</td>\n",
       "      <td>HQ420897</td>\n",
       "      <td>human,vertebrates</td>\n",
       "      <td>Poxviridae,Orthopoxvirus,Cowpox virus</td>\n",
       "      <td>Cowpox virus</td>\n",
       "      <td>segment</td>\n",
       "      <td>Poxviridae</td>\n",
       "      <td>dsDNA</td>\n",
       "    </tr>\n",
       "    <tr>\n",
       "      <th>3</th>\n",
       "      <td>NC_003663</td>\n",
       "      <td>MK035759</td>\n",
       "      <td>human,vertebrates</td>\n",
       "      <td>Poxviridae,Orthopoxvirus,Cowpox virus</td>\n",
       "      <td>Cowpox virus</td>\n",
       "      <td>segment</td>\n",
       "      <td>Poxviridae</td>\n",
       "      <td>dsDNA</td>\n",
       "    </tr>\n",
       "    <tr>\n",
       "      <th>4</th>\n",
       "      <td>NC_003663</td>\n",
       "      <td>KY569019</td>\n",
       "      <td>human,vertebrates</td>\n",
       "      <td>Poxviridae,Orthopoxvirus,Cowpox virus</td>\n",
       "      <td>Cowpox virus</td>\n",
       "      <td>segment</td>\n",
       "      <td>Poxviridae</td>\n",
       "      <td>dsDNA</td>\n",
       "    </tr>\n",
       "  </tbody>\n",
       "</table>\n",
       "</div>"
      ],
      "text/plain": [
       "  Representative  Neighbor               Host  \\\n",
       "0      NC_003663  HQ420896  human,vertebrates   \n",
       "1      NC_003663  KY463519  human,vertebrates   \n",
       "2      NC_003663  HQ420897  human,vertebrates   \n",
       "3      NC_003663  MK035759  human,vertebrates   \n",
       "4      NC_003663  KY569019  human,vertebrates   \n",
       "\n",
       "                        Selected lineage Taxonomy name Segment name  \\\n",
       "0  Poxviridae,Orthopoxvirus,Cowpox virus  Cowpox virus    segment     \n",
       "1  Poxviridae,Orthopoxvirus,Cowpox virus  Cowpox virus    segment     \n",
       "2  Poxviridae,Orthopoxvirus,Cowpox virus  Cowpox virus    segment     \n",
       "3  Poxviridae,Orthopoxvirus,Cowpox virus  Cowpox virus    segment     \n",
       "4  Poxviridae,Orthopoxvirus,Cowpox virus  Cowpox virus    segment     \n",
       "\n",
       "          Fam Genome type  \n",
       "0  Poxviridae       dsDNA  \n",
       "1  Poxviridae       dsDNA  \n",
       "2  Poxviridae       dsDNA  \n",
       "3  Poxviridae       dsDNA  \n",
       "4  Poxviridae       dsDNA  "
      ]
     },
     "execution_count": 340,
     "metadata": {},
     "output_type": "execute_result"
    }
   ],
   "source": [
    "df3['Taxonomy name'] = df3['Taxonomy name'].lower()"
   ]
  },
  {
   "cell_type": "code",
   "execution_count": 364,
   "metadata": {
    "scrolled": true
   },
   "outputs": [
    {
     "data": {
      "text/plain": [
       "False"
      ]
     },
     "execution_count": 364,
     "metadata": {},
     "output_type": "execute_result"
    }
   ],
   "source": [
    "'Y15034' in df3['Representative']"
   ]
  },
  {
   "cell_type": "code",
   "execution_count": 366,
   "metadata": {},
   "outputs": [
    {
     "data": {
      "text/html": [
       "<div>\n",
       "<style scoped>\n",
       "    .dataframe tbody tr th:only-of-type {\n",
       "        vertical-align: middle;\n",
       "    }\n",
       "\n",
       "    .dataframe tbody tr th {\n",
       "        vertical-align: top;\n",
       "    }\n",
       "\n",
       "    .dataframe thead th {\n",
       "        text-align: right;\n",
       "    }\n",
       "</style>\n",
       "<table border=\"1\" class=\"dataframe\">\n",
       "  <thead>\n",
       "    <tr style=\"text-align: right;\">\n",
       "      <th></th>\n",
       "      <th>Representative</th>\n",
       "      <th>Neighbor</th>\n",
       "      <th>Host</th>\n",
       "      <th>Selected lineage</th>\n",
       "      <th>Taxonomy name</th>\n",
       "      <th>Segment name</th>\n",
       "      <th>Fam</th>\n",
       "      <th>Genome type</th>\n",
       "    </tr>\n",
       "  </thead>\n",
       "  <tbody>\n",
       "    <tr>\n",
       "      <th>34557</th>\n",
       "      <td>NC_001802</td>\n",
       "      <td>A04321</td>\n",
       "      <td>human,vertebrates</td>\n",
       "      <td>Retroviridae,Lentivirus,Human immunodeficiency...</td>\n",
       "      <td>Human immunodeficiency virus 1</td>\n",
       "      <td>segment</td>\n",
       "      <td>Retroviridae</td>\n",
       "      <td>ssRNA-RT</td>\n",
       "    </tr>\n",
       "    <tr>\n",
       "      <th>33594</th>\n",
       "      <td>NC_001802</td>\n",
       "      <td>A07108</td>\n",
       "      <td>human,vertebrates</td>\n",
       "      <td>Retroviridae,Lentivirus,Human immunodeficiency...</td>\n",
       "      <td>Human immunodeficiency virus 1</td>\n",
       "      <td>segment</td>\n",
       "      <td>Retroviridae</td>\n",
       "      <td>ssRNA-RT</td>\n",
       "    </tr>\n",
       "    <tr>\n",
       "      <th>34896</th>\n",
       "      <td>NC_001802</td>\n",
       "      <td>A07116</td>\n",
       "      <td>human,vertebrates</td>\n",
       "      <td>Retroviridae,Lentivirus,Human immunodeficiency...</td>\n",
       "      <td>Human immunodeficiency virus 1</td>\n",
       "      <td>segment</td>\n",
       "      <td>Retroviridae</td>\n",
       "      <td>ssRNA-RT</td>\n",
       "    </tr>\n",
       "    <tr>\n",
       "      <th>35727</th>\n",
       "      <td>NC_001802</td>\n",
       "      <td>A07867</td>\n",
       "      <td>human,vertebrates</td>\n",
       "      <td>Retroviridae,Lentivirus,Human immunodeficiency...</td>\n",
       "      <td>Human immunodeficiency virus 1</td>\n",
       "      <td>segment</td>\n",
       "      <td>Retroviridae</td>\n",
       "      <td>ssRNA-RT</td>\n",
       "    </tr>\n",
       "    <tr>\n",
       "      <th>45577</th>\n",
       "      <td>NC_001616</td>\n",
       "      <td>A08776</td>\n",
       "      <td>land plants</td>\n",
       "      <td>Potyviridae,Potyvirus,Potato virus Y</td>\n",
       "      <td>Potato virus Y</td>\n",
       "      <td>segment</td>\n",
       "      <td>Potyviridae</td>\n",
       "      <td>ssRNA(+)</td>\n",
       "    </tr>\n",
       "    <tr>\n",
       "      <th>...</th>\n",
       "      <td>...</td>\n",
       "      <td>...</td>\n",
       "      <td>...</td>\n",
       "      <td>...</td>\n",
       "      <td>...</td>\n",
       "      <td>...</td>\n",
       "      <td>...</td>\n",
       "      <td>...</td>\n",
       "    </tr>\n",
       "    <tr>\n",
       "      <th>48784</th>\n",
       "      <td>NC_002602</td>\n",
       "      <td>Z96099</td>\n",
       "      <td>land plants</td>\n",
       "      <td>Cucumber mosaic virus satellite RNA</td>\n",
       "      <td>Cucumber mosaic virus satellite RNA</td>\n",
       "      <td>segment</td>\n",
       "      <td>Cucumber mosaic virus satellite RNA</td>\n",
       "      <td>NaN</td>\n",
       "    </tr>\n",
       "    <tr>\n",
       "      <th>47467</th>\n",
       "      <td>NC_003811</td>\n",
       "      <td>Z97357</td>\n",
       "      <td>land plants</td>\n",
       "      <td>Virgaviridae,Tobravirus,Tobacco rattle virus</td>\n",
       "      <td>Tobacco rattle virus</td>\n",
       "      <td>segment RNA 2</td>\n",
       "      <td>Virgaviridae</td>\n",
       "      <td>ssRNA(+)</td>\n",
       "    </tr>\n",
       "    <tr>\n",
       "      <th>150200</th>\n",
       "      <td>NC_003520</td>\n",
       "      <td>Z97873</td>\n",
       "      <td>land plants</td>\n",
       "      <td>Virgaviridae,Pomovirus,Beet soil-borne virus</td>\n",
       "      <td>Beet soil-borne virus</td>\n",
       "      <td>segment RNA 1</td>\n",
       "      <td>Virgaviridae</td>\n",
       "      <td>ssRNA(+)</td>\n",
       "    </tr>\n",
       "    <tr>\n",
       "      <th>169589</th>\n",
       "      <td>NC_003855</td>\n",
       "      <td>Z98197</td>\n",
       "      <td>land plants</td>\n",
       "      <td>Peanut stunt virus satellite RNA</td>\n",
       "      <td>Peanut stunt virus satellite RNA</td>\n",
       "      <td>segment</td>\n",
       "      <td>Peanut stunt virus satellite RNA</td>\n",
       "      <td>NaN</td>\n",
       "    </tr>\n",
       "    <tr>\n",
       "      <th>169590</th>\n",
       "      <td>NC_003855</td>\n",
       "      <td>Z98198</td>\n",
       "      <td>land plants</td>\n",
       "      <td>Peanut stunt virus satellite RNA</td>\n",
       "      <td>Peanut stunt virus satellite RNA</td>\n",
       "      <td>segment</td>\n",
       "      <td>Peanut stunt virus satellite RNA</td>\n",
       "      <td>NaN</td>\n",
       "    </tr>\n",
       "  </tbody>\n",
       "</table>\n",
       "<p>212830 rows × 8 columns</p>\n",
       "</div>"
      ],
      "text/plain": [
       "       Representative Neighbor               Host  \\\n",
       "34557       NC_001802   A04321  human,vertebrates   \n",
       "33594       NC_001802   A07108  human,vertebrates   \n",
       "34896       NC_001802   A07116  human,vertebrates   \n",
       "35727       NC_001802   A07867  human,vertebrates   \n",
       "45577       NC_001616   A08776        land plants   \n",
       "...               ...      ...                ...   \n",
       "48784       NC_002602   Z96099        land plants   \n",
       "47467       NC_003811   Z97357        land plants   \n",
       "150200      NC_003520   Z97873        land plants   \n",
       "169589      NC_003855   Z98197        land plants   \n",
       "169590      NC_003855   Z98198        land plants   \n",
       "\n",
       "                                         Selected lineage  \\\n",
       "34557   Retroviridae,Lentivirus,Human immunodeficiency...   \n",
       "33594   Retroviridae,Lentivirus,Human immunodeficiency...   \n",
       "34896   Retroviridae,Lentivirus,Human immunodeficiency...   \n",
       "35727   Retroviridae,Lentivirus,Human immunodeficiency...   \n",
       "45577                Potyviridae,Potyvirus,Potato virus Y   \n",
       "...                                                   ...   \n",
       "48784                 Cucumber mosaic virus satellite RNA   \n",
       "47467        Virgaviridae,Tobravirus,Tobacco rattle virus   \n",
       "150200       Virgaviridae,Pomovirus,Beet soil-borne virus   \n",
       "169589                   Peanut stunt virus satellite RNA   \n",
       "169590                   Peanut stunt virus satellite RNA   \n",
       "\n",
       "                              Taxonomy name   Segment name  \\\n",
       "34557        Human immunodeficiency virus 1      segment     \n",
       "33594        Human immunodeficiency virus 1      segment     \n",
       "34896        Human immunodeficiency virus 1      segment     \n",
       "35727        Human immunodeficiency virus 1      segment     \n",
       "45577                        Potato virus Y      segment     \n",
       "...                                     ...            ...   \n",
       "48784   Cucumber mosaic virus satellite RNA      segment     \n",
       "47467                  Tobacco rattle virus  segment RNA 2   \n",
       "150200                Beet soil-borne virus  segment RNA 1   \n",
       "169589     Peanut stunt virus satellite RNA      segment     \n",
       "169590     Peanut stunt virus satellite RNA      segment     \n",
       "\n",
       "                                        Fam Genome type  \n",
       "34557                          Retroviridae    ssRNA-RT  \n",
       "33594                          Retroviridae    ssRNA-RT  \n",
       "34896                          Retroviridae    ssRNA-RT  \n",
       "35727                          Retroviridae    ssRNA-RT  \n",
       "45577                           Potyviridae    ssRNA(+)  \n",
       "...                                     ...         ...  \n",
       "48784   Cucumber mosaic virus satellite RNA         NaN  \n",
       "47467                          Virgaviridae    ssRNA(+)  \n",
       "150200                         Virgaviridae    ssRNA(+)  \n",
       "169589     Peanut stunt virus satellite RNA         NaN  \n",
       "169590     Peanut stunt virus satellite RNA         NaN  \n",
       "\n",
       "[212830 rows x 8 columns]"
      ]
     },
     "execution_count": 366,
     "metadata": {},
     "output_type": "execute_result"
    }
   ],
   "source": [
    "df3.sort_values(by='Neighbor')"
   ]
  },
  {
   "cell_type": "code",
   "execution_count": 374,
   "metadata": {},
   "outputs": [
    {
     "data": {
      "text/plain": [
       "False"
      ]
     },
     "execution_count": 374,
     "metadata": {},
     "output_type": "execute_result"
    }
   ],
   "source": [
    "'A04321' in df['ID'].to_list()"
   ]
  },
  {
   "cell_type": "code",
   "execution_count": 347,
   "metadata": {
    "scrolled": true
   },
   "outputs": [
    {
     "data": {
      "text/plain": [
       "4028"
      ]
     },
     "execution_count": 347,
     "metadata": {},
     "output_type": "execute_result"
    }
   ],
   "source": [
    "len(df3.loc[df3['Genome type'].isnull()])"
   ]
  },
  {
   "cell_type": "code",
   "execution_count": 389,
   "metadata": {},
   "outputs": [],
   "source": [
    "ndf = pd.read_csv('first test label.csv')\n",
    "ndf = ndf[~ndf['Genome type'].isin(['dunno'])].reset_index(drop=True)\n",
    "ndf = ndf.drop(axis = 1, labels = 'Unnamed: 0')"
   ]
  },
  {
   "cell_type": "code",
   "execution_count": 391,
   "metadata": {
    "scrolled": true
   },
   "outputs": [],
   "source": [
    "l = []\n",
    "\n",
    "for i in ndf['Sequence description']:\n",
    "    l.append(desc.index(i))"
   ]
  },
  {
   "cell_type": "code",
   "execution_count": 399,
   "metadata": {},
   "outputs": [],
   "source": [
    "c = 0\n",
    "for seq_record in SeqIO.parse('Complete NCBI Virus Genbank only.fasta', \"fasta\"):\n",
    "    if c in l:\n",
    "        l.append(seq_record.seq)\n",
    "    c+=1"
   ]
  },
  {
   "cell_type": "code",
   "execution_count": 412,
   "metadata": {},
   "outputs": [],
   "source": [
    "import numpy as np\n",
    "a = np.array(l)\n",
    "a = a.reshape(704, 2, order = 'F')"
   ]
  },
  {
   "cell_type": "code",
   "execution_count": 417,
   "metadata": {},
   "outputs": [],
   "source": [
    "ndf['Seq'] = l[704:]"
   ]
  },
  {
   "cell_type": "code",
   "execution_count": 424,
   "metadata": {},
   "outputs": [],
   "source": [
    "ndf.to_csv('first test label.csv', index = False)"
   ]
  },
  {
   "cell_type": "code",
   "execution_count": 433,
   "metadata": {},
   "outputs": [
    {
     "data": {
      "text/plain": [
       "Seq('CACAAAATATAAGAAGGAAAGCTGGATTTCCTACCTTTGTGTTTCCATTGTCGA...AAT', SingleLetterAlphabet())"
      ]
     },
     "execution_count": 433,
     "metadata": {},
     "output_type": "execute_result"
    }
   ],
   "source": [
    "l[-5]"
   ]
  },
  {
   "cell_type": "code",
   "execution_count": 435,
   "metadata": {},
   "outputs": [
    {
     "data": {
      "text/plain": [
       "'HKI*EGKLDFLPLCFHCRSIGQTLFDASSAYFHHQISETRVLHWF*GP*SCS*PRRDRYSL*SGI*LQR*VRLFGESPQPTV*RRRS*ELFCLL*QWS*RLLRPTTPCLVRDCVPGVCYLLFLCLGTRGSGRRGWSSFEEVRSL*KRESVSAGCAARNRRGILLFVSKESLPRMYHPSCKGYVLLLANMASFAILVDTFLMGVHNPSHVVPVVALMTLCATPLWLSASYVIYLLRYMLVRLSPEAKQDRVYYTATTAPYFDPALGVMMQFAPSSGGPSIEVQINPSWISLLGSSLKLNVGDASNESAVLGSFYSPVKAGDEPASLVAIKSGPTTIGFGCRTKIDGEDCLLTAHHVWCNSMRPTGLAKAGKQVSVEDWEISMSSSDKMLDFAIVRVPTHVWSKLGVKSTPLVCPSSKDVITCYGGSSSDCLMSGVGSSSTSEFTWKLTHTCPTAAGWSGTPLYSSRGVVGMHVGFEEIGKLNRGVNMFYVANYLLRSNETLPPELSIIEIPFDDVETRSYEFIEVEIKGRGKAKLGKREFAWIPESGKYWADEDEDELPPPPKLVGGKLVWENAQETVAVENLNCQRAAGSRPLPPSLNLHATSSAKEKSPLPKACHSDLLGERLASLESCVEKILQKMSCEQYLPSQSSQTTLGQSEAPKLSLAPCYYKQESLILPESQQTLKELVKTSLSATPPPNPVAALDQKPGPSTQSLKKSVRRRNRRKSTKKPAQGSPSPASPPPTKTS*RGICNLLLSVLLKDSSYLARRQICIT*VPLSWLS*GIAIQCASLLSRSPTPPER*ERVDSA*FHQSRWLIS*LSACSSGRKISLRSLSGREFRLSLGWACHLIGKLAACLAT*ELNTLVALLLRLTSRVLTGLCKTGSCGLMLR*E*F*AALARHWLGLLGIGFRVS*TQSSSYLTVH*LSNCSRE**SLDLTAPPQPIAEFVALWLSSLAPHGVLLWVMILLKDGLMAQRTST*G*AMFARITSLAPRLLKATYTR*SSAHTLLGLTGVGWLHGPRLCLNTCLKLSGSLRISSASLKLRPTGLESDTI*WGILHRPTKLENQVLPMAKRLSKQQLAKAIANTLETPPQPKAGRRRNRRRQRSAVQQLQPTQAGISMAPSAQGAMVRIRNPAVSSSRGGITVLTHSELSAEIGVTDSIVVSSELVMPYTVGTWLRGVAANWSKYSWLSVRYTYIPSCPSSTAGSIHMGFQYDMADTVPVSVNQLSNLRGYVSGQVWSGSAGLCFINGTRCSDTSTAISTTLDVSKLGKKWYPYKTSADYATAVGVDVNIATPLVPARLVIALLDGSSSTAVAAGRIYCTYTIQMIEPTASALNN*EVVKHWKASLWKGGWIFTNPPRFWNGMLVKSIPARNWRVIQ'"
      ]
     },
     "execution_count": 435,
     "metadata": {},
     "output_type": "execute_result"
    }
   ],
   "source": [
    "str(l[-5].translate(11))"
   ]
  }
 ],
 "metadata": {
  "kernelspec": {
   "display_name": "Python 3",
   "language": "python",
   "name": "python3"
  },
  "language_info": {
   "codemirror_mode": {
    "name": "ipython",
    "version": 3
   },
   "file_extension": ".py",
   "mimetype": "text/x-python",
   "name": "python",
   "nbconvert_exporter": "python",
   "pygments_lexer": "ipython3",
   "version": "3.8.2"
  }
 },
 "nbformat": 4,
 "nbformat_minor": 4
}
