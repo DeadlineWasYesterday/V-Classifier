{
 "cells": [
  {
   "cell_type": "code",
   "execution_count": 2,
   "metadata": {},
   "outputs": [],
   "source": [
    "import numpy as np\n",
    "import pandas as pd\n",
    "import random\n",
    "import matplotlib.pyplot as plt\n",
    "import seaborn as sns\n",
    "from Bio import SeqIO\n",
    "from Bio.Seq import Seq\n",
    "from Bio.Alphabet import IUPAC\n",
    "from Bio.SeqRecord import SeqRecord\n",
    "from Bio import SeqUtils\n",
    "from sklearn.model_selection import cross_val_score\n",
    "from sklearn.metrics import f1_score\n",
    "from sklearn.ensemble import RandomForestClassifier\n",
    "from sklearn.preprocessing import StandardScaler\n",
    "from sklearn.model_selection import train_test_split\n",
    "from sklearn.ensemble import RandomForestClassifier\n",
    "from sklearn.feature_selection import SelectFromModel\n",
    "from sklearn.feature_selection import RFECV\n",
    "import scikitplot as skplt\n",
    "from sklearn import metrics\n",
    "from collections import OrderedDict\n",
    "from sklearn.datasets import make_classification"
   ]
  },
  {
   "cell_type": "code",
   "execution_count": 52,
   "metadata": {},
   "outputs": [],
   "source": [
    "l =    ['TCAATC', 'CCAATT', 'GTTGAC', 'TGAT', 'GGTT', 'GGTTGA', 'GTTGA',\n",
    "       'TAGCGT', 'CGGTTA', 'TTGACG', 'CGATA', 'CGTCAA', 'CAATCG', 'CGTTGA',\n",
    "       'GTCGAA', 'GTTG', 'CGGTAA', 'CATACG', 'AAAAAA', 'ACCAAT', 'TCAA',\n",
    "       'TTGTCG', 'CGATAG', 'AAAAA', 'CAAC', 'ATACGC', 'CAATTG', 'CCAAT',\n",
    "       'CGCAAT', 'GGTA', 'CAAT', 'TGTCGA', 'CGAT', 'CAATCT', 'GCGTAC', 'GGTTG',\n",
    "       'TTGA', 'GTTGGT', 'TCCAAT', 'TTGCG', 'ACGGTT', 'CGATTA', 'ATCAAT',\n",
    "       'GCAATC', 'ATCAAC', 'GTTGAT', 'GTCAAT', 'CGTCGA', 'ATTGG', 'CGTAGT',\n",
    "       'ATAGCG', 'CCGATA', 'CAATC', 'CATCAA', 'TTCGAC', 'TTGAC', 'TTGCGC',\n",
    "       'GCGTTA', 'CCGTTA', 'ATACGG', 'CGCGTT', 'CGATC', 'CGATAA', 'ATCGTA',\n",
    "       'TCGA', 'TCGGTT', 'GATC', 'CGGTT']"
   ]
  },
  {
   "cell_type": "code",
   "execution_count": 53,
   "metadata": {},
   "outputs": [],
   "source": [
    "c = [f for f in l if len(f) < 6]"
   ]
  },
  {
   "cell_type": "code",
   "execution_count": 54,
   "metadata": {},
   "outputs": [],
   "source": [
    "b = [f for f in l if len(f) == 6]"
   ]
  },
  {
   "cell_type": "code",
   "execution_count": 55,
   "metadata": {},
   "outputs": [],
   "source": [
    "b1 = [f for f in b if f[0] == 'A' or f[0] == 'T']\n",
    "b2 = [f for f in b if f[0] == 'G' or f[0] == 'C']"
   ]
  },
  {
   "cell_type": "code",
   "execution_count": 59,
   "metadata": {},
   "outputs": [],
   "source": [
    "df1 = pd.concat([pd.read_csv('../ppnnw5.csv')[['Gen', 'die', 'Fam'] + c], \n",
    "                 pd.read_csv('../ppnnw6.csv')[b]], axis = 1)\n",
    "\n",
    "#df1 = df1.loc[df1['die'] == 'no']\n",
    "df1['Gen'] = 1"
   ]
  },
  {
   "cell_type": "code",
   "execution_count": 24,
   "metadata": {
    "collapsed": true
   },
   "outputs": [
    {
     "data": {
      "text/plain": [
       "caliciviridae          1762\n",
       "picornaviridae          864\n",
       "coronaviridae           690\n",
       "flaviviridae            390\n",
       "potyviridae             362\n",
       "betaflexiviridae        222\n",
       "rhabdoviridae           220\n",
       "paramyxoviridae         214\n",
       "tombusviridae           136\n",
       "astroviridae            132\n",
       "alphaflexiviridae       110\n",
       "luteoviridae            106\n",
       "closteroviridae          90\n",
       "virgaviridae             86\n",
       "togaviridae              84\n",
       "tymoviridae              82\n",
       "iflaviridae              76\n",
       "narnaviridae             72\n",
       "endornaviridae           60\n",
       "arteriviridae            48\n",
       "dicistroviridae          40\n",
       "solemoviridae            38\n",
       "secoviridae              36\n",
       "filoviridae              32\n",
       "hepeviridae              32\n",
       "pneumoviridae            30\n",
       "bromoviridae             30\n",
       "mesoniviridae            26\n",
       "leviviridae              24\n",
       "bornaviridae             24\n",
       "hypoviridae              24\n",
       "marnaviridae             20\n",
       "nodaviridae              20\n",
       "tobaniviridae            16\n",
       "hantaviridae             12\n",
       "polycipiviridae          10\n",
       "alphatetraviridae         8\n",
       "fimoviridae               8\n",
       "nyamiviridae              6\n",
       "chuviridae                4\n",
       "deltaflexiviridae         4\n",
       "roniviridae               4\n",
       "aspiviridae               4\n",
       "matonaviridae             4\n",
       "peribunyaviridae          4\n",
       "benyviridae               2\n",
       "kitaviridae               2\n",
       "nairoviridae              2\n",
       "mymonaviridae             2\n",
       "permutotetraviridae       2\n",
       "sunviridae                2\n",
       "alvernaviridae            2\n",
       "gammaflexiviridae         2\n",
       "artoviridae               2\n",
       "barnaviridae              2\n",
       "mononiviridae             2\n",
       "carmotetraviridae         2\n",
       "Name: Fam, dtype: int64"
      ]
     },
     "execution_count": 24,
     "metadata": {},
     "output_type": "execute_result"
    }
   ],
   "source": [
    "df1['Fam'].value_counts()"
   ]
  },
  {
   "cell_type": "code",
   "execution_count": 60,
   "metadata": {},
   "outputs": [],
   "source": [
    "df2 = pd.concat([pd.read_csv('../h1w5.csv')[['die'] + c], \n",
    "                 pd.read_csv('../h1w6p1.csv')[b1],\n",
    "                 pd.read_csv('../h1w6p2.csv')[b2]], axis = 1)\n",
    "df2 = df2.loc[df2['die'] == 'no']\n",
    "df2['Gen'] = 0"
   ]
  },
  {
   "cell_type": "code",
   "execution_count": 62,
   "metadata": {},
   "outputs": [
    {
     "name": "stdout",
     "output_type": "stream",
     "text": [
      "Fam: kitaviridae ** total: 2 ** correct/TP: 2 ** FP: 5 **  TN: 4638 ** FN: 0 ** f1bin: 0.444444 ** f1mac: 0.721953\n",
      "Fam: hepeviridae ** total: 32 ** correct/TP: 32 ** FP: 5 **  TN: 4638 ** FN: 0 ** f1bin: 0.927536 ** f1mac: 0.963499\n",
      "Fam: caliciviridae ** total: 1762 ** correct/TP: 1576 ** FP: 5 **  TN: 4638 ** FN: 186 ** f1bin: 0.942866 ** f1mac: 0.961345\n",
      "Fam: luteoviridae ** total: 106 ** correct/TP: 106 ** FP: 7 **  TN: 4636 ** FN: 0 ** f1bin: 0.968037 ** f1mac: 0.983641\n",
      "Fam: mesoniviridae ** total: 26 ** correct/TP: 26 ** FP: 5 **  TN: 4638 ** FN: 0 ** f1bin: 0.912281 ** f1mac: 0.955871\n",
      "Fam: tymoviridae ** total: 82 ** correct/TP: 73 ** FP: 6 **  TN: 4637 ** FN: 9 ** f1bin: 0.906832 ** f1mac: 0.952609\n",
      "Fam: roniviridae ** total: 4 ** correct/TP: 4 ** FP: 7 **  TN: 4636 ** FN: 0 ** f1bin: 0.533333 ** f1mac: 0.766289\n",
      "Fam: peribunyaviridae ** total: 4 ** correct/TP: 1 ** FP: 6 **  TN: 4637 ** FN: 3 ** f1bin: 0.181818 ** f1mac: 0.590424\n",
      "Fam: narnaviridae ** total: 72 ** correct/TP: 62 ** FP: 6 **  TN: 4637 ** FN: 10 ** f1bin: 0.885714 ** f1mac: 0.941996\n",
      "Fam: betaflexiviridae ** total: 222 ** correct/TP: 220 ** FP: 6 **  TN: 4637 ** FN: 2 ** f1bin: 0.982143 ** f1mac: 0.990640\n",
      "Fam: barnaviridae ** total: 2 ** correct/TP: 2 ** FP: 6 **  TN: 4637 ** FN: 0 ** f1bin: 0.400000 ** f1mac: 0.699677\n",
      "Fam: chuviridae ** total: 4 ** correct/TP: 4 ** FP: 5 **  TN: 4638 ** FN: 0 ** f1bin: 0.615385 ** f1mac: 0.807423\n",
      "Fam: nairoviridae ** total: 2 ** correct/TP: 1 ** FP: 7 **  TN: 4636 ** FN: 1 ** f1bin: 0.200000 ** f1mac: 0.599569\n",
      "Fam: iflaviridae ** total: 76 ** correct/TP: 76 ** FP: 6 **  TN: 4637 ** FN: 0 ** f1bin: 0.962025 ** f1mac: 0.980689\n",
      "Fam: tobaniviridae ** total: 16 ** correct/TP: 16 ** FP: 6 **  TN: 4637 ** FN: 0 ** f1bin: 0.842105 ** f1mac: 0.920729\n",
      "Fam: astroviridae ** total: 132 ** correct/TP: 132 ** FP: 7 **  TN: 4636 ** FN: 0 ** f1bin: 0.974170 ** f1mac: 0.986708\n",
      "Fam: secoviridae ** total: 36 ** correct/TP: 32 ** FP: 7 **  TN: 4636 ** FN: 4 ** f1bin: 0.853333 ** f1mac: 0.926074\n",
      "Fam: endornaviridae ** total: 60 ** correct/TP: 60 ** FP: 5 **  TN: 4638 ** FN: 0 ** f1bin: 0.960000 ** f1mac: 0.979731\n",
      "Fam: solemoviridae ** total: 38 ** correct/TP: 38 ** FP: 7 **  TN: 4636 ** FN: 0 ** f1bin: 0.915663 ** f1mac: 0.957454\n",
      "Fam: pneumoviridae ** total: 30 ** correct/TP: 27 ** FP: 6 **  TN: 4637 ** FN: 3 ** f1bin: 0.857143 ** f1mac: 0.928087\n",
      "Fam: polycipiviridae ** total: 10 ** correct/TP: 10 ** FP: 5 **  TN: 4638 ** FN: 0 ** f1bin: 0.800000 ** f1mac: 0.899731\n",
      "Fam: nyamiviridae ** total: 6 ** correct/TP: 3 ** FP: 6 **  TN: 4637 ** FN: 3 ** f1bin: 0.400000 ** f1mac: 0.699515\n",
      "Fam: alvernaviridae ** total: 2 ** correct/TP: 2 ** FP: 7 **  TN: 4636 ** FN: 0 ** f1bin: 0.363636 ** f1mac: 0.681441\n",
      "Fam: togaviridae ** total: 84 ** correct/TP: 83 ** FP: 7 **  TN: 4636 ** FN: 1 ** f1bin: 0.954023 ** f1mac: 0.976580\n",
      "Fam: artoviridae ** total: 2 ** correct/TP: 2 ** FP: 4 **  TN: 4639 ** FN: 0 ** f1bin: 0.500000 ** f1mac: 0.749785\n",
      "Fam: mononiviridae ** total: 2 ** correct/TP: 2 ** FP: 6 **  TN: 4637 ** FN: 0 ** f1bin: 0.400000 ** f1mac: 0.699677\n",
      "Fam: picornaviridae ** total: 864 ** correct/TP: 659 ** FP: 3 **  TN: 4640 ** FN: 205 ** f1bin: 0.863696 ** f1mac: 0.920887\n",
      "Fam: aspiviridae ** total: 4 ** correct/TP: 2 ** FP: 6 **  TN: 4637 ** FN: 2 ** f1bin: 0.333333 ** f1mac: 0.666236\n",
      "Fam: matonaviridae ** total: 4 ** correct/TP: 4 ** FP: 6 **  TN: 4637 ** FN: 0 ** f1bin: 0.571429 ** f1mac: 0.785391\n",
      "Fam: flaviviridae ** total: 390 ** correct/TP: 369 ** FP: 5 **  TN: 4638 ** FN: 21 ** f1bin: 0.965969 ** f1mac: 0.981587\n",
      "Fam: gammaflexiviridae ** total: 2 ** correct/TP: 2 ** FP: 6 **  TN: 4637 ** FN: 0 ** f1bin: 0.400000 ** f1mac: 0.699677\n",
      "Fam: sunviridae ** total: 2 ** correct/TP: 2 ** FP: 6 **  TN: 4637 ** FN: 0 ** f1bin: 0.400000 ** f1mac: 0.699677\n",
      "Fam: leviviridae ** total: 24 ** correct/TP: 24 ** FP: 6 **  TN: 4637 ** FN: 0 ** f1bin: 0.888889 ** f1mac: 0.944121\n",
      "Fam: virgaviridae ** total: 86 ** correct/TP: 86 ** FP: 6 **  TN: 4637 ** FN: 0 ** f1bin: 0.966292 ** f1mac: 0.982823\n",
      "Fam: permutotetraviridae ** total: 2 ** correct/TP: 2 ** FP: 6 **  TN: 4637 ** FN: 0 ** f1bin: 0.400000 ** f1mac: 0.699677\n",
      "Fam: potyviridae ** total: 362 ** correct/TP: 362 ** FP: 5 **  TN: 4638 ** FN: 0 ** f1bin: 0.993141 ** f1mac: 0.996301\n",
      "Fam: benyviridae ** total: 2 ** correct/TP: 2 ** FP: 6 **  TN: 4637 ** FN: 0 ** f1bin: 0.400000 ** f1mac: 0.699677\n",
      "Fam: alphaflexiviridae ** total: 110 ** correct/TP: 106 ** FP: 7 **  TN: 4636 ** FN: 4 ** f1bin: 0.950673 ** f1mac: 0.974744\n",
      "Fam: closteroviridae ** total: 90 ** correct/TP: 90 ** FP: 6 **  TN: 4637 ** FN: 0 ** f1bin: 0.967742 ** f1mac: 0.983548\n",
      "Fam: coronaviridae ** total: 690 ** correct/TP: 690 ** FP: 4 **  TN: 4639 ** FN: 0 ** f1bin: 0.997110 ** f1mac: 0.998339\n",
      "Fam: hantaviridae ** total: 12 ** correct/TP: 7 ** FP: 7 **  TN: 4636 ** FN: 5 ** f1bin: 0.538462 ** f1mac: 0.768584\n",
      "Fam: arteriviridae ** total: 48 ** correct/TP: 48 ** FP: 7 **  TN: 4636 ** FN: 0 ** f1bin: 0.932039 ** f1mac: 0.965642\n",
      "Fam: alphatetraviridae ** total: 8 ** correct/TP: 8 ** FP: 5 **  TN: 4638 ** FN: 0 ** f1bin: 0.761905 ** f1mac: 0.880683\n",
      "Fam: deltaflexiviridae ** total: 4 ** correct/TP: 4 ** FP: 5 **  TN: 4638 ** FN: 0 ** f1bin: 0.615385 ** f1mac: 0.807423\n",
      "Fam: tombusviridae ** total: 136 ** correct/TP: 136 ** FP: 6 **  TN: 4637 ** FN: 0 ** f1bin: 0.978417 ** f1mac: 0.988885\n",
      "Fam: rhabdoviridae ** total: 220 ** correct/TP: 215 ** FP: 6 **  TN: 4637 ** FN: 5 ** f1bin: 0.975057 ** f1mac: 0.986936\n",
      "Fam: nodaviridae ** total: 20 ** correct/TP: 20 ** FP: 5 **  TN: 4638 ** FN: 0 ** f1bin: 0.888889 ** f1mac: 0.944175\n",
      "Fam: marnaviridae ** total: 20 ** correct/TP: 20 ** FP: 6 **  TN: 4637 ** FN: 0 ** f1bin: 0.869565 ** f1mac: 0.934459\n",
      "Fam: paramyxoviridae ** total: 214 ** correct/TP: 214 ** FP: 7 **  TN: 4636 ** FN: 0 ** f1bin: 0.983908 ** f1mac: 0.991577\n",
      "Fam: filoviridae ** total: 32 ** correct/TP: 32 ** FP: 7 **  TN: 4636 ** FN: 0 ** f1bin: 0.901408 ** f1mac: 0.950327\n",
      "Fam: mymonaviridae ** total: 2 ** correct/TP: 2 ** FP: 6 **  TN: 4637 ** FN: 0 ** f1bin: 0.400000 ** f1mac: 0.699677\n",
      "Fam: fimoviridae ** total: 8 ** correct/TP: 5 ** FP: 6 **  TN: 4637 ** FN: 3 ** f1bin: 0.526316 ** f1mac: 0.762673\n",
      "Fam: dicistroviridae ** total: 40 ** correct/TP: 40 ** FP: 6 **  TN: 4637 ** FN: 0 ** f1bin: 0.930233 ** f1mac: 0.964793\n",
      "Fam: bornaviridae ** total: 24 ** correct/TP: 24 ** FP: 6 **  TN: 4637 ** FN: 0 ** f1bin: 0.888889 ** f1mac: 0.944121\n",
      "Fam: hypoviridae ** total: 24 ** correct/TP: 24 ** FP: 5 **  TN: 4638 ** FN: 0 ** f1bin: 0.905660 ** f1mac: 0.952561\n",
      "Fam: bromoviridae ** total: 30 ** correct/TP: 30 ** FP: 6 **  TN: 4637 ** FN: 0 ** f1bin: 0.909091 ** f1mac: 0.954222\n",
      "Fam: carmotetraviridae ** total: 2 ** correct/TP: 2 ** FP: 7 **  TN: 4636 ** FN: 0 ** f1bin: 0.363636 ** f1mac: 0.681441\n"
     ]
    },
    {
     "ename": "ValueError",
     "evalue": "7 columns passed, passed data had 8 columns",
     "output_type": "error",
     "traceback": [
      "\u001b[1;31m---------------------------------------------------------------------------\u001b[0m",
      "\u001b[1;31mAssertionError\u001b[0m                            Traceback (most recent call last)",
      "\u001b[1;32mc:\\users\\michael\\appdata\\local\\programs\\python\\python38-32\\lib\\site-packages\\pandas\\core\\internals\\construction.py\u001b[0m in \u001b[0;36m_list_to_arrays\u001b[1;34m(data, columns, coerce_float, dtype)\u001b[0m\n\u001b[0;32m    495\u001b[0m     \u001b[1;32mtry\u001b[0m\u001b[1;33m:\u001b[0m\u001b[1;33m\u001b[0m\u001b[1;33m\u001b[0m\u001b[0m\n\u001b[1;32m--> 496\u001b[1;33m         result = _convert_object_array(\n\u001b[0m\u001b[0;32m    497\u001b[0m             \u001b[0mcontent\u001b[0m\u001b[1;33m,\u001b[0m \u001b[0mcolumns\u001b[0m\u001b[1;33m,\u001b[0m \u001b[0mdtype\u001b[0m\u001b[1;33m=\u001b[0m\u001b[0mdtype\u001b[0m\u001b[1;33m,\u001b[0m \u001b[0mcoerce_float\u001b[0m\u001b[1;33m=\u001b[0m\u001b[0mcoerce_float\u001b[0m\u001b[1;33m\u001b[0m\u001b[1;33m\u001b[0m\u001b[0m\n",
      "\u001b[1;32mc:\\users\\michael\\appdata\\local\\programs\\python\\python38-32\\lib\\site-packages\\pandas\\core\\internals\\construction.py\u001b[0m in \u001b[0;36m_convert_object_array\u001b[1;34m(content, columns, coerce_float, dtype)\u001b[0m\n\u001b[0;32m    579\u001b[0m             \u001b[1;31m# caller's responsibility to check for this...\u001b[0m\u001b[1;33m\u001b[0m\u001b[1;33m\u001b[0m\u001b[1;33m\u001b[0m\u001b[0m\n\u001b[1;32m--> 580\u001b[1;33m             raise AssertionError(\n\u001b[0m\u001b[0;32m    581\u001b[0m                 \u001b[1;34mf\"{len(columns)} columns passed, passed data had \"\u001b[0m\u001b[1;33m\u001b[0m\u001b[1;33m\u001b[0m\u001b[0m\n",
      "\u001b[1;31mAssertionError\u001b[0m: 7 columns passed, passed data had 8 columns",
      "\nThe above exception was the direct cause of the following exception:\n",
      "\u001b[1;31mValueError\u001b[0m                                Traceback (most recent call last)",
      "\u001b[1;32m<ipython-input-62-4e7ac9498983>\u001b[0m in \u001b[0;36m<module>\u001b[1;34m\u001b[0m\n\u001b[0;32m     42\u001b[0m           % (fam, len(df1test), cm[1,1], cm[0,1], cm[0,0], cm[1,0], f1bin, f1mac))\n\u001b[0;32m     43\u001b[0m \u001b[1;33m\u001b[0m\u001b[0m\n\u001b[1;32m---> 44\u001b[1;33m \u001b[0mlofocv_68\u001b[0m \u001b[1;33m=\u001b[0m \u001b[0mpd\u001b[0m\u001b[1;33m.\u001b[0m\u001b[0mDataFrame\u001b[0m\u001b[1;33m(\u001b[0m\u001b[0mtemp\u001b[0m\u001b[1;33m,\u001b[0m \u001b[0mcolumns\u001b[0m \u001b[1;33m=\u001b[0m \u001b[1;33m[\u001b[0m\u001b[1;34m'Fam'\u001b[0m\u001b[1;33m,\u001b[0m \u001b[1;34m'Total'\u001b[0m\u001b[1;33m,\u001b[0m \u001b[1;34m'Correct/TP'\u001b[0m\u001b[1;33m,\u001b[0m \u001b[1;34m'FP'\u001b[0m\u001b[1;33m,\u001b[0m \u001b[1;34m'TN'\u001b[0m\u001b[1;33m,\u001b[0m \u001b[1;34m'FN'\u001b[0m \u001b[1;34m'f1bin'\u001b[0m\u001b[1;33m,\u001b[0m \u001b[1;34m'f1mac'\u001b[0m\u001b[1;33m]\u001b[0m\u001b[1;33m)\u001b[0m\u001b[1;33m\u001b[0m\u001b[1;33m\u001b[0m\u001b[0m\n\u001b[0m",
      "\u001b[1;32mc:\\users\\michael\\appdata\\local\\programs\\python\\python38-32\\lib\\site-packages\\pandas\\core\\frame.py\u001b[0m in \u001b[0;36m__init__\u001b[1;34m(self, data, index, columns, dtype, copy)\u001b[0m\n\u001b[0;32m    472\u001b[0m                     \u001b[1;32mif\u001b[0m \u001b[0mis_named_tuple\u001b[0m\u001b[1;33m(\u001b[0m\u001b[0mdata\u001b[0m\u001b[1;33m[\u001b[0m\u001b[1;36m0\u001b[0m\u001b[1;33m]\u001b[0m\u001b[1;33m)\u001b[0m \u001b[1;32mand\u001b[0m \u001b[0mcolumns\u001b[0m \u001b[1;32mis\u001b[0m \u001b[1;32mNone\u001b[0m\u001b[1;33m:\u001b[0m\u001b[1;33m\u001b[0m\u001b[1;33m\u001b[0m\u001b[0m\n\u001b[0;32m    473\u001b[0m                         \u001b[0mcolumns\u001b[0m \u001b[1;33m=\u001b[0m \u001b[0mdata\u001b[0m\u001b[1;33m[\u001b[0m\u001b[1;36m0\u001b[0m\u001b[1;33m]\u001b[0m\u001b[1;33m.\u001b[0m\u001b[0m_fields\u001b[0m\u001b[1;33m\u001b[0m\u001b[1;33m\u001b[0m\u001b[0m\n\u001b[1;32m--> 474\u001b[1;33m                     \u001b[0marrays\u001b[0m\u001b[1;33m,\u001b[0m \u001b[0mcolumns\u001b[0m \u001b[1;33m=\u001b[0m \u001b[0mto_arrays\u001b[0m\u001b[1;33m(\u001b[0m\u001b[0mdata\u001b[0m\u001b[1;33m,\u001b[0m \u001b[0mcolumns\u001b[0m\u001b[1;33m,\u001b[0m \u001b[0mdtype\u001b[0m\u001b[1;33m=\u001b[0m\u001b[0mdtype\u001b[0m\u001b[1;33m)\u001b[0m\u001b[1;33m\u001b[0m\u001b[1;33m\u001b[0m\u001b[0m\n\u001b[0m\u001b[0;32m    475\u001b[0m                     \u001b[0mcolumns\u001b[0m \u001b[1;33m=\u001b[0m \u001b[0mensure_index\u001b[0m\u001b[1;33m(\u001b[0m\u001b[0mcolumns\u001b[0m\u001b[1;33m)\u001b[0m\u001b[1;33m\u001b[0m\u001b[1;33m\u001b[0m\u001b[0m\n\u001b[0;32m    476\u001b[0m \u001b[1;33m\u001b[0m\u001b[0m\n",
      "\u001b[1;32mc:\\users\\michael\\appdata\\local\\programs\\python\\python38-32\\lib\\site-packages\\pandas\\core\\internals\\construction.py\u001b[0m in \u001b[0;36mto_arrays\u001b[1;34m(data, columns, coerce_float, dtype)\u001b[0m\n\u001b[0;32m    459\u001b[0m         \u001b[1;32mreturn\u001b[0m \u001b[1;33m[\u001b[0m\u001b[1;33m]\u001b[0m\u001b[1;33m,\u001b[0m \u001b[1;33m[\u001b[0m\u001b[1;33m]\u001b[0m  \u001b[1;31m# columns if columns is not None else []\u001b[0m\u001b[1;33m\u001b[0m\u001b[1;33m\u001b[0m\u001b[0m\n\u001b[0;32m    460\u001b[0m     \u001b[1;32mif\u001b[0m \u001b[0misinstance\u001b[0m\u001b[1;33m(\u001b[0m\u001b[0mdata\u001b[0m\u001b[1;33m[\u001b[0m\u001b[1;36m0\u001b[0m\u001b[1;33m]\u001b[0m\u001b[1;33m,\u001b[0m \u001b[1;33m(\u001b[0m\u001b[0mlist\u001b[0m\u001b[1;33m,\u001b[0m \u001b[0mtuple\u001b[0m\u001b[1;33m)\u001b[0m\u001b[1;33m)\u001b[0m\u001b[1;33m:\u001b[0m\u001b[1;33m\u001b[0m\u001b[1;33m\u001b[0m\u001b[0m\n\u001b[1;32m--> 461\u001b[1;33m         \u001b[1;32mreturn\u001b[0m \u001b[0m_list_to_arrays\u001b[0m\u001b[1;33m(\u001b[0m\u001b[0mdata\u001b[0m\u001b[1;33m,\u001b[0m \u001b[0mcolumns\u001b[0m\u001b[1;33m,\u001b[0m \u001b[0mcoerce_float\u001b[0m\u001b[1;33m=\u001b[0m\u001b[0mcoerce_float\u001b[0m\u001b[1;33m,\u001b[0m \u001b[0mdtype\u001b[0m\u001b[1;33m=\u001b[0m\u001b[0mdtype\u001b[0m\u001b[1;33m)\u001b[0m\u001b[1;33m\u001b[0m\u001b[1;33m\u001b[0m\u001b[0m\n\u001b[0m\u001b[0;32m    462\u001b[0m     \u001b[1;32melif\u001b[0m \u001b[0misinstance\u001b[0m\u001b[1;33m(\u001b[0m\u001b[0mdata\u001b[0m\u001b[1;33m[\u001b[0m\u001b[1;36m0\u001b[0m\u001b[1;33m]\u001b[0m\u001b[1;33m,\u001b[0m \u001b[0mabc\u001b[0m\u001b[1;33m.\u001b[0m\u001b[0mMapping\u001b[0m\u001b[1;33m)\u001b[0m\u001b[1;33m:\u001b[0m\u001b[1;33m\u001b[0m\u001b[1;33m\u001b[0m\u001b[0m\n\u001b[0;32m    463\u001b[0m         return _list_of_dict_to_arrays(\n",
      "\u001b[1;32mc:\\users\\michael\\appdata\\local\\programs\\python\\python38-32\\lib\\site-packages\\pandas\\core\\internals\\construction.py\u001b[0m in \u001b[0;36m_list_to_arrays\u001b[1;34m(data, columns, coerce_float, dtype)\u001b[0m\n\u001b[0;32m    498\u001b[0m         )\n\u001b[0;32m    499\u001b[0m     \u001b[1;32mexcept\u001b[0m \u001b[0mAssertionError\u001b[0m \u001b[1;32mas\u001b[0m \u001b[0me\u001b[0m\u001b[1;33m:\u001b[0m\u001b[1;33m\u001b[0m\u001b[1;33m\u001b[0m\u001b[0m\n\u001b[1;32m--> 500\u001b[1;33m         \u001b[1;32mraise\u001b[0m \u001b[0mValueError\u001b[0m\u001b[1;33m(\u001b[0m\u001b[0me\u001b[0m\u001b[1;33m)\u001b[0m \u001b[1;32mfrom\u001b[0m \u001b[0me\u001b[0m\u001b[1;33m\u001b[0m\u001b[1;33m\u001b[0m\u001b[0m\n\u001b[0m\u001b[0;32m    501\u001b[0m     \u001b[1;32mreturn\u001b[0m \u001b[0mresult\u001b[0m\u001b[1;33m\u001b[0m\u001b[1;33m\u001b[0m\u001b[0m\n\u001b[0;32m    502\u001b[0m \u001b[1;33m\u001b[0m\u001b[0m\n",
      "\u001b[1;31mValueError\u001b[0m: 7 columns passed, passed data had 8 columns"
     ]
    }
   ],
   "source": [
    "temp = []\n",
    "df2test = df2.sample(frac = 0.3)\n",
    "df2train = df2[~df2.index.isin(df2test.index)]\n",
    "\n",
    "for fam in set(df1['Fam'].to_list()):\n",
    "    df1test = df1.loc[df1['Fam'] == fam]\n",
    "    df1train = df1.loc[~(df1['Fam'] == fam)]\n",
    "    df1train = df1train.loc[df1train['die'] == 'no']\n",
    "    \n",
    "    X_train = pd.concat([df1train.iloc[:,3:], df2train.iloc[:,1:-1]], axis = 0).reset_index(drop = True)\n",
    "    y_train = pd.concat([df1train.iloc[:,0], df2train.iloc[:,-1]], axis = 0).reset_index(drop = True)\n",
    "\n",
    "    X_test = pd.concat([df1test.iloc[:,3:], df2test.iloc[:,1:-1]], axis = 0).reset_index(drop = True)\n",
    "    y_test = pd.concat([df1test.iloc[:,0], df2test.iloc[:,-1]], axis = 0).reset_index(drop = True)\n",
    "    \n",
    "    from sklearn.preprocessing import StandardScaler\n",
    "    sc = StandardScaler()\n",
    "    X_train = sc.fit_transform(X_train)\n",
    "    X_test = sc.transform(X_test)\n",
    "    \n",
    "    # Fitting Random Forest Classification to the Training set\n",
    "    from sklearn.ensemble import RandomForestClassifier\n",
    "    classifier = RandomForestClassifier(n_estimators = 200, criterion = 'entropy')\n",
    "    classifier.fit(X_train, y_train)\n",
    "    \n",
    "    # Predicting the Test set results\n",
    "    y_pred = classifier.predict(X_test)\n",
    "    \n",
    "    # Making the Confusion Matrix\n",
    "    from sklearn.metrics import confusion_matrix\n",
    "    cm = confusion_matrix(y_test, y_pred)\n",
    "    \n",
    "    #cv_bin = cross_val_score(classifier, X, y, cv=cvf, scoring='f1')\n",
    "    #cv_mac = cross_val_score(classifier, X, y, cv=cvf, scoring='f1_macro')\n",
    "    f1bin = f1_score(y_test, y_pred, average='binary')\n",
    "    f1mac = f1_score(y_test, y_pred, average='macro')\n",
    "    \n",
    "    #temp.append((fam, len(df1test), sum(y_pred[np.arange(len(y_pred))[y_test==y_pred]]), f1bin, f1mac))    \n",
    "    temp.append((fam, len(df1test), cm[1,1], cm[0,1], cm[0,0], cm[1,0], f1bin, f1mac))\n",
    "\n",
    "    print('Fam: %s ** total: %d ** correct/TP: %d ** FP: %d **  TN: %d ** FN: %d ** f1bin: %f ** f1mac: %f' \n",
    "          % (fam, len(df1test), cm[1,1], cm[0,1], cm[0,0], cm[1,0], f1bin, f1mac))\n",
    "\n",
    "lofocv_68 = pd.DataFrame(temp, columns = ['Fam', 'Total', 'Correct/TP', 'FP', 'TN', 'FN', 'f1bin', 'f1mac']) "
   ]
  },
  {
   "cell_type": "code",
   "execution_count": 41,
   "metadata": {},
   "outputs": [],
   "source": [
    "a = np.array([1,0,0,1])\n",
    "b = np.array([0,0,0,1])"
   ]
  },
  {
   "cell_type": "code",
   "execution_count": 67,
   "metadata": {},
   "outputs": [],
   "source": [
    "pd.DataFrame(temp, columns = ['Fam', 'Total', 'Correct/TP', 'FP', 'TN', 'FN', 'f1bin', 'f1mac']).to_csv('lofocv68', index = False) "
   ]
  }
 ],
 "metadata": {
  "kernelspec": {
   "display_name": "Python 3",
   "language": "python",
   "name": "python3"
  },
  "language_info": {
   "codemirror_mode": {
    "name": "ipython",
    "version": 3
   },
   "file_extension": ".py",
   "mimetype": "text/x-python",
   "name": "python",
   "nbconvert_exporter": "python",
   "pygments_lexer": "ipython3",
   "version": "3.8.2"
  }
 },
 "nbformat": 4,
 "nbformat_minor": 4
}
