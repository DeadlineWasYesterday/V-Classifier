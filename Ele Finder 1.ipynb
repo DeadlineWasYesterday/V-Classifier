{
 "cells": [
  {
   "cell_type": "code",
   "execution_count": 44,
   "metadata": {},
   "outputs": [],
   "source": [
    "import numpy as np\n",
    "import pandas as pd\n",
    "from Bio import SeqUtils\n",
    "from Bio import SeqIO"
   ]
  },
  {
   "cell_type": "markdown",
   "metadata": {},
   "source": [
    "Looking at stats"
   ]
  },
  {
   "cell_type": "code",
   "execution_count": 3,
   "metadata": {
    "collapsed": true
   },
   "outputs": [
    {
     "name": "stderr",
     "output_type": "stream",
     "text": [
      "<ipython-input-3-f6b3f534691f>:1: SettingWithCopyWarning: \n",
      "A value is trying to be set on a copy of a slice from a DataFrame.\n",
      "Try using .loc[row_indexer,col_indexer] = value instead\n",
      "\n",
      "See the caveats in the documentation: https://pandas.pydata.org/pandas-docs/stable/user_guide/indexing.html#returning-a-view-versus-a-copy\n",
      "  dfp['Len'] = [len(s) for s in dfp['Seq'].to_list()]\n",
      "<ipython-input-3-f6b3f534691f>:2: SettingWithCopyWarning: \n",
      "A value is trying to be set on a copy of a slice from a DataFrame.\n",
      "Try using .loc[row_indexer,col_indexer] = value instead\n",
      "\n",
      "See the caveats in the documentation: https://pandas.pydata.org/pandas-docs/stable/user_guide/indexing.html#returning-a-view-versus-a-copy\n",
      "  dfn['Len'] = [len(s) for s in dfn['Seq'].to_list()]\n"
     ]
    }
   ],
   "source": [
    "dfp['Len'] = [len(s) for s in dfp['Seq'].to_list()]\n",
    "dfn['Len'] = [len(s) for s in dfn['Seq'].to_list()]\n",
    "\n",
    "dfp = dfp.sort_values('Len').reset_index(drop = True)\n",
    "dfn = dfn.sort_values('Len').reset_index(drop = True)\n",
    "\n",
    "dfp['GC'] = [SeqUtils.GC(dfp.loc[i,'Seq']) for i in range(len(dfp))]\n",
    "dfn['GC'] = [SeqUtils.GC(dfn.loc[i,'Seq']) for i in range(len(dfn))]"
   ]
  },
  {
   "cell_type": "code",
   "execution_count": 38,
   "metadata": {
    "scrolled": true
   },
   "outputs": [
    {
     "data": {
      "text/plain": [
       "<matplotlib.axes._subplots.AxesSubplot at 0x273e1c70>"
      ]
     },
     "execution_count": 38,
     "metadata": {},
     "output_type": "execute_result"
    },
    {
     "data": {
      "image/png": "[encoded data removed]",
      "text/plain": [
       "<Figure size 432x288 with 1 Axes>"
      ]
     },
     "metadata": {
      "needs_background": "light"
     },
     "output_type": "display_data"
    }
   ],
   "source": [
    "dfn.plot(x = 'Len', y = 'GC', kind='scatter')"
   ]
  },
  {
   "cell_type": "code",
   "execution_count": 43,
   "metadata": {
    "scrolled": true
   },
   "outputs": [
    {
     "data": {
      "text/html": [
       "<div>\n",
       "<style scoped>\n",
       "    .dataframe tbody tr th:only-of-type {\n",
       "        vertical-align: middle;\n",
       "    }\n",
       "\n",
       "    .dataframe tbody tr th {\n",
       "        vertical-align: top;\n",
       "    }\n",
       "\n",
       "    .dataframe thead th {\n",
       "        text-align: right;\n",
       "    }\n",
       "</style>\n",
       "<table border=\"1\" class=\"dataframe\">\n",
       "  <thead>\n",
       "    <tr style=\"text-align: right;\">\n",
       "      <th></th>\n",
       "      <th>Id</th>\n",
       "      <th>Org</th>\n",
       "      <th>MolTyp</th>\n",
       "      <th>Topol</th>\n",
       "      <th>Des</th>\n",
       "      <th>Gen</th>\n",
       "      <th>Seq</th>\n",
       "      <th>Len</th>\n",
       "      <th>GC</th>\n",
       "    </tr>\n",
       "  </thead>\n",
       "  <tbody>\n",
       "    <tr>\n",
       "      <th>1573</th>\n",
       "      <td>NC_003347.1</td>\n",
       "      <td>Grapevine fleck virus</td>\n",
       "      <td>RNA</td>\n",
       "      <td>linear</td>\n",
       "      <td>Grapevine fleck virus, complete genome</td>\n",
       "      <td>ssRNA(+)</td>\n",
       "      <td>GCACATTAGTACTGACCACCAGCCCGACTTTGACGCCACCCTGTCC...</td>\n",
       "      <td>7564</td>\n",
       "      <td>66.234796</td>\n",
       "    </tr>\n",
       "    <tr>\n",
       "      <th>2115</th>\n",
       "      <td>MH745077.1</td>\n",
       "      <td>Rubella virus genotype 2B</td>\n",
       "      <td>RNA</td>\n",
       "      <td>linear</td>\n",
       "      <td>Rubella virus genotype 2B strain RVi/Pune.IND/...</td>\n",
       "      <td>ssRNA(+)</td>\n",
       "      <td>CAATGGGAGCTACCGGACCTCGCTTAGGACTCCTATTCCCATGGAG...</td>\n",
       "      <td>9761</td>\n",
       "      <td>69.664993</td>\n",
       "    </tr>\n",
       "    <tr>\n",
       "      <th>2116</th>\n",
       "      <td>NC_001545.2</td>\n",
       "      <td>Rubella virus</td>\n",
       "      <td>ss-RNA</td>\n",
       "      <td>linear</td>\n",
       "      <td>Rubella virus, complete genome</td>\n",
       "      <td>ssRNA(+)</td>\n",
       "      <td>CAATGGAAGCTATCGGACCTCGCTTAGGACTCCCATTCCCATGGAG...</td>\n",
       "      <td>9762</td>\n",
       "      <td>69.596394</td>\n",
       "    </tr>\n",
       "    <tr>\n",
       "      <th>2117</th>\n",
       "      <td>MK780807.1</td>\n",
       "      <td>Rubella virus genotype 1A</td>\n",
       "      <td>RNA</td>\n",
       "      <td>linear</td>\n",
       "      <td>Rubella virus genotype 1A strain RVs/Oulu.FIN/...</td>\n",
       "      <td>ssRNA(+)</td>\n",
       "      <td>CAATGGGAGCTATCGGACCTCGCTTAGGACTCCTATTCCCATGGAG...</td>\n",
       "      <td>9762</td>\n",
       "      <td>67.885679</td>\n",
       "    </tr>\n",
       "  </tbody>\n",
       "</table>\n",
       "</div>"
      ],
      "text/plain": [
       "               Id                        Org  MolTyp   Topol  \\\n",
       "1573  NC_003347.1      Grapevine fleck virus     RNA  linear   \n",
       "2115   MH745077.1  Rubella virus genotype 2B     RNA  linear   \n",
       "2116  NC_001545.2              Rubella virus  ss-RNA  linear   \n",
       "2117   MK780807.1  Rubella virus genotype 1A     RNA  linear   \n",
       "\n",
       "                                                    Des       Gen  \\\n",
       "1573             Grapevine fleck virus, complete genome  ssRNA(+)   \n",
       "2115  Rubella virus genotype 2B strain RVi/Pune.IND/...  ssRNA(+)   \n",
       "2116                     Rubella virus, complete genome  ssRNA(+)   \n",
       "2117  Rubella virus genotype 1A strain RVs/Oulu.FIN/...  ssRNA(+)   \n",
       "\n",
       "                                                    Seq   Len         GC  \n",
       "1573  GCACATTAGTACTGACCACCAGCCCGACTTTGACGCCACCCTGTCC...  7564  66.234796  \n",
       "2115  CAATGGGAGCTACCGGACCTCGCTTAGGACTCCTATTCCCATGGAG...  9761  69.664993  \n",
       "2116  CAATGGAAGCTATCGGACCTCGCTTAGGACTCCCATTCCCATGGAG...  9762  69.596394  \n",
       "2117  CAATGGGAGCTATCGGACCTCGCTTAGGACTCCTATTCCCATGGAG...  9762  67.885679  "
      ]
     },
     "execution_count": 43,
     "metadata": {},
     "output_type": "execute_result"
    }
   ],
   "source": [
    "dfp.loc[dfp['GC'] > 65 ] "
   ]
  },
  {
   "cell_type": "code",
   "execution_count": 42,
   "metadata": {
    "scrolled": false
   },
   "outputs": [
    {
     "data": {
      "text/plain": [
       "<matplotlib.axes._subplots.AxesSubplot at 0x2762ceb0>"
      ]
     },
     "execution_count": 42,
     "metadata": {},
     "output_type": "execute_result"
    },
    {
     "data": {
      "image/png": "[encoded data removed]",
      "text/plain": [
       "<Figure size 432x288 with 1 Axes>"
      ]
     },
     "metadata": {
      "needs_background": "light"
     },
     "output_type": "display_data"
    }
   ],
   "source": [
    "dfp.loc[dfp['Len'] < 25000].plot(x = 'Len', y = 'GC', kind='scatter')"
   ]
  },
  {
   "cell_type": "code",
   "execution_count": 97,
   "metadata": {
    "scrolled": false
   },
   "outputs": [
    {
     "data": {
      "image/png": "[encoded data removed]",
      "text/plain": [
       "<Figure size 432x288 with 1 Axes>"
      ]
     },
     "metadata": {
      "needs_background": "light"
     },
     "output_type": "display_data"
    },
    {
     "ename": "KeyboardInterrupt",
     "evalue": "",
     "output_type": "error",
     "traceback": [
      "\u001b[1;31m---------------------------------------------------------------------------\u001b[0m",
      "\u001b[1;31mKeyboardInterrupt\u001b[0m                         Traceback (most recent call last)",
      "\u001b[1;32m<ipython-input-97-0ed802bbbcea>\u001b[0m in \u001b[0;36m<module>\u001b[1;34m\u001b[0m\n\u001b[0;32m     19\u001b[0m     \u001b[0mplt\u001b[0m\u001b[1;33m.\u001b[0m\u001b[0mtitle\u001b[0m\u001b[1;33m(\u001b[0m\u001b[0mr\u001b[0m\u001b[1;33m[\u001b[0m\u001b[1;34m'Org'\u001b[0m\u001b[1;33m]\u001b[0m\u001b[1;33m)\u001b[0m\u001b[1;33m\u001b[0m\u001b[1;33m\u001b[0m\u001b[0m\n\u001b[0;32m     20\u001b[0m     \u001b[0mplt\u001b[0m\u001b[1;33m.\u001b[0m\u001b[0mshow\u001b[0m\u001b[1;33m(\u001b[0m\u001b[1;33m)\u001b[0m\u001b[1;33m\u001b[0m\u001b[1;33m\u001b[0m\u001b[0m\n\u001b[1;32m---> 21\u001b[1;33m     \u001b[0mtime\u001b[0m\u001b[1;33m.\u001b[0m\u001b[0msleep\u001b[0m\u001b[1;33m(\u001b[0m\u001b[1;36m3\u001b[0m\u001b[1;33m)\u001b[0m\u001b[1;33m\u001b[0m\u001b[1;33m\u001b[0m\u001b[0m\n\u001b[0m\u001b[0;32m     22\u001b[0m     \u001b[0mclear_output\u001b[0m\u001b[1;33m(\u001b[0m\u001b[0mwait\u001b[0m\u001b[1;33m=\u001b[0m\u001b[1;32mTrue\u001b[0m\u001b[1;33m)\u001b[0m\u001b[1;33m\u001b[0m\u001b[1;33m\u001b[0m\u001b[0m\n",
      "\u001b[1;31mKeyboardInterrupt\u001b[0m: "
     ]
    }
   ],
   "source": [
    "#looking at distribution of gc contenct in a genome\n",
    "\n",
    "def gc_plotter(seq, winsize):\n",
    "    qgc = []\n",
    "    for i in range(0, len(seq) - winsize + 1, winsize):\n",
    "        query = seq[i: i + winsize]\n",
    "        gc = SeqUtils.GC(query)\n",
    "        qgc.append([i, gc])\n",
    "        \n",
    "    return qgc\n",
    "\n",
    "import time\n",
    "import matplotlib.pyplot as plt\n",
    "import seaborn as sns\n",
    "from IPython.display import clear_output\n",
    "\n",
    "for i,r in dfp.loc[dfp['Len'] > 5000].iterrows():\n",
    "    pd.DataFrame(gc_plotter(r['Seq'],20)).plot(x = 0, y = 1, kind='scatter', s = 3)\n",
    "    plt.title(r['Org'])\n",
    "    plt.show()\n",
    "    time.sleep(3)\n",
    "    clear_output(wait=True)"
   ]
  },
  {
   "cell_type": "code",
   "execution_count": null,
   "metadata": {},
   "outputs": [],
   "source": [
    "looking at transition matrices"
   ]
  },
  {
   "cell_type": "code",
   "execution_count": 31,
   "metadata": {},
   "outputs": [],
   "source": [
    "lp = dfp.loc[350, 'Seq']\n",
    "sp = dfp.loc[3867, 'Seq']\n",
    "ln = dfn.loc[3127, 'Seq']\n",
    "sn = dfn.loc[2853, 'Seq']"
   ]
  },
  {
   "cell_type": "code",
   "execution_count": 34,
   "metadata": {},
   "outputs": [],
   "source": [
    "tlp = transition_matrix(lp)\n",
    "tsp = transition_matrix(sp)\n",
    "tln = transition_matrix(ln)\n",
    "tsn = transition_matrix(sn)"
   ]
  },
  {
   "cell_type": "code",
   "execution_count": 40,
   "metadata": {
    "scrolled": true
   },
   "outputs": [
    {
     "name": "stdout",
     "output_type": "stream",
     "text": [
      "[[0.36805428 0.36768751 0.11290421 0.15135399]\n",
      " [0.37258244 0.32278622 0.20414969 0.10048166]\n",
      " [0.41290538 0.30508191 0.13306586 0.14894684]\n",
      " [0.53173563 0.24321288 0.10934282 0.11570867]] \n",
      "\n",
      " [[0.29180328 0.27213115 0.20655738 0.2295082 ]\n",
      " [0.24184783 0.29619565 0.20108696 0.26086957]\n",
      " [0.22821577 0.3526971  0.22406639 0.19502075]\n",
      " [0.26865672 0.34328358 0.18656716 0.20149254]] \n",
      "\n",
      " [[0.27566441 0.28243877 0.23866597 0.20323085]\n",
      " [0.25234002 0.26399236 0.27201528 0.21165234]\n",
      " [0.34069549 0.22086466 0.2481203  0.19031955]\n",
      " [0.35276306 0.32500631 0.1014383  0.22079233]] \n",
      "\n",
      " [[0.27378641 0.2776699  0.26213592 0.18640777]\n",
      " [0.24336283 0.2920354  0.26769912 0.19690265]\n",
      " [0.31761787 0.18114144 0.30769231 0.19354839]\n",
      " [0.42153846 0.31692308 0.07076923 0.19076923]]\n"
     ]
    }
   ],
   "source": [
    "print(tlp, '\\n\\n', tsp, '\\n\\n', tln, '\\n\\n', tsn)"
   ]
  },
  {
   "cell_type": "code",
   "execution_count": 2,
   "metadata": {},
   "outputs": [],
   "source": [
    "#load representative sequences into list\n",
    "\n",
    "df = pd.read_csv('final file hopefully no errors.csv')\n",
    "dfp = df.loc[df['Gen'] == 'ssRNA(+)']\n",
    "dfn = df.loc[df['Gen'] == 'ssRNA(-)']\n",
    "\n",
    "#load databases as dataframes\n",
    "\n",
    "working_df = pd.DataFrame()\n",
    "working_df['Seq'] = ['ATCGCGGATACAATTAGCGATACACCCTGGGTACCCGTACGTATAGAGATACACAGATACAAAAGATACAAAAATATACGATACAACACAATGATACAACA']\n",
    "\n",
    "#set fragment/window size\n",
    "\n",
    "window_size = 26\n",
    "\n",
    "#set count threshold\n",
    "\n"
   ]
  },
  {
   "cell_type": "markdown",
   "metadata": {},
   "source": [
    "define functions"
   ]
  },
  {
   "cell_type": "code",
   "execution_count": 33,
   "metadata": {},
   "outputs": [
    {
     "name": "stdout",
     "output_type": "stream",
     "text": [
      "0.00 0.50 0.00 0.50\n",
      "1.00 0.00 0.00 0.00\n",
      "1.00 0.00 0.00 0.00\n",
      "1.00 0.00 0.00 0.00\n"
     ]
    }
   ],
   "source": [
    "#make transition matrix from query sequence\n",
    "#starter code from https://stackoverflow.com/questions/46657221/generating-markov-transition-matrix-in-python\n",
    "\n",
    "def transition_matrix(queryseq):\n",
    "    \n",
    "    transitions = []\n",
    "    \n",
    "    for letter in queryseq:\n",
    "        if letter == 'A':\n",
    "            transitions.append(1)\n",
    "        elif letter == 'T':\n",
    "            transitions.append(2)\n",
    "        elif letter == 'G':\n",
    "            transitions.append(3)\n",
    "        elif letter == 'C':\n",
    "            transitions.append(4) \n",
    "    \n",
    "    n = 5 #number of states\n",
    "\n",
    "    M = [[0]*n for _ in range(n)]\n",
    "\n",
    "    for (i,j) in zip(transitions,transitions[1:]):\n",
    "        M[i][j] += 1\n",
    "\n",
    "    #now convert to probabilities:\n",
    "    for row in M:\n",
    "        s = sum(row)\n",
    "        if s > 0:\n",
    "            row[:] = [f/s for f in row]\n",
    "    return np.array(M)[1:,1:]\n",
    "\n",
    "#test:\n",
    "\n",
    "t = 'GATAasdfCA'\n",
    "m = transition_matrix(t)\n",
    "for row in m: print(' '.join('{0:.2f}'.format(x) for x in row))"
   ]
  },
  {
   "cell_type": "code",
   "execution_count": 48,
   "metadata": {},
   "outputs": [],
   "source": [
    "#calculate score and count\n",
    "\n",
    "def calculate_score_count(tm, sequence):\n",
    "    score_lst = []\n",
    "    \n",
    "    states = []\n",
    "    \n",
    "    for letter in sequence:\n",
    "        if letter == 'A':\n",
    "            states.append(0)\n",
    "        elif letter == 'T':\n",
    "            states.append(1)\n",
    "        elif letter == 'G':\n",
    "            states.append(2)\n",
    "        elif letter == 'C':\n",
    "            states.append(3) \n",
    "    \n",
    "    old_state = states[0]\n",
    "    for state in states[1:]:\n",
    "        \n",
    "        if tm[state, old_state] != 0:\n",
    "            score_lst.append(tm[state, old_state])\n",
    "        old_state = state\n",
    "    \n",
    "    score = np.prod(score_lst)\n",
    "    \n",
    "    count = 0\n",
    "    return (score, count)"
   ]
  },
  {
   "cell_type": "markdown",
   "metadata": {},
   "source": [
    "workflow"
   ]
  },
  {
   "cell_type": "code",
   "execution_count": 25,
   "metadata": {
    "scrolled": true
   },
   "outputs": [],
   "source": [
    "for repseq in repseqs:\n",
    "    \n",
    "    score_df = pd.DataFrame(index = list(range(len(working_df['Seq']))))\n",
    "    count_df = pd.DataFrame(index = list(range(len(working_df['Seq']))))\n",
    "    \n",
    "    for i in range(0, (len(repseq) - window_size), window_size):\n",
    "        query = repseq[i:(i + window_size)]\n",
    "        tm = transition_matrix(query)\n",
    "        (max_score, count) = calculate_score_count(tm, query)\n",
    "        \n",
    "        #print('made %d st tm and query' % i)\n",
    "        \n",
    "        #starting db seach\n",
    "        \n",
    "        for searchseq in working_df['Seq']:\n",
    "            searchseq = str(searchseq)\n",
    "            \n",
    "            score_list = []\n",
    "            count_list = []\n",
    "            temp = 0\n",
    "            \n",
    "            #define separate functions for score and count?\n",
    "            \n",
    "            for i in range(0, (len(searchseq) - window_size) ):\n",
    "                current_window = searchseq[i: (i + window_size)]\n",
    "                (score, count) = calculate_score_count(tm, current_window)\n",
    "                \n",
    "                temp = score/max_score + temp\n",
    "                \n",
    "            score_list.append(temp)\n",
    "            #count_list.append(count)\n",
    "            \n",
    "        score_df[query] = score_list\n",
    "        #count_df[query] = count_list"
   ]
  },
  {
   "cell_type": "markdown",
   "metadata": {},
   "source": [
    "all the rough code"
   ]
  },
  {
   "cell_type": "code",
   "execution_count": 26,
   "metadata": {},
   "outputs": [
    {
     "data": {
      "text/html": [
       "<div>\n",
       "<style scoped>\n",
       "    .dataframe tbody tr th:only-of-type {\n",
       "        vertical-align: middle;\n",
       "    }\n",
       "\n",
       "    .dataframe tbody tr th {\n",
       "        vertical-align: top;\n",
       "    }\n",
       "\n",
       "    .dataframe thead th {\n",
       "        text-align: right;\n",
       "    }\n",
       "</style>\n",
       "<table border=\"1\" class=\"dataframe\">\n",
       "  <thead>\n",
       "    <tr style=\"text-align: right;\">\n",
       "      <th></th>\n",
       "      <th>GATACAATACATATACAAAAAAAATT</th>\n",
       "    </tr>\n",
       "  </thead>\n",
       "  <tbody>\n",
       "    <tr>\n",
       "      <th>0</th>\n",
       "      <td>61.934678</td>\n",
       "    </tr>\n",
       "  </tbody>\n",
       "</table>\n",
       "</div>"
      ],
      "text/plain": [
       "   GATACAATACATATACAAAAAAAATT\n",
       "0                   61.934678"
      ]
     },
     "execution_count": 26,
     "metadata": {},
     "output_type": "execute_result"
    }
   ],
   "source": [
    "score_df"
   ]
  },
  {
   "cell_type": "code",
   "execution_count": 39,
   "metadata": {},
   "outputs": [],
   "source": [
    "t = transition_matrix('GATACAATACATATACAAAAAAAATT')"
   ]
  },
  {
   "cell_type": "code",
   "execution_count": 49,
   "metadata": {
    "scrolled": true
   },
   "outputs": [
    {
     "data": {
      "text/plain": [
       "(1.6093254089355476e-08, 0)"
      ]
     },
     "execution_count": 49,
     "metadata": {},
     "output_type": "execute_result"
    }
   ],
   "source": [
    "calculate_score_count(t, 'GATACAATACATATACAAAAAAAATT')"
   ]
  },
  {
   "cell_type": "code",
   "execution_count": 57,
   "metadata": {
    "scrolled": true
   },
   "outputs": [
    {
     "data": {
      "text/plain": [
       "(1.2069940567016607e-08, 0)"
      ]
     },
     "execution_count": 57,
     "metadata": {},
     "output_type": "execute_result"
    }
   ],
   "source": [
    "calculate_score_count(t, 'GATACAATACATATACACAATAAATT')"
   ]
  },
  {
   "cell_type": "code",
   "execution_count": 70,
   "metadata": {},
   "outputs": [
    {
     "data": {
      "text/plain": [
       "736"
      ]
     },
     "execution_count": 70,
     "metadata": {},
     "output_type": "execute_result"
    }
   ],
   "source": [
    "8 * (101-9)"
   ]
  },
  {
   "cell_type": "code",
   "execution_count": 69,
   "metadata": {},
   "outputs": [
    {
     "data": {
      "text/plain": [
       "564"
      ]
     },
     "execution_count": 69,
     "metadata": {},
     "output_type": "execute_result"
    }
   ],
   "source": [
    "6 * (101-7)"
   ]
  },
  {
   "cell_type": "code",
   "execution_count": 63,
   "metadata": {},
   "outputs": [
    {
     "data": {
      "text/html": [
       "<div>\n",
       "<style scoped>\n",
       "    .dataframe tbody tr th:only-of-type {\n",
       "        vertical-align: middle;\n",
       "    }\n",
       "\n",
       "    .dataframe tbody tr th {\n",
       "        vertical-align: top;\n",
       "    }\n",
       "\n",
       "    .dataframe thead th {\n",
       "        text-align: right;\n",
       "    }\n",
       "</style>\n",
       "<table border=\"1\" class=\"dataframe\">\n",
       "  <thead>\n",
       "    <tr style=\"text-align: right;\">\n",
       "      <th></th>\n",
       "      <th>GATACAATACATA</th>\n",
       "      <th>TACAAAAAAAATT</th>\n",
       "    </tr>\n",
       "  </thead>\n",
       "  <tbody>\n",
       "    <tr>\n",
       "      <th>0</th>\n",
       "      <td>486.333333</td>\n",
       "      <td>354.0</td>\n",
       "    </tr>\n",
       "  </tbody>\n",
       "</table>\n",
       "</div>"
      ],
      "text/plain": [
       "   GATACAATACATA  TACAAAAAAAATT\n",
       "0     486.333333          354.0"
      ]
     },
     "execution_count": 63,
     "metadata": {},
     "output_type": "execute_result"
    }
   ],
   "source": [
    "score_df"
   ]
  },
  {
   "cell_type": "code",
   "execution_count": 60,
   "metadata": {
    "scrolled": true
   },
   "outputs": [
    {
     "data": {
      "text/html": [
       "<div>\n",
       "<style scoped>\n",
       "    .dataframe tbody tr th:only-of-type {\n",
       "        vertical-align: middle;\n",
       "    }\n",
       "\n",
       "    .dataframe tbody tr th {\n",
       "        vertical-align: top;\n",
       "    }\n",
       "\n",
       "    .dataframe thead th {\n",
       "        text-align: right;\n",
       "    }\n",
       "</style>\n",
       "<table border=\"1\" class=\"dataframe\">\n",
       "  <thead>\n",
       "    <tr style=\"text-align: right;\">\n",
       "      <th></th>\n",
       "      <th>GATACAA</th>\n",
       "      <th>TACATAT</th>\n",
       "      <th>ACAAAAA</th>\n",
       "      <th>AAATTTT</th>\n",
       "    </tr>\n",
       "  </thead>\n",
       "  <tbody>\n",
       "    <tr>\n",
       "      <th>0</th>\n",
       "      <td>253.333333</td>\n",
       "      <td>230.333333</td>\n",
       "      <td>144.0</td>\n",
       "      <td>75.0</td>\n",
       "    </tr>\n",
       "  </tbody>\n",
       "</table>\n",
       "</div>"
      ],
      "text/plain": [
       "      GATACAA     TACATAT  ACAAAAA  AAATTTT\n",
       "0  253.333333  230.333333    144.0     75.0"
      ]
     },
     "execution_count": 60,
     "metadata": {},
     "output_type": "execute_result"
    }
   ],
   "source": [
    "score_df"
   ]
  },
  {
   "cell_type": "code",
   "execution_count": 44,
   "metadata": {
    "scrolled": true
   },
   "outputs": [
    {
     "data": {
      "text/plain": [
       "15"
      ]
     },
     "execution_count": 44,
     "metadata": {},
     "output_type": "execute_result"
    }
   ],
   "source": [
    "len(current_window)"
   ]
  },
  {
   "cell_type": "code",
   "execution_count": 12,
   "metadata": {},
   "outputs": [
    {
     "data": {
      "text/html": [
       "<div>\n",
       "<style scoped>\n",
       "    .dataframe tbody tr th:only-of-type {\n",
       "        vertical-align: middle;\n",
       "    }\n",
       "\n",
       "    .dataframe tbody tr th {\n",
       "        vertical-align: top;\n",
       "    }\n",
       "\n",
       "    .dataframe thead th {\n",
       "        text-align: right;\n",
       "    }\n",
       "</style>\n",
       "<table border=\"1\" class=\"dataframe\">\n",
       "  <thead>\n",
       "    <tr style=\"text-align: right;\">\n",
       "      <th></th>\n",
       "    </tr>\n",
       "  </thead>\n",
       "  <tbody>\n",
       "    <tr>\n",
       "      <th>0</th>\n",
       "    </tr>\n",
       "    <tr>\n",
       "      <th>1</th>\n",
       "    </tr>\n",
       "    <tr>\n",
       "      <th>2</th>\n",
       "    </tr>\n",
       "    <tr>\n",
       "      <th>3</th>\n",
       "    </tr>\n",
       "    <tr>\n",
       "      <th>4</th>\n",
       "    </tr>\n",
       "    <tr>\n",
       "      <th>5</th>\n",
       "    </tr>\n",
       "    <tr>\n",
       "      <th>6</th>\n",
       "    </tr>\n",
       "    <tr>\n",
       "      <th>7</th>\n",
       "    </tr>\n",
       "    <tr>\n",
       "      <th>8</th>\n",
       "    </tr>\n",
       "    <tr>\n",
       "      <th>9</th>\n",
       "    </tr>\n",
       "  </tbody>\n",
       "</table>\n",
       "</div>"
      ],
      "text/plain": [
       "Empty DataFrame\n",
       "Columns: []\n",
       "Index: [0, 1, 2, 3, 4, 5, 6, 7, 8, 9]"
      ]
     },
     "execution_count": 12,
     "metadata": {},
     "output_type": "execute_result"
    }
   ],
   "source": [
    "df"
   ]
  },
  {
   "cell_type": "code",
   "execution_count": 10,
   "metadata": {},
   "outputs": [
    {
     "data": {
      "text/plain": [
       "[1.0,\n",
       " 0.0,\n",
       " 1.0,\n",
       " 0.0,\n",
       " 1.3333333333333333,\n",
       " 0.0,\n",
       " 1.3333333333333333,\n",
       " 0.0,\n",
       " 0.3333333333333333,\n",
       " 0.0,\n",
       " 0.0,\n",
       " 0.0,\n",
       " 0.0,\n",
       " 0.0,\n",
       " 0.0,\n",
       " 0.3333333333333333,\n",
       " 1.0,\n",
       " 0.3333333333333333,\n",
       " 1.0,\n",
       " 0.3333333333333333,\n",
       " 1.0,\n",
       " 0.3333333333333333,\n",
       " 1.0,\n",
       " 0.3333333333333333,\n",
       " 1.0,\n",
       " 0.6666666666666666,\n",
       " 2.0,\n",
       " 0.6666666666666666,\n",
       " 1.0,\n",
       " 0.6666666666666666,\n",
       " 2.0,\n",
       " 0.6666666666666666,\n",
       " 1.0,\n",
       " 0.3333333333333333,\n",
       " 2.0,\n",
       " 0.6666666666666666,\n",
       " 2.0,\n",
       " 0.6666666666666666,\n",
       " 2.3333333333333335,\n",
       " 1.0,\n",
       " 1.6666666666666665,\n",
       " 1.0,\n",
       " 1.0,\n",
       " 1.0,\n",
       " 1.0,\n",
       " 1.6666666666666665,\n",
       " 1.0,\n",
       " 2.333333333333333,\n",
       " 1.0,\n",
       " 3.0,\n",
       " 1.0,\n",
       " 3.0,\n",
       " 1.0,\n",
       " 3.0,\n",
       " 1.0,\n",
       " 2.3333333333333335,\n",
       " 1.6666666666666665,\n",
       " 1.6666666666666665,\n",
       " 2.333333333333333]"
      ]
     },
     "execution_count": 10,
     "metadata": {},
     "output_type": "execute_result"
    }
   ],
   "source": [
    "score_list"
   ]
  },
  {
   "cell_type": "code",
   "execution_count": 8,
   "metadata": {},
   "outputs": [
    {
     "name": "stdout",
     "output_type": "stream",
     "text": [
      "ATCGCGATTAGCCCCTGGGTACCCGTACGTATAGACAGATACAAAAAAAATATACACACAATACA\n"
     ]
    }
   ],
   "source": [
    "for i in working_df['Seq']:\n",
    "    print(str(i))"
   ]
  },
  {
   "cell_type": "code",
   "execution_count": 107,
   "metadata": {
    "scrolled": false
   },
   "outputs": [
    {
     "data": {
      "text/plain": [
       "3.1666666666666665"
      ]
     },
     "execution_count": 107,
     "metadata": {},
     "output_type": "execute_result"
    }
   ],
   "source": [
    "len(repseq)/window_size"
   ]
  },
  {
   "cell_type": "code",
   "execution_count": 101,
   "metadata": {},
   "outputs": [
    {
     "data": {
      "text/plain": [
       "[0, 1]"
      ]
     },
     "execution_count": 101,
     "metadata": {},
     "output_type": "execute_result"
    }
   ],
   "source": [
    "list(range(int(len(repseq) / window_size)))"
   ]
  },
  {
   "cell_type": "code",
   "execution_count": 98,
   "metadata": {
    "scrolled": true
   },
   "outputs": [
    {
     "data": {
      "text/plain": [
       "[0, 1]"
      ]
     },
     "execution_count": 98,
     "metadata": {},
     "output_type": "execute_result"
    }
   ],
   "source": [
    "list(range(int(len(repseq) / window_size)))"
   ]
  },
  {
   "cell_type": "code",
   "execution_count": 108,
   "metadata": {},
   "outputs": [
    {
     "data": {
      "text/html": [
       "<div>\n",
       "<style scoped>\n",
       "    .dataframe tbody tr th:only-of-type {\n",
       "        vertical-align: middle;\n",
       "    }\n",
       "\n",
       "    .dataframe tbody tr th {\n",
       "        vertical-align: top;\n",
       "    }\n",
       "\n",
       "    .dataframe thead th {\n",
       "        text-align: right;\n",
       "    }\n",
       "</style>\n",
       "<table border=\"1\" class=\"dataframe\">\n",
       "  <thead>\n",
       "    <tr style=\"text-align: right;\">\n",
       "      <th></th>\n",
       "      <th>0</th>\n",
       "      <th>1</th>\n",
       "      <th>2</th>\n",
       "    </tr>\n",
       "  </thead>\n",
       "  <tbody>\n",
       "  </tbody>\n",
       "</table>\n",
       "</div>"
      ],
      "text/plain": [
       "Empty DataFrame\n",
       "Columns: [0, 1, 2]\n",
       "Index: []"
      ]
     },
     "execution_count": 108,
     "metadata": {},
     "output_type": "execute_result"
    }
   ],
   "source": [
    "score_df"
   ]
  },
  {
   "cell_type": "code",
   "execution_count": 72,
   "metadata": {},
   "outputs": [
    {
     "data": {
      "text/html": [
       "<div>\n",
       "<style scoped>\n",
       "    .dataframe tbody tr th:only-of-type {\n",
       "        vertical-align: middle;\n",
       "    }\n",
       "\n",
       "    .dataframe tbody tr th {\n",
       "        vertical-align: top;\n",
       "    }\n",
       "\n",
       "    .dataframe thead th {\n",
       "        text-align: right;\n",
       "    }\n",
       "</style>\n",
       "<table border=\"1\" class=\"dataframe\">\n",
       "  <thead>\n",
       "    <tr style=\"text-align: right;\">\n",
       "      <th></th>\n",
       "      <th>0</th>\n",
       "      <th>1</th>\n",
       "    </tr>\n",
       "  </thead>\n",
       "  <tbody>\n",
       "  </tbody>\n",
       "</table>\n",
       "</div>"
      ],
      "text/plain": [
       "Empty DataFrame\n",
       "Columns: [0, 1]\n",
       "Index: []"
      ]
     },
     "execution_count": 72,
     "metadata": {},
     "output_type": "execute_result"
    }
   ],
   "source": [
    "count_df"
   ]
  },
  {
   "cell_type": "code",
   "execution_count": 62,
   "metadata": {},
   "outputs": [
    {
     "data": {
      "text/plain": [
       "array([[0. , 0.5, 0. , 0.5],\n",
       "       [1. , 0. , 0. , 0. ],\n",
       "       [1. , 0. , 0. , 0. ],\n",
       "       [1. , 0. , 0. , 0. ]])"
      ]
     },
     "execution_count": 62,
     "metadata": {},
     "output_type": "execute_result"
    }
   ],
   "source": [
    "x"
   ]
  },
  {
   "cell_type": "code",
   "execution_count": 56,
   "metadata": {},
   "outputs": [],
   "source": [
    "x = x[1:,1:]"
   ]
  },
  {
   "cell_type": "code",
   "execution_count": 53,
   "metadata": {},
   "outputs": [],
   "source": [
    "x = np.array(m)"
   ]
  },
  {
   "cell_type": "code",
   "execution_count": 47,
   "metadata": {},
   "outputs": [
    {
     "data": {
      "text/plain": [
       "3.8"
      ]
     },
     "execution_count": 47,
     "metadata": {},
     "output_type": "execute_result"
    }
   ],
   "source": [
    "19/5"
   ]
  },
  {
   "cell_type": "code",
   "execution_count": 46,
   "metadata": {},
   "outputs": [
    {
     "name": "stdout",
     "output_type": "stream",
     "text": [
      "0\n",
      "5\n",
      "10\n",
      "15\n"
     ]
    }
   ],
   "source": [
    "for i in range(0,19,5):\n",
    "    print(i)"
   ]
  },
  {
   "cell_type": "code",
   "execution_count": 48,
   "metadata": {},
   "outputs": [
    {
     "data": {
      "text/plain": [
       "[0, 1, 2, 3, 4]"
      ]
     },
     "execution_count": 48,
     "metadata": {},
     "output_type": "execute_result"
    }
   ],
   "source": [
    "list(range(0,5))"
   ]
  },
  {
   "cell_type": "code",
   "execution_count": 33,
   "metadata": {},
   "outputs": [],
   "source": [
    "df = pd.DataFrame([(1,2,3,4),(2,3,4,5)])"
   ]
  },
  {
   "cell_type": "code",
   "execution_count": 34,
   "metadata": {},
   "outputs": [
    {
     "data": {
      "text/html": [
       "<div>\n",
       "<style scoped>\n",
       "    .dataframe tbody tr th:only-of-type {\n",
       "        vertical-align: middle;\n",
       "    }\n",
       "\n",
       "    .dataframe tbody tr th {\n",
       "        vertical-align: top;\n",
       "    }\n",
       "\n",
       "    .dataframe thead th {\n",
       "        text-align: right;\n",
       "    }\n",
       "</style>\n",
       "<table border=\"1\" class=\"dataframe\">\n",
       "  <thead>\n",
       "    <tr style=\"text-align: right;\">\n",
       "      <th></th>\n",
       "      <th>0</th>\n",
       "      <th>1</th>\n",
       "      <th>2</th>\n",
       "      <th>3</th>\n",
       "    </tr>\n",
       "  </thead>\n",
       "  <tbody>\n",
       "    <tr>\n",
       "      <th>0</th>\n",
       "      <td>1</td>\n",
       "      <td>2</td>\n",
       "      <td>3</td>\n",
       "      <td>4</td>\n",
       "    </tr>\n",
       "    <tr>\n",
       "      <th>1</th>\n",
       "      <td>2</td>\n",
       "      <td>3</td>\n",
       "      <td>4</td>\n",
       "      <td>5</td>\n",
       "    </tr>\n",
       "    <tr>\n",
       "      <th>2</th>\n",
       "      <td>5</td>\n",
       "      <td>6</td>\n",
       "      <td>7</td>\n",
       "      <td>8</td>\n",
       "    </tr>\n",
       "  </tbody>\n",
       "</table>\n",
       "</div>"
      ],
      "text/plain": [
       "   0  1  2  3\n",
       "0  1  2  3  4\n",
       "1  2  3  4  5\n",
       "2  5  6  7  8"
      ]
     },
     "execution_count": 34,
     "metadata": {},
     "output_type": "execute_result"
    }
   ],
   "source": [
    "df.append([(5,6,7,8)], ignore_index = True)"
   ]
  },
  {
   "cell_type": "code",
   "execution_count": 15,
   "metadata": {
    "scrolled": true
   },
   "outputs": [
    {
     "name": "stdout",
     "output_type": "stream",
     "text": [
      "10\n",
      "20\n",
      "30\n",
      "40\n",
      "50\n",
      "60\n",
      "70\n",
      "80\n",
      "90\n",
      "100\n"
     ]
    }
   ],
   "source": [
    "for i in range(0,100,10):\n",
    "    print(i+10)"
   ]
  },
  {
   "cell_type": "code",
   "execution_count": 11,
   "metadata": {},
   "outputs": [
    {
     "name": "stdout",
     "output_type": "stream",
     "text": [
      "3 1\n",
      "1 2\n",
      "2 1\n",
      "1 4\n",
      "4 1\n",
      "1 2\n"
     ]
    }
   ],
   "source": [
    "t = [3,1,2,1,4,1]\n",
    "for i, j in (zip(t,(t[1:] + [2,4,4]))):\n",
    "    print(i,j)"
   ]
  },
  {
   "cell_type": "code",
   "execution_count": 16,
   "metadata": {},
   "outputs": [],
   "source": [
    "df = pd.read_csv('resultp window 1.csv')"
   ]
  },
  {
   "cell_type": "code",
   "execution_count": 17,
   "metadata": {},
   "outputs": [
    {
     "data": {
      "text/html": [
       "<div>\n",
       "<style scoped>\n",
       "    .dataframe tbody tr th:only-of-type {\n",
       "        vertical-align: middle;\n",
       "    }\n",
       "\n",
       "    .dataframe tbody tr th {\n",
       "        vertical-align: top;\n",
       "    }\n",
       "\n",
       "    .dataframe thead th {\n",
       "        text-align: right;\n",
       "    }\n",
       "</style>\n",
       "<table border=\"1\" class=\"dataframe\">\n",
       "  <thead>\n",
       "    <tr style=\"text-align: right;\">\n",
       "      <th></th>\n",
       "      <th>A</th>\n",
       "      <th>T</th>\n",
       "      <th>G</th>\n",
       "      <th>C</th>\n",
       "    </tr>\n",
       "  </thead>\n",
       "  <tbody>\n",
       "    <tr>\n",
       "      <th>0</th>\n",
       "      <td>16012.500</td>\n",
       "      <td>16615.625</td>\n",
       "      <td>13167.625</td>\n",
       "      <td>12814.625</td>\n",
       "    </tr>\n",
       "    <tr>\n",
       "      <th>1</th>\n",
       "      <td>5359.250</td>\n",
       "      <td>4669.750</td>\n",
       "      <td>4257.250</td>\n",
       "      <td>4076.750</td>\n",
       "    </tr>\n",
       "    <tr>\n",
       "      <th>2</th>\n",
       "      <td>5655.125</td>\n",
       "      <td>5147.875</td>\n",
       "      <td>4954.250</td>\n",
       "      <td>4514.750</td>\n",
       "    </tr>\n",
       "    <tr>\n",
       "      <th>3</th>\n",
       "      <td>14255.250</td>\n",
       "      <td>16647.750</td>\n",
       "      <td>13423.125</td>\n",
       "      <td>12262.250</td>\n",
       "    </tr>\n",
       "    <tr>\n",
       "      <th>4</th>\n",
       "      <td>6742.875</td>\n",
       "      <td>5660.000</td>\n",
       "      <td>6186.125</td>\n",
       "      <td>5583.625</td>\n",
       "    </tr>\n",
       "    <tr>\n",
       "      <th>...</th>\n",
       "      <td>...</td>\n",
       "      <td>...</td>\n",
       "      <td>...</td>\n",
       "      <td>...</td>\n",
       "    </tr>\n",
       "    <tr>\n",
       "      <th>2857</th>\n",
       "      <td>3735.875</td>\n",
       "      <td>3567.750</td>\n",
       "      <td>3597.625</td>\n",
       "      <td>3673.250</td>\n",
       "    </tr>\n",
       "    <tr>\n",
       "      <th>2858</th>\n",
       "      <td>4028.125</td>\n",
       "      <td>4489.875</td>\n",
       "      <td>5001.375</td>\n",
       "      <td>4658.125</td>\n",
       "    </tr>\n",
       "    <tr>\n",
       "      <th>2859</th>\n",
       "      <td>6892.750</td>\n",
       "      <td>5698.375</td>\n",
       "      <td>6125.000</td>\n",
       "      <td>5484.500</td>\n",
       "    </tr>\n",
       "    <tr>\n",
       "      <th>2860</th>\n",
       "      <td>2030.000</td>\n",
       "      <td>2114.500</td>\n",
       "      <td>2147.500</td>\n",
       "      <td>2075.000</td>\n",
       "    </tr>\n",
       "    <tr>\n",
       "      <th>2861</th>\n",
       "      <td>6110.250</td>\n",
       "      <td>5221.750</td>\n",
       "      <td>5776.375</td>\n",
       "      <td>5954.750</td>\n",
       "    </tr>\n",
       "  </tbody>\n",
       "</table>\n",
       "<p>2862 rows × 4 columns</p>\n",
       "</div>"
      ],
      "text/plain": [
       "              A          T          G          C\n",
       "0     16012.500  16615.625  13167.625  12814.625\n",
       "1      5359.250   4669.750   4257.250   4076.750\n",
       "2      5655.125   5147.875   4954.250   4514.750\n",
       "3     14255.250  16647.750  13423.125  12262.250\n",
       "4      6742.875   5660.000   6186.125   5583.625\n",
       "...         ...        ...        ...        ...\n",
       "2857   3735.875   3567.750   3597.625   3673.250\n",
       "2858   4028.125   4489.875   5001.375   4658.125\n",
       "2859   6892.750   5698.375   6125.000   5484.500\n",
       "2860   2030.000   2114.500   2147.500   2075.000\n",
       "2861   6110.250   5221.750   5776.375   5954.750\n",
       "\n",
       "[2862 rows x 4 columns]"
      ]
     },
     "execution_count": 17,
     "metadata": {},
     "output_type": "execute_result"
    }
   ],
   "source": [
    "df"
   ]
  },
  {
   "cell_type": "code",
   "execution_count": 63,
   "metadata": {},
   "outputs": [
    {
     "name": "stdout",
     "output_type": "stream",
     "text": [
      "\n",
      " Identities = 6/6 (100.0%), Gaps = 0/6 (0.0%)\n",
      "\n",
      "Query  1     GATACA  6   \n",
      "             ||||||\n",
      "Sbjct  1     GATACA  6   \n",
      "\n"
     ]
    },
    {
     "ename": "SystemExit",
     "evalue": "",
     "output_type": "error",
     "traceback": [
      "An exception has occurred, use %tb to see the full traceback.\n",
      "\u001b[1;31mSystemExit\u001b[0m\n"
     ]
    }
   ],
   "source": [
    "#!/Users/Rad/anaconda/bin/python\n",
    "# (c) 2013 Ryan Boehning\n",
    "\n",
    "\n",
    "'''A Python implementation of the Smith-Waterman algorithm for local alignment\n",
    "of nucleotide sequences.\n",
    "'''\n",
    "\n",
    "\n",
    "import argparse\n",
    "import os\n",
    "import re\n",
    "import sys\n",
    "import unittest\n",
    "\n",
    "\n",
    "# These scores are taken from Wikipedia.\n",
    "# en.wikipedia.org/wiki/Smith%E2%80%93Waterman_algorithm\n",
    "match    = 2\n",
    "mismatch = -1\n",
    "gap      = -1\n",
    "seq1     = 'GATACA'\n",
    "seq2     = 'ATACAGATACACACATAGATACAATATTTTTGATACATTATAGATACATTTATACATTTTGTGACA'\n",
    "\n",
    "\n",
    "def main():\n",
    "    try:\n",
    "        parse_cmd_line()\n",
    "    except ValueError as err:\n",
    "        print('error:', err)\n",
    "        return\n",
    "\n",
    "    # The scoring matrix contains an extra row and column for the gap (-), hence\n",
    "    # the +1 here.\n",
    "    rows = len(seq1) + 1\n",
    "    cols = len(seq2) + 1\n",
    "\n",
    "    # Initialize the scoring matrix.\n",
    "    score_matrix, start_pos = create_score_matrix(rows, cols)\n",
    "\n",
    "    # Traceback. Find the optimal path through the scoring matrix. This path\n",
    "    # corresponds to the optimal local sequence alignment.\n",
    "    seq1_aligned, seq2_aligned = traceback(score_matrix, start_pos)\n",
    "    assert len(seq1_aligned) == len(seq2_aligned), 'aligned strings are not the same size'\n",
    "\n",
    "    # Pretty print the results. The printing follows the format of BLAST results\n",
    "    # as closely as possible.\n",
    "    alignment_str, idents, gaps, mismatches = alignment_string(seq1_aligned, seq2_aligned)\n",
    "    alength = len(seq1_aligned)\n",
    "    print()\n",
    "    print(' Identities = {0}/{1} ({2:.1%}), Gaps = {3}/{4} ({5:.1%})'.format(idents,\n",
    "          alength, idents / alength, gaps, alength, gaps / alength))\n",
    "    print()\n",
    "    for i in range(0, alength, 60):\n",
    "        seq1_slice = seq1_aligned[i:i+60]\n",
    "        print('Query  {0:<4}  {1}  {2:<4}'.format(i + 1, seq1_slice, i + len(seq1_slice)))\n",
    "        print('             {0}'.format(alignment_str[i:i+60]))\n",
    "        seq2_slice = seq2_aligned[i:i+60]\n",
    "        print('Sbjct  {0:<4}  {1}  {2:<4}'.format(i + 1, seq2_slice, i + len(seq2_slice)))\n",
    "        print()\n",
    "\n",
    "\n",
    "def parse_cmd_line():\n",
    "    '''Parse the command line arguments.\n",
    "    Create a help menu, take input from the command line, and validate the\n",
    "    input by ensuring it does not contain invalid characters (i.e. characters\n",
    "    that aren't the bases A, C, G, or T).\n",
    "    '''\n",
    "\n",
    "\n",
    "\n",
    "    seq1 = \"ATAGACGACATACAGACAGCATACAGACAGCATACAGA\"\n",
    "    seq2 = \"TTTAGCATGCGCATATCAGCAATACAGACAGATACG\"\n",
    "\n",
    "\n",
    "def create_score_matrix(rows, cols):\n",
    "    '''Create a matrix of scores representing trial alignments of the two sequences.\n",
    "    Sequence alignment can be treated as a graph search problem. This function\n",
    "    creates a graph (2D matrix) of scores, which are based on trial alignments\n",
    "    of different base pairs. The path with the highest cummulative score is the\n",
    "    best alignment.\n",
    "    '''\n",
    "    score_matrix = [[0 for col in range(cols)] for row in range(rows)]\n",
    "\n",
    "    # Fill the scoring matrix.\n",
    "    max_score = 0\n",
    "    max_pos   = None    # The row and columbn of the highest score in matrix.\n",
    "    for i in range(1, rows):\n",
    "        for j in range(1, cols):\n",
    "            score = calc_score(score_matrix, i, j)\n",
    "            if score > max_score:\n",
    "                max_score = score\n",
    "                max_pos   = (i, j)\n",
    "\n",
    "            score_matrix[i][j] = score\n",
    "\n",
    "    assert max_pos is not None, 'the x, y position with the highest score was not found'\n",
    "\n",
    "    return score_matrix, max_pos\n",
    "\n",
    "\n",
    "def calc_score(matrix, x, y):\n",
    "    '''Calculate score for a given x, y position in the scoring matrix.\n",
    "    The score is based on the up, left, and upper-left neighbors.\n",
    "    '''\n",
    "    similarity = match if seq1[x - 1] == seq2[y - 1] else mismatch\n",
    "\n",
    "    diag_score = matrix[x - 1][y - 1] + similarity\n",
    "    up_score   = matrix[x - 1][y] + gap\n",
    "    left_score = matrix[x][y - 1] + gap\n",
    "\n",
    "    return max(0, diag_score, up_score, left_score)\n",
    "\n",
    "\n",
    "def traceback(score_matrix, start_pos):\n",
    "    '''Find the optimal path through the matrix.\n",
    "    This function traces a path from the bottom-right to the top-left corner of\n",
    "    the scoring matrix. Each move corresponds to a match, mismatch, or gap in one\n",
    "    or both of the sequences being aligned. Moves are determined by the score of\n",
    "    three adjacent squares: the upper square, the left square, and the diagonal\n",
    "    upper-left square.\n",
    "    WHAT EACH MOVE REPRESENTS\n",
    "        diagonal: match/mismatch\n",
    "        up:       gap in sequence 1\n",
    "        left:     gap in sequence 2\n",
    "    '''\n",
    "\n",
    "    END, DIAG, UP, LEFT = range(4)\n",
    "    aligned_seq1 = []\n",
    "    aligned_seq2 = []\n",
    "    x, y         = start_pos\n",
    "    move         = next_move(score_matrix, x, y)\n",
    "    while move != END:\n",
    "        if move == DIAG:\n",
    "            aligned_seq1.append(seq1[x - 1])\n",
    "            aligned_seq2.append(seq2[y - 1])\n",
    "            x -= 1\n",
    "            y -= 1\n",
    "        elif move == UP:\n",
    "            aligned_seq1.append(seq1[x - 1])\n",
    "            aligned_seq2.append('-')\n",
    "            x -= 1\n",
    "        else:\n",
    "            aligned_seq1.append('-')\n",
    "            aligned_seq2.append(seq2[y - 1])\n",
    "            y -= 1\n",
    "\n",
    "        move = next_move(score_matrix, x, y)\n",
    "\n",
    "    aligned_seq1.append(seq1[x - 1])\n",
    "    aligned_seq2.append(seq2[y - 1])\n",
    "\n",
    "    return ''.join(reversed(aligned_seq1)), ''.join(reversed(aligned_seq2))\n",
    "\n",
    "\n",
    "def next_move(score_matrix, x, y):\n",
    "    diag = score_matrix[x - 1][y - 1]\n",
    "    up   = score_matrix[x - 1][y]\n",
    "    left = score_matrix[x][y - 1]\n",
    "    if diag >= up and diag >= left:     # Tie goes to the DIAG move.\n",
    "        return 1 if diag != 0 else 0    # 1 signals a DIAG move. 0 signals the end.\n",
    "    elif up > diag and up >= left:      # Tie goes to UP move.\n",
    "        return 2 if up != 0 else 0      # UP move or end.\n",
    "    elif left > diag and left > up:\n",
    "        return 3 if left != 0 else 0    # LEFT move or end.\n",
    "    else:\n",
    "        # Execution should not reach here.\n",
    "        raise ValueError('invalid move during traceback')\n",
    "\n",
    "\n",
    "def alignment_string(aligned_seq1, aligned_seq2):\n",
    "    '''Construct a special string showing identities, gaps, and mismatches.\n",
    "    This string is printed between the two aligned sequences and shows the\n",
    "    identities (|), gaps (-), and mismatches (:). As the string is constructed,\n",
    "    it also counts number of identities, gaps, and mismatches and returns the\n",
    "    counts along with the alignment string.\n",
    "    AAGGATGCCTCAAATCGATCT-TTTTCTTGG-\n",
    "    ::||::::::||:|::::::: |:  :||:|   <-- alignment string\n",
    "    CTGGTACTTGCAGAGAAGGGGGTA--ATTTGG\n",
    "    '''\n",
    "    # Build the string as a list of characters to avoid costly string\n",
    "    # concatenation.\n",
    "    idents, gaps, mismatches = 0, 0, 0\n",
    "    alignment_string = []\n",
    "    for base1, base2 in zip(aligned_seq1, aligned_seq2):\n",
    "        if base1 == base2:\n",
    "            alignment_string.append('|')\n",
    "            idents += 1\n",
    "        elif '-' in (base1, base2):\n",
    "            alignment_string.append(' ')\n",
    "            gaps += 1\n",
    "        else:\n",
    "            alignment_string.append(':')\n",
    "            mismatches += 1\n",
    "\n",
    "    return ''.join(alignment_string), idents, gaps, mismatches\n",
    "\n",
    "\n",
    "def print_matrix(matrix):\n",
    "    '''Print the scoring matrix.\n",
    "    ex:\n",
    "    0   0   0   0   0   0\n",
    "    0   2   1   2   1   2\n",
    "    0   1   1   1   1   1\n",
    "    0   0   3   2   3   2\n",
    "    0   2   2   5   4   5\n",
    "    0   1   4   4   7   6\n",
    "    '''\n",
    "    for row in matrix:\n",
    "        for col in row:\n",
    "            print('{0:>4}'.format(col))\n",
    "        print()\n",
    "\n",
    "\n",
    "class ScoreMatrixTest(unittest.TestCase):\n",
    "    '''Compare the matrix produced by create_score_matrix() with a known matrix.'''\n",
    "    def test_matrix(self):\n",
    "        # From Wikipedia (en.wikipedia.org/wiki/Smith%E2%80%93Waterman_algorithm)\n",
    "        #                -   A   C   A   C   A   C   T   A\n",
    "        known_matrix = [[0,  0,  0,  0,  0,  0,  0,  0,  0],  # -\n",
    "                        [0,  2,  1,  2,  1,  2,  1,  0,  2],  # A\n",
    "                        [0,  1,  1,  1,  1,  1,  1,  0,  1],  # G\n",
    "                        [0,  0,  3,  2,  3,  2,  3,  2,  1],  # C\n",
    "                        [0,  2,  2,  5,  4,  5,  4,  3,  4],  # A\n",
    "                        [0,  1,  4,  4,  7,  6,  7,  6,  5],  # C\n",
    "                        [0,  2,  3,  6,  6,  9,  8,  7,  8],  # A\n",
    "                        [0,  1,  4,  5,  8,  8, 11, 10,  9],  # C\n",
    "                        [0,  2,  3,  6,  7, 10, 10, 10, 12]]  # A\n",
    "\n",
    "        global seq1, seq2\n",
    "        seq1 = 'AGCACACA'\n",
    "        seq2 = 'ACACACTA'\n",
    "        rows = len(seq1) + 1\n",
    "        cols = len(seq2) + 1\n",
    "\n",
    "        matrix_to_test, max_pos = create_score_matrix(rows, cols)\n",
    "        self.assertEqual(known_matrix, matrix_to_test)\n",
    "\n",
    "\n",
    "if __name__ == '__main__':\n",
    "    sys.exit(main())\n",
    "    \n",
    "%tb"
   ]
  }
 ],
 "metadata": {
  "kernelspec": {
   "display_name": "Python 3",
   "language": "python",
   "name": "python3"
  },
  "language_info": {
   "codemirror_mode": {
    "name": "ipython",
    "version": 3
   },
   "file_extension": ".py",
   "mimetype": "text/x-python",
   "name": "python",
   "nbconvert_exporter": "python",
   "pygments_lexer": "ipython3",
   "version": "3.8.2"
  }
 },
 "nbformat": 4,
 "nbformat_minor": 4
}
