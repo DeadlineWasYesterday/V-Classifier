{
 "cells": [
  {
   "cell_type": "code",
   "execution_count": null,
   "metadata": {},
   "outputs": [],
   "source": [
    "#Sequences sharing >85% similarity are identified by local blast search.\n",
    "#Those that share >85% similarity and are not the longest \n",
    "#in the shared category and destined to die and are marked by\n",
    "#a 'die' column in the dataframe"
   ]
  },
  {
   "cell_type": "code",
   "execution_count": 1,
   "metadata": {},
   "outputs": [],
   "source": [
    "from Bio import SeqIO\n",
    "import pandas as pd\n",
    "import re"
   ]
  },
  {
   "cell_type": "code",
   "execution_count": 26,
   "metadata": {},
   "outputs": [],
   "source": [
    "x = r'\\(([^)]+)\\)'"
   ]
  },
  {
   "cell_type": "code",
   "execution_count": 2,
   "metadata": {
    "collapsed": true
   },
   "outputs": [
    {
     "name": "stdout",
     "output_type": "stream",
     "text": [
      "ID: NM_000014.6\n",
      "Name: NM_000014.6\n",
      "Description: NM_000014.6 Homo sapiens alpha-2-macroglobulin (A2M), transcript variant 1, mRNA\n",
      "Number of features: 0\n",
      "Seq('GGGACCAGATGGATTGTAGGGAGTAGGGTACAATACAGTCTGTTCTCCTCCAGC...GTC', SingleLetterAlphabet())\n",
      "GGGACCAGATGGATTGTAGGGAGTAGGGTACAATACAGTCTGTTCTCCTCCAGCTCCTTCTTTCTGCAACATGGGGAAGAACAAACTCCTTCATCCAAGTCTGGTTCTTCTCCTCTTGGTCCTCCTGCCCACAGACGCCTCAGTCTCTGGAAAACCGCAGTATATGGTTCTGGTCCCCTCCCTGCTCCACACTGAGACCACTGAGAAGGGCTGTGTCCTTCTGAGCTACCTGAATGAGACAGTGACTGTAAGTGCTTCCTTGGAGTCTGTCAGGGGAAACAGGAGCCTCTTCACTGACCTGGAGGCGGAGAATGACGTACTCCACTGTGTCGCCTTCGCTGTCCCAAAGTCTTCATCCAATGAGGAGGTAATGTTCCTCACTGTCCAAGTGAAAGGACCAACCCAAGAATTTAAGAAGCGGACCACAGTGATGGTTAAGAACGAGGACAGTCTGGTCTTTGTCCAGACAGACAAATCAATCTACAAACCAGGGCAGACAGTGAAATTTCGTGTTGTCTCCATGGATGAAAACTTTCACCCCCTGAATGAGTTGATTCCACTAGTATACATTCAGGATCCCAAAGGAAATCGCATCGCACAATGGCAGAGTTTCCAGTTAGAGGGTGGCCTCAAGCAATTTTCTTTTCCCCTCTCATCAGAGCCCTTCCAGGGCTCCTACAAGGTGGTGGTACAGAAGAAATCAGGTGGAAGGACAGAGCACCCTTTCACCGTGGAGGAATTTGTTCTTCCCAAGTTTGAAGTACAAGTAACAGTGCCAAAGATAATCACCATCTTGGAAGAAGAGATGAATGTATCAGTGTGTGGCCTATACACATATGGGAAGCCTGTCCCTGGACATGTGACTGTGAGCATTTGCAGAAAGTATAGTGACGCTTCCGACTGCCACGGTGAAGATTCACAGGCTTTCTGTGAGAAATTCAGTGGACAGCTAAACAGCCATGGCTGCTTCTATCAGCAAGTAAAAACCAAGGTCTTCCAGCTGAAGAGGAAGGAGTATGAAATGAAACTTCACACTGAGGCCCAGATCCAAGAAGAAGGAACAGTGGTGGAATTGACTGGAAGGCAGTCCAGTGAAATCACAAGAACCATAACCAAACTCTCATTTGTGAAAGTGGACTCACACTTTCGACAGGGAATTCCCTTCTTTGGGCAGGTGCGCCTAGTAGATGGGAAAGGCGTCCCTATACCAAATAAAGTCATATTCATCAGAGGAAATGAAGCAAACTATTACTCCAATGCTACCACGGATGAGCATGGCCTTGTACAGTTCTCTATCAACACCACCAATGTTATGGGTACCTCTCTTACTGTTAGGGTCAATTACAAGGATCGTAGTCCCTGTTACGGCTACCAGTGGGTGTCAGAAGAACACGAAGAGGCACATCACACTGCTTATCTTGTGTTCTCCCCAAGCAAGAGCTTTGTCCACCTTGAGCCCATGTCTCATGAACTACCCTGTGGCCATACTCAGACAGTCCAGGCACATTATATTCTGAATGGAGGCACCCTGCTGGGGCTGAAGAAGCTCTCCTTCTATTATCTGATAATGGCAAAGGGAGGCATTGTCCGAACTGGGACTCATGGACTGCTTGTGAAGCAGGAAGACATGAAGGGCCATTTTTCCATCTCAATCCCTGTGAAGTCAGACATTGCTCCTGTCGCTCGGTTGCTCATCTATGCTGTTTTACCTACCGGGGACGTGATTGGGGATTCTGCAAAATATGATGTTGAAAATTGTCTGGCCAACAAGGTGGATTTGAGCTTCAGCCCATCACAAAGTCTCCCAGCCTCACACGCCCACCTGCGAGTCACAGCGGCTCCTCAGTCCGTCTGCGCCCTCCGTGCTGTGGACCAAAGCGTGCTGCTCATGAAGCCTGATGCTGAGCTCTCGGCGTCCTCGGTTTACAACCTGCTACCAGAAAAGGACCTCACTGGCTTCCCTGGGCCTTTGAATGACCAGGACAATGAAGACTGCATCAATCGTCATAATGTCTATATTAATGGAATCACATATACTCCAGTATCAAGTACAAATGAAAAGGATATGTACAGCTTCCTAGAGGACATGGGCTTAAAGGCATTCACCAACTCAAAGATTCGTAAACCCAAAATGTGTCCACAGCTTCAACAGTATGAAATGCATGGACCTGAAGGTCTACGTGTAGGTTTTTATGAGTCAGATGTAATGGGAAGAGGCCATGCACGCCTGGTGCATGTTGAAGAGCCTCACACGGAGACCGTACGAAAGTACTTCCCTGAGACATGGATCTGGGATTTGGTGGTGGTAAACTCAGCAGGTGTGGCTGAGGTAGGAGTAACAGTCCCTGACACCATCACCGAGTGGAAGGCAGGGGCCTTCTGCCTGTCTGAAGATGCTGGACTTGGTATCTCTTCCACTGCCTCTCTCCGAGCCTTCCAGCCCTTCTTTGTGGAGCTCACAATGCCTTACTCTGTGATTCGTGGAGAGGCCTTCACACTCAAGGCCACGGTCCTAAACTACCTTCCCAAATGCATCCGGGTCAGTGTGCAGCTGGAAGCCTCTCCCGCCTTCCTAGCTGTCCCAGTGGAGAAGGAACAAGCGCCTCACTGCATCTGTGCAAACGGGCGGCAAACTGTGTCCTGGGCAGTAACCCCAAAGTCATTAGGAAATGTGAATTTCACTGTGAGCGCAGAGGCACTAGAGTCTCAAGAGCTGTGTGGGACTGAGGTGCCTTCAGTTCCTGAACACGGAAGGAAAGACACAGTCATCAAGCCTCTGTTGGTTGAACCTGAAGGACTAGAGAAGGAAACAACATTCAACTCCCTACTTTGTCCATCAGGTGGTGAGGTTTCTGAAGAATTATCCCTGAAACTGCCACCAAATGTGGTAGAAGAATCTGCCCGAGCTTCTGTCTCAGTTTTGGGAGACATATTAGGCTCTGCCATGCAAAACACACAAAATCTTCTCCAGATGCCCTATGGCTGTGGAGAGCAGAATATGGTCCTCTTTGCTCCTAACATCTATGTACTGGATTATCTAAATGAAACACAGCAGCTTACTCCAGAGATCAAGTCCAAGGCCATTGGCTATCTCAACACTGGTTACCAGAGACAGTTGAACTACAAACACTATGATGGCTCCTACAGCACCTTTGGGGAGCGATATGGCAGGAACCAGGGCAACACCTGGCTCACAGCCTTTGTTCTGAAGACTTTTGCCCAAGCTCGAGCCTACATCTTCATCGATGAAGCACACATTACCCAAGCCCTCATATGGCTCTCCCAGAGGCAGAAGGACAATGGCTGTTTCAGGAGCTCTGGGTCACTGCTCAACAATGCCATAAAGGGAGGAGTAGAAGATGAAGTGACCCTCTCCGCCTATATCACCATCGCCCTTCTGGAGATTCCTCTCACAGTCACTCACCCTGTTGTCCGCAATGCCCTGTTTTGCCTGGAGTCAGCCTGGAAGACAGCACAAGAAGGGGACCATGGCAGCCATGTATATACCAAAGCACTGCTGGCCTATGCTTTTGCCCTGGCAGGTAACCAGGACAAGAGGAAGGAAGTACTCAAGTCACTTAATGAGGAAGCTGTGAAGAAAGACAACTCTGTCCATTGGGAGCGCCCTCAGAAACCCAAGGCACCAGTGGGGCATTTTTACGAACCCCAGGCTCCCTCTGCTGAGGTGGAGATGACATCCTATGTGCTCCTCGCTTATCTCACGGCCCAGCCAGCCCCAACCTCGGAGGACCTGACCTCTGCAACCAACATCGTGAAGTGGATCACGAAGCAGCAGAATGCCCAGGGCGGTTTCTCCTCCACCCAGGACACAGTGGTGGCTCTCCATGCTCTGTCCAAATATGGAGCAGCCACATTTACCAGGACTGGGAAGGCTGCACAGGTGACTATCCAGTCTTCAGGGACATTTTCCAGCAAATTCCAAGTGGACAACAACAACCGCCTGTTACTGCAGCAGGTCTCATTGCCAGAGCTGCCTGGGGAATACAGCATGAAAGTGACAGGAGAAGGATGTGTCTACCTCCAGACATCCTTGAAATACAATATTCTCCCAGAAAAGGAAGAGTTCCCCTTTGCTTTAGGAGTGCAGACTCTGCCTCAAACTTGTGATGAACCCAAAGCCCACACCAGCTTCCAAATCTCCCTAAGTGTCAGTTACACAGGGAGCCGCTCTGCCTCCAACATGGCGATCGTTGATGTGAAGATGGTCTCTGGCTTCATTCCCCTGAAGCCAACAGTGAAAATGCTTGAAAGATCTAACCATGTGAGCCGGACAGAAGTCAGCAGCAACCATGTCTTGATTTACCTTGATAAGGTGTCAAATCAGACACTGAGCTTGTTCTTCACGGTTCTGCAAGATGTCCCAGTAAGAGATCTGAAACCAGCCATAGTGAAAGTCTATGATTACTACGAGACGGATGAGTTTGCAATTGCTGAGTACAATGCTCCTTGCAGCAAAGATCTTGGAAATGCTTGAAGACCACAAGGCTGAAAAGTGCTTTGCTGGAGTCCTGTTCTCAGAGCTCCACAGAAGACACGTGTTTTTGTATCTTTAAAGACTTGATGAATAAACACTTTTTCTGGTCAATGTC\n"
     ]
    }
   ],
   "source": [
    "#loading in human transcriptome\n",
    "desc = []\n",
    "seq = []\n",
    "c=0\n",
    "for sr in SeqIO.parse('GCF_000001405.39_GRCh38.p13_rna.fna', 'fasta'):\n",
    "    print(sr)\n",
    "    print(sr.seq)"
   ]
  },
  {
   "cell_type": "code",
   "execution_count": 34,
   "metadata": {},
   "outputs": [],
   "source": [
    "acr = []\n",
    "for i in desc:\n",
    "    match = re.search(x, i)\n",
    "    acr.append(match.group(1))"
   ]
  },
  {
   "cell_type": "code",
   "execution_count": 35,
   "metadata": {},
   "outputs": [],
   "source": [
    "df = pd.DataFrame({'Desc' : desc, 'Acr' : acr, 'Seq' : seq})"
   ]
  },
  {
   "cell_type": "code",
   "execution_count": 39,
   "metadata": {},
   "outputs": [],
   "source": [
    "df['Len'] = 0\n",
    "\n",
    "for i,r in df.iterrows():\n",
    "    df.loc[i,'Len'] = len(r['Seq'])"
   ]
  },
  {
   "cell_type": "code",
   "execution_count": 40,
   "metadata": {},
   "outputs": [],
   "source": [
    "#df.to_csv('hg38 des acr len.csv', index = False)"
   ]
  },
  {
   "cell_type": "code",
   "execution_count": 2,
   "metadata": {},
   "outputs": [],
   "source": [
    "df = pd.read_csv('hg38 des acr len.csv')"
   ]
  },
  {
   "cell_type": "code",
   "execution_count": 4,
   "metadata": {},
   "outputs": [
    {
     "name": "stdout",
     "output_type": "stream",
     "text": [
      "86694\n"
     ]
    }
   ],
   "source": [
    "#count PREDICTED\n",
    "c = 0\n",
    "for d in df['Desc'].to_list():\n",
    "    if 'PREDICTED' in d:\n",
    "        c+=1\n",
    "print(c)\n",
    "\n",
    "#drop PREDICTED\n",
    "df['Pred'] = 0\n",
    "for i,r in df.iterrows():\n",
    "    if 'PREDICTED' in r['Desc']:\n",
    "        df.loc[i,'Pred'] = 1"
   ]
  },
  {
   "cell_type": "code",
   "execution_count": 7,
   "metadata": {},
   "outputs": [],
   "source": [
    "#drop sequences having same Acronyms except for the longest one \n",
    "df = df.sort_values(by = 'Len', ascending = False).reset_index(drop = True)\n",
    "df = df.loc[df['Pred'] == 0]\n",
    "df = df.drop_duplicates('Acr').reset_index(drop = True)"
   ]
  },
  {
   "cell_type": "code",
   "execution_count": 8,
   "metadata": {},
   "outputs": [],
   "source": [
    "#sift out sequences between 2000 and 35000\n",
    "df = df.loc[df['Len'] > 2000]\n",
    "df = df.loc[df['Len'] < 35000].reset_index(drop = True)"
   ]
  },
  {
   "cell_type": "code",
   "execution_count": 118,
   "metadata": {},
   "outputs": [],
   "source": [
    "#df.to_csv('hg38 no pred 2 to 35.csv', index = False)"
   ]
  },
  {
   "cell_type": "code",
   "execution_count": 2,
   "metadata": {},
   "outputs": [],
   "source": [
    "df = pd.read_csv('hg38 no pred 2 to 35.csv')"
   ]
  },
  {
   "cell_type": "code",
   "execution_count": 17,
   "metadata": {},
   "outputs": [],
   "source": [
    "#write fasta files\n",
    "for i,r in df.iterrows():\n",
    "    with open('hg38 no pred 2 to 35.fasta', 'a') as file:\n",
    "        file.write('> %s | %s | %s ' % (r['Desc'].split(' ')[0], r['Acr'], r['Desc']))\n",
    "        file.write('\\n')\n",
    "        file.write(r['Seq'])\n",
    "        file.write('\\n')        "
   ]
  },
  {
   "cell_type": "markdown",
   "metadata": {},
   "source": [
    "marking sequences sharing > 85% identity"
   ]
  },
  {
   "cell_type": "code",
   "execution_count": 36,
   "metadata": {},
   "outputs": [],
   "source": [
    "pndf = pd.read_csv('pndf.csv')\n",
    "p = pndf[:2862].sort_values(by = 'Len', ascending= False)\n",
    "n = pndf[2862:].sort_values(by = 'Len', ascending= False)"
   ]
  },
  {
   "cell_type": "code",
   "execution_count": 22,
   "metadata": {},
   "outputs": [],
   "source": [
    "pid = p[['Id', 'Len']].copy()\n",
    "pid = pid.rename(columns = {'Id': 'qaccver'})\n",
    "\n",
    "pout = pd.read_csv('pout.csv', sep ='\\t', names = ['qaccver', 'saccver', 'pident', 'length', 'mismatch', 'gapopen', 'qstart',\n",
    "                                             'qend', 'sstart', 'send', 'evalue', 'bitscore'])\n",
    "\n",
    "pout = pd.merge(pout, pid, on= 'qaccver', how='left')\n",
    "pout['perclen'] = pout['length']/pout['Len']\n",
    "pout['finalperc'] = pout['perclen'] * (pout['pident'] / 100)\n",
    "pout = pout.loc[pout['finalperc'] > 0.85]\n",
    "\n",
    "pout = pout[['qaccver', 'saccver']].copy()"
   ]
  },
  {
   "cell_type": "code",
   "execution_count": 23,
   "metadata": {},
   "outputs": [],
   "source": [
    "pout['excl'] = ''\n",
    "\n",
    "drop = []\n",
    "for i,r in pout.iterrows():\n",
    "    if r['qaccver'] == r['saccver']:\n",
    "        drop.append(i)\n",
    "    if r['qaccver'] > r['saccver']:\n",
    "        pout.loc[i,'excl'] = r['saccver'] + r['qaccver']\n",
    "    else:\n",
    "        pout.loc[i,'excl'] = r['qaccver'] + r['saccver']\n",
    "\n",
    "pout = pout.drop_duplicates(subset='excl')\n",
    "pout = pout.drop(index = drop)"
   ]
  },
  {
   "cell_type": "code",
   "execution_count": 49,
   "metadata": {},
   "outputs": [],
   "source": [
    "hitlist = []\n",
    "notexonerated = p['Id'].to_list()\n",
    "\n",
    "for i,r in p.iterrows():\n",
    "    notexonerated.remove(r['Id'])\n",
    "    if r['Id'] not in hitlist:\n",
    "        for i2,r2 in pout.loc[pout['qaccver'] == r['Id']].iterrows():\n",
    "            if r2['saccver'] in notexonerated:\n",
    "                hitlist.append(r2['saccver'])\n",
    "hitlist = list(set(hitlist))\n",
    "\n",
    "p['die'] = 'no'\n",
    "\n",
    "ilist = []\n",
    "for i,r in p.iterrows():\n",
    "    if r['Id'] in hitlist:\n",
    "        ilist.append(i)\n",
    "        \n",
    "for i in ilist:\n",
    "    p.loc[i, 'die'] = 'yes'"
   ]
  },
  {
   "cell_type": "code",
   "execution_count": 66,
   "metadata": {},
   "outputs": [],
   "source": [
    "p.to_csv('psk.csv', index = False)"
   ]
  },
  {
   "cell_type": "code",
   "execution_count": 67,
   "metadata": {},
   "outputs": [],
   "source": [
    "#dataframes nout and pout are parsing blast results from ncbiblast+\n",
    "#tabular output format (-outfmt 6) \n",
    "#the rest of the code calculates >85% similarity\n",
    "\n",
    "nid = n[['Id', 'Len']].copy()\n",
    "nid = nid.rename(columns = {'Id': 'qaccver'})\n",
    "nout = pd.read_csv('nout.csv', sep ='\\t', names = ['qaccver', 'saccver', 'pident', 'length', 'mismatch', 'gapopen', 'qstart',\n",
    "                                             'qend', 'sstart', 'send', 'evalue', 'bitscore'])\n",
    "\n",
    "nout = pd.merge(nout, nid, on= 'qaccver', how='left')\n",
    "nout['perclen'] = nout['length']/nout['Len']\n",
    "nout['finalperc'] = nout['perclen'] * ( nout['pident'] / 100 )\n",
    "nout = nout.loc[nout['finalperc'] > 0.85]\n",
    "\n",
    "nout = nout[['qaccver', 'saccver']].copy()"
   ]
  },
  {
   "cell_type": "code",
   "execution_count": 68,
   "metadata": {},
   "outputs": [],
   "source": [
    "#dataframe filtering\n",
    "nout['excl'] = ''\n",
    "drop = []\n",
    "for i,r in nout.iterrows():\n",
    "    if r['qaccver'] == r['saccver']:\n",
    "        drop.append(i)\n",
    "    if r['qaccver'] > r['saccver']:\n",
    "        nout.loc[i,'excl'] = r['saccver'] + r['qaccver']\n",
    "    else:\n",
    "        nout.loc[i,'excl'] = r['qaccver'] + r['saccver']\n",
    "\n",
    "nout = nout.drop_duplicates(subset='excl')\n",
    "nout = nout.drop(index = drop)"
   ]
  },
  {
   "cell_type": "code",
   "execution_count": 69,
   "metadata": {},
   "outputs": [],
   "source": [
    "#exonerating marked sequences that are the longest in the group\n",
    "hitlist = []\n",
    "notexonerated = n['Id'].to_list()\n",
    "\n",
    "for i,r in n.iterrows():\n",
    "    notexonerated.remove(r['Id'])\n",
    "    if r['Id'] not in hitlist:\n",
    "        for i2,r2 in nout.loc[nout['qaccver'] == r['Id']].iterrows():\n",
    "            if r2['saccver'] in notexonerated:\n",
    "                hitlist.append(r2['saccver'])\n",
    "hitlist = list(set(hitlist))\n",
    "\n",
    "n['die'] = 'no'\n",
    "\n",
    "ilist = []\n",
    "for i,r in n.iterrows():\n",
    "    if r['Id'] in hitlist:\n",
    "        ilist.append(i)\n",
    "        \n",
    "for i in ilist:\n",
    "    n.loc[i, 'die'] = 'yes'"
   ]
  },
  {
   "cell_type": "code",
   "execution_count": 74,
   "metadata": {},
   "outputs": [],
   "source": [
    "n.to_csv('nsk.csv', index = False)"
   ]
  },
  {
   "cell_type": "code",
   "execution_count": 3,
   "metadata": {
    "scrolled": true
   },
   "outputs": [],
   "source": [
    "h1 = pd.read_csv('h1out.csv', sep ='\\t', names = ['qaccver', 'saccver', 'pident', 'length', 'mismatch', 'gapopen', 'qstart',\n",
    "                                             'qend', 'sstart', 'send', 'evalue', 'bitscore'])\n",
    "h1 = h1[['qaccver', 'saccver', 'pident', 'length']].copy()"
   ]
  },
  {
   "cell_type": "code",
   "execution_count": 4,
   "metadata": {},
   "outputs": [],
   "source": [
    "df['Id'] = [d.split(' ')[0] for d in df['Desc'].to_list()]"
   ]
  },
  {
   "cell_type": "code",
   "execution_count": 5,
   "metadata": {},
   "outputs": [],
   "source": [
    "dfid = df[['Id', 'Len']].copy()\n",
    "\n",
    "dfid = dfid.rename(columns = {'Id': 'qaccver'})\n",
    "\n",
    "h1 = pd.merge(h1, dfid, on= 'qaccver', how='left')\n",
    "h1['perclen'] = h1['length']/h1['Len']\n",
    "h1['finalperc'] = h1['perclen'] * ( h1['pident'] / 100 )\n",
    "h1 = h1.loc[h1['finalperc'] > 0.85]\n",
    "\n",
    "h1 = h1[['qaccver', 'saccver']].copy()"
   ]
  },
  {
   "cell_type": "code",
   "execution_count": 6,
   "metadata": {},
   "outputs": [],
   "source": [
    "h1['excl'] = ''\n",
    "drop = []\n",
    "for i,r in h1.iterrows():\n",
    "    if r['qaccver'] == r['saccver']:\n",
    "        drop.append(i)\n",
    "    if r['qaccver'] > r['saccver']:\n",
    "        h1.loc[i,'excl'] = r['saccver'] + r['qaccver']\n",
    "    else:\n",
    "        h1.loc[i,'excl'] = r['qaccver'] + r['saccver']\n",
    "\n",
    "h1 = h1.drop_duplicates(subset='excl')\n",
    "h1 = h1.drop(index = drop)"
   ]
  },
  {
   "cell_type": "code",
   "execution_count": 8,
   "metadata": {},
   "outputs": [],
   "source": [
    "hitlist = []\n",
    "notexonerated = df['Id'].to_list()\n",
    "\n",
    "for i,r in df.iterrows():\n",
    "    notexonerated.remove(r['Id'])\n",
    "    if r['Id'] not in hitlist:\n",
    "        for i2,r2 in h1.loc[h1['qaccver'] == r['Id']].iterrows():\n",
    "            if r2['saccver'] in notexonerated:\n",
    "                hitlist.append(r2['saccver'])\n",
    "hitlist = list(set(hitlist))\n",
    "\n",
    "df['die'] = 'no'\n",
    "\n",
    "ilist = []\n",
    "for i,r in df.iterrows():\n",
    "    if r['Id'] in hitlist:\n",
    "        ilist.append(i)\n",
    "        \n",
    "for i in ilist:\n",
    "    df.loc[i, 'die'] = 'yes'"
   ]
  },
  {
   "cell_type": "code",
   "execution_count": 9,
   "metadata": {
    "collapsed": true
   },
   "outputs": [
    {
     "data": {
      "text/html": [
       "<div>\n",
       "<style scoped>\n",
       "    .dataframe tbody tr th:only-of-type {\n",
       "        vertical-align: middle;\n",
       "    }\n",
       "\n",
       "    .dataframe tbody tr th {\n",
       "        vertical-align: top;\n",
       "    }\n",
       "\n",
       "    .dataframe thead th {\n",
       "        text-align: right;\n",
       "    }\n",
       "</style>\n",
       "<table border=\"1\" class=\"dataframe\">\n",
       "  <thead>\n",
       "    <tr style=\"text-align: right;\">\n",
       "      <th></th>\n",
       "      <th>Desc</th>\n",
       "      <th>Acr</th>\n",
       "      <th>Seq</th>\n",
       "      <th>Len</th>\n",
       "      <th>Id</th>\n",
       "      <th>die</th>\n",
       "    </tr>\n",
       "  </thead>\n",
       "  <tbody>\n",
       "    <tr>\n",
       "      <th>242</th>\n",
       "      <td>NR_046235.3 Homo sapiens RNA, 45S pre-ribosoma...</td>\n",
       "      <td>RNA45SN5</td>\n",
       "      <td>GCTGACACGCTGTCCTCTGGCGACCTGTCGCTGGAGAGGTTGGGCC...</td>\n",
       "      <td>13357</td>\n",
       "      <td>NR_046235.3</td>\n",
       "      <td>yes</td>\n",
       "    </tr>\n",
       "    <tr>\n",
       "      <th>244</th>\n",
       "      <td>NR_145819.1 Homo sapiens RNA, 45S pre-ribosoma...</td>\n",
       "      <td>RNA45SN1</td>\n",
       "      <td>GCTGACACGCTGTCCTCTGGCGACCTGTCGCTGGAGAGGTTGGGCC...</td>\n",
       "      <td>13351</td>\n",
       "      <td>NR_145819.1</td>\n",
       "      <td>yes</td>\n",
       "    </tr>\n",
       "    <tr>\n",
       "      <th>248</th>\n",
       "      <td>NR_146144.1 Homo sapiens RNA, 45S pre-ribosoma...</td>\n",
       "      <td>RNA45SN2</td>\n",
       "      <td>GCTGACACGCTGTCCTCTGGCGACCTGTCGCTGGAGAGGTTGGGCC...</td>\n",
       "      <td>13315</td>\n",
       "      <td>NR_146144.1</td>\n",
       "      <td>yes</td>\n",
       "    </tr>\n",
       "    <tr>\n",
       "      <th>249</th>\n",
       "      <td>NR_146151.1 Homo sapiens RNA, 45S pre-ribosoma...</td>\n",
       "      <td>RNA45SN3</td>\n",
       "      <td>GCTGACACGCTGTCCTCTGGCGACCTGTCGCTGGAGAGGTTGGGCC...</td>\n",
       "      <td>13309</td>\n",
       "      <td>NR_146151.1</td>\n",
       "      <td>yes</td>\n",
       "    </tr>\n",
       "    <tr>\n",
       "      <th>1423</th>\n",
       "      <td>NM_001348050.2 Homo sapiens ERV3-1-ZNF117 read...</td>\n",
       "      <td>ERV3-1-ZNF117</td>\n",
       "      <td>GTCCAATCAGGCACTCAGCTGGAGCAGACAGGACGGCTTCCGGGTT...</td>\n",
       "      <td>8196</td>\n",
       "      <td>NM_001348050.2</td>\n",
       "      <td>yes</td>\n",
       "    </tr>\n",
       "    <tr>\n",
       "      <th>...</th>\n",
       "      <td>...</td>\n",
       "      <td>...</td>\n",
       "      <td>...</td>\n",
       "      <td>...</td>\n",
       "      <td>...</td>\n",
       "      <td>...</td>\n",
       "    </tr>\n",
       "    <tr>\n",
       "      <th>15389</th>\n",
       "      <td>NR_028084.1 Homo sapiens family with sequence ...</td>\n",
       "      <td>FAM41AY2</td>\n",
       "      <td>ATAAAACCCATCTAAAATGACCTTCTGGGCTACTGACTGCTCACTA...</td>\n",
       "      <td>2043</td>\n",
       "      <td>NR_028084.1</td>\n",
       "      <td>yes</td>\n",
       "    </tr>\n",
       "    <tr>\n",
       "      <th>15469</th>\n",
       "      <td>NM_001130167.2 Homo sapiens pregnancy specific...</td>\n",
       "      <td>PSG8</td>\n",
       "      <td>AGAAGGAGGCAGGACAGCACTGCTGAGAGCTGTGCTCAGGAAGCTT...</td>\n",
       "      <td>2031</td>\n",
       "      <td>NM_001130167.2</td>\n",
       "      <td>yes</td>\n",
       "    </tr>\n",
       "    <tr>\n",
       "      <th>15499</th>\n",
       "      <td>NM_001321400.1 Homo sapiens MAGE family member...</td>\n",
       "      <td>MAGEA2B</td>\n",
       "      <td>TTGCGCATTGGAGGTCAGAGGACAGCGAGATTCTCGCCCTGAGCAA...</td>\n",
       "      <td>2026</td>\n",
       "      <td>NM_001321400.1</td>\n",
       "      <td>yes</td>\n",
       "    </tr>\n",
       "    <tr>\n",
       "      <th>15511</th>\n",
       "      <td>NR_026595.2 Homo sapiens family with sequence ...</td>\n",
       "      <td>FAM226A</td>\n",
       "      <td>GGGCGGCGGTCTCCGACTCAAGACCCTGGGGCTCCGGGTCTTCTTA...</td>\n",
       "      <td>2023</td>\n",
       "      <td>NR_026595.2</td>\n",
       "      <td>yes</td>\n",
       "    </tr>\n",
       "    <tr>\n",
       "      <th>15598</th>\n",
       "      <td>NM_001085476.2 Homo sapiens forkhead box D4 li...</td>\n",
       "      <td>FOXD4L6</td>\n",
       "      <td>AGCCCGCCCCAGGCTAGGTGATCGGTCGCCACATCCCCTGCGACTG...</td>\n",
       "      <td>2011</td>\n",
       "      <td>NM_001085476.2</td>\n",
       "      <td>yes</td>\n",
       "    </tr>\n",
       "  </tbody>\n",
       "</table>\n",
       "<p>168 rows × 6 columns</p>\n",
       "</div>"
      ],
      "text/plain": [
       "                                                    Desc            Acr  \\\n",
       "242    NR_046235.3 Homo sapiens RNA, 45S pre-ribosoma...       RNA45SN5   \n",
       "244    NR_145819.1 Homo sapiens RNA, 45S pre-ribosoma...       RNA45SN1   \n",
       "248    NR_146144.1 Homo sapiens RNA, 45S pre-ribosoma...       RNA45SN2   \n",
       "249    NR_146151.1 Homo sapiens RNA, 45S pre-ribosoma...       RNA45SN3   \n",
       "1423   NM_001348050.2 Homo sapiens ERV3-1-ZNF117 read...  ERV3-1-ZNF117   \n",
       "...                                                  ...            ...   \n",
       "15389  NR_028084.1 Homo sapiens family with sequence ...       FAM41AY2   \n",
       "15469  NM_001130167.2 Homo sapiens pregnancy specific...           PSG8   \n",
       "15499  NM_001321400.1 Homo sapiens MAGE family member...        MAGEA2B   \n",
       "15511  NR_026595.2 Homo sapiens family with sequence ...        FAM226A   \n",
       "15598  NM_001085476.2 Homo sapiens forkhead box D4 li...        FOXD4L6   \n",
       "\n",
       "                                                     Seq    Len  \\\n",
       "242    GCTGACACGCTGTCCTCTGGCGACCTGTCGCTGGAGAGGTTGGGCC...  13357   \n",
       "244    GCTGACACGCTGTCCTCTGGCGACCTGTCGCTGGAGAGGTTGGGCC...  13351   \n",
       "248    GCTGACACGCTGTCCTCTGGCGACCTGTCGCTGGAGAGGTTGGGCC...  13315   \n",
       "249    GCTGACACGCTGTCCTCTGGCGACCTGTCGCTGGAGAGGTTGGGCC...  13309   \n",
       "1423   GTCCAATCAGGCACTCAGCTGGAGCAGACAGGACGGCTTCCGGGTT...   8196   \n",
       "...                                                  ...    ...   \n",
       "15389  ATAAAACCCATCTAAAATGACCTTCTGGGCTACTGACTGCTCACTA...   2043   \n",
       "15469  AGAAGGAGGCAGGACAGCACTGCTGAGAGCTGTGCTCAGGAAGCTT...   2031   \n",
       "15499  TTGCGCATTGGAGGTCAGAGGACAGCGAGATTCTCGCCCTGAGCAA...   2026   \n",
       "15511  GGGCGGCGGTCTCCGACTCAAGACCCTGGGGCTCCGGGTCTTCTTA...   2023   \n",
       "15598  AGCCCGCCCCAGGCTAGGTGATCGGTCGCCACATCCCCTGCGACTG...   2011   \n",
       "\n",
       "                   Id  die  \n",
       "242       NR_046235.3  yes  \n",
       "244       NR_145819.1  yes  \n",
       "248       NR_146144.1  yes  \n",
       "249       NR_146151.1  yes  \n",
       "1423   NM_001348050.2  yes  \n",
       "...               ...  ...  \n",
       "15389     NR_028084.1  yes  \n",
       "15469  NM_001130167.2  yes  \n",
       "15499  NM_001321400.1  yes  \n",
       "15511     NR_026595.2  yes  \n",
       "15598  NM_001085476.2  yes  \n",
       "\n",
       "[168 rows x 6 columns]"
      ]
     },
     "execution_count": 9,
     "metadata": {},
     "output_type": "execute_result"
    }
   ],
   "source": [
    "df.loc[df['die'] == 'yes']"
   ]
  },
  {
   "cell_type": "code",
   "execution_count": 13,
   "metadata": {},
   "outputs": [],
   "source": [
    "df.to_csv('h1sk.csv', index = False)"
   ]
  }
 ],
 "metadata": {
  "kernelspec": {
   "display_name": "Python 3",
   "language": "python",
   "name": "python3"
  },
  "language_info": {
   "codemirror_mode": {
    "name": "ipython",
    "version": 3
   },
   "file_extension": ".py",
   "mimetype": "text/x-python",
   "name": "python",
   "nbconvert_exporter": "python",
   "pygments_lexer": "ipython3",
   "version": "3.8.2"
  }
 },
 "nbformat": 4,
 "nbformat_minor": 4
}
