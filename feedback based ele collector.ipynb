{
 "cells": [
  {
   "cell_type": "code",
   "execution_count": null,
   "metadata": {},
   "outputs": [],
   "source": [
    "e = ['TGGT']\n",
    "\n",
    "#taking all ATGC permutations for windows of length 1 to 6\n",
    "\n",
    "import itertools\n",
    "\n",
    "winlist_filtered_6_1 = []\n",
    "\n",
    "for i in range(6,7):\n",
    "\n",
    "    for i in (itertools.product('ATGC', repeat=i)):\n",
    "        winlist_filtered_6_1.append(''.join(i))\n",
    "\n",
    "winlist = []\n",
    "\n",
    "for el in winlist_filtered_6_1:\n",
    "    for el2 in e:\n",
    "        if el2 in el:\n",
    "            winlist.append(el)\n",
    "\n",
    "len(winlist)"
   ]
  }
 ],
 "metadata": {
  "kernelspec": {
   "display_name": "Python 3",
   "language": "python",
   "name": "python3"
  },
  "language_info": {
   "codemirror_mode": {
    "name": "ipython",
    "version": 3
   },
   "file_extension": ".py",
   "mimetype": "text/x-python",
   "name": "python",
   "nbconvert_exporter": "python",
   "pygments_lexer": "ipython3",
   "version": "3.8.2"
  }
 },
 "nbformat": 4,
 "nbformat_minor": 4
}
