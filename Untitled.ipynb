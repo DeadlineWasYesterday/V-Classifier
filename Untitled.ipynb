{
 "cells": [
  {
   "cell_type": "code",
   "execution_count": 1,
   "metadata": {},
   "outputs": [],
   "source": [
    "import pandas as pd"
   ]
  },
  {
   "cell_type": "code",
   "execution_count": 3,
   "metadata": {},
   "outputs": [],
   "source": [
    "h1 = pd.read_csv('../h1out.csv', sep ='\\t', names = ['qaccver', 'saccver', 'pident', 'length', 'mismatch', 'gapopen', 'qstart',\n",
    "                                             'qend', 'sstart', 'send', 'evalue', 'bitscore'])\n",
    "\n",
    "df = pd.read_csv('../hg38 no pred 2 to 35.csv')\n",
    "\n",
    "for i,r in df.iterrows():\n",
    "    df.loc[i, 'Id'] = r['Desc'].split(' ')[0]"
   ]
  },
  {
   "cell_type": "code",
   "execution_count": 25,
   "metadata": {},
   "outputs": [],
   "source": [
    "h1 = h1.loc[h1['length'] > 1500]"
   ]
  },
  {
   "cell_type": "code",
   "execution_count": 26,
   "metadata": {},
   "outputs": [],
   "source": [
    "#finds seqs with high %identity and saves them in hitlist \n",
    "\n",
    "hitlist = []\n",
    "\n",
    "for i,r in df.iterrows():\n",
    "    if r['Id'] not in hitlist:\n",
    "        for i2,r2 in h1.loc[h1['qaccver'] == r['Id']].loc[h1['pident'] > 75].iterrows():\n",
    "            hitlist.append(r2['saccver'])\n",
    "        hitlist.remove(r['Id'])"
   ]
  },
  {
   "cell_type": "code",
   "execution_count": 27,
   "metadata": {},
   "outputs": [],
   "source": [
    "ihitlist = []\n",
    "\n",
    "for i,r in df.iterrows():\n",
    "    if r['Id'] in hitlist:\n",
    "        ihitlist.append(i)"
   ]
  }
 ],
 "metadata": {
  "kernelspec": {
   "display_name": "Python 3",
   "language": "python",
   "name": "python3"
  },
  "language_info": {
   "codemirror_mode": {
    "name": "ipython",
    "version": 3
   },
   "file_extension": ".py",
   "mimetype": "text/x-python",
   "name": "python",
   "nbconvert_exporter": "python",
   "pygments_lexer": "ipython3",
   "version": "3.8.2"
  }
 },
 "nbformat": 4,
 "nbformat_minor": 4
}
