{
 "cells": [
  {
   "cell_type": "code",
   "execution_count": 3,
   "metadata": {},
   "outputs": [],
   "source": [
    "from Bio import SeqIO\n",
    "from Bio import Entrez\n",
    "Entrez.email = \"mysticmacrophage@gmail.com\"\n",
    "\n",
    "import pandas as pd"
   ]
  },
  {
   "cell_type": "code",
   "execution_count": 2,
   "metadata": {
    "scrolled": true
   },
   "outputs": [
    {
     "name": "stdout",
     "output_type": "stream",
     "text": [
      "32766\n"
     ]
    }
   ],
   "source": [
    "eyed = []\n",
    "for seq_record in SeqIO.parse('1.gb', \"genbank\"):\n",
    "    eyed.append(seq_record.id)\n",
    "print(len(eyed))"
   ]
  },
  {
   "cell_type": "code",
   "execution_count": 4,
   "metadata": {},
   "outputs": [
    {
     "name": "stdout",
     "output_type": "stream",
     "text": [
      "204818\n"
     ]
    }
   ],
   "source": [
    "eyed = []\n",
    "for seq_record in SeqIO.parse('sequence (1).fasta', \"fasta\"):\n",
    "    eyed.append(seq_record.id)\n",
    "print(len(eyed))"
   ]
  },
  {
   "cell_type": "code",
   "execution_count": 7,
   "metadata": {},
   "outputs": [],
   "source": [
    "with open('sequence.seq') as f:\n",
    "    aclist = f.read().splitlines()"
   ]
  },
  {
   "cell_type": "code",
   "execution_count": 9,
   "metadata": {},
   "outputs": [],
   "source": [
    "dclist = []\n",
    "for i in aclist:\n",
    "    if i not in eyed:\n",
    "        dclist.append(i)"
   ]
  },
  {
   "cell_type": "code",
   "execution_count": 11,
   "metadata": {},
   "outputs": [
    {
     "name": "stdout",
     "output_type": "stream",
     "text": [
      "204818 204818\n"
     ]
    }
   ],
   "source": [
    "print(len(aclist), len(eyed) + len(dclist))"
   ]
  },
  {
   "cell_type": "code",
   "execution_count": 12,
   "metadata": {},
   "outputs": [],
   "source": [
    "with open(\"2.gb\", \"w\") as output_handle:\n",
    "            SeqIO.write(seq_record, output_handle, \"gb\")"
   ]
  }
 ],
 "metadata": {
  "kernelspec": {
   "display_name": "Python 3",
   "language": "python",
   "name": "python3"
  },
  "language_info": {
   "codemirror_mode": {
    "name": "ipython",
    "version": 3
   },
   "file_extension": ".py",
   "mimetype": "text/x-python",
   "name": "python",
   "nbconvert_exporter": "python",
   "pygments_lexer": "ipython3",
   "version": "3.8.2"
  }
 },
 "nbformat": 4,
 "nbformat_minor": 4
}
