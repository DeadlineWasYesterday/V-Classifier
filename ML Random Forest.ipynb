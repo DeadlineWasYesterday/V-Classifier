{
 "cells": [
  {
   "cell_type": "code",
   "execution_count": 17,
   "metadata": {},
   "outputs": [],
   "source": [
    "import numpy as np\n",
    "import pandas as pd\n",
    "import random\n",
    "import matplotlib.pyplot as plt\n",
    "import seaborn as sns\n",
    "from Bio import SeqIO\n",
    "from Bio.Seq import Seq\n",
    "from Bio.Alphabet import IUPAC\n",
    "from Bio.SeqRecord import SeqRecord\n",
    "from Bio import SeqUtils\n",
    "from sklearn.model_selection import cross_val_score\n",
    "from sklearn.metrics import f1_score\n",
    "from sklearn.ensemble import RandomForestClassifier\n",
    "from sklearn.preprocessing import StandardScaler\n",
    "from sklearn.model_selection import train_test_split\n",
    "from sklearn.ensemble import RandomForestClassifier\n",
    "from sklearn.feature_selection import SelectFromModel\n",
    "from sklearn.feature_selection import RFECV\n",
    "import scikitplot as skplt\n",
    "from sklearn import metrics"
   ]
  },
  {
   "cell_type": "markdown",
   "metadata": {},
   "source": [
    "Features selected so far\n",
    "Transition Probabilities: ['T to G', 'G to A', 'T to T', 'T to C', 'G to T', 'A to C']\n",
    "Length categories: \n",
    "Upto window4: ['ATCA', 'ATC', 'ATCT', 'TATC', 'GATC', 'TCAG', 'TGGT', 'CGT', 'GCGT', 'CAGA', 'TCA', 'TCAT']\n",
    "Window5: ['AGATC', 'GGATC', 'GCGTT', 'GATCA', 'ACGTG', 'ATCAG', 'GATCT', 'ATCAT',\n",
    "       'CGCGT', 'ATCTC', 'ATATC', 'GTGGT', 'TCAGA', 'TGGTT', 'GCGTA', 'CACGT',\n",
    "       'TCATC', 'AGCGT', 'CGCTT', 'CGTGT']\n",
    "ORF counts: ['orfc ml200']"
   ]
  },
  {
   "cell_type": "code",
   "execution_count": 12,
   "metadata": {},
   "outputs": [],
   "source": [
    "df1 = pd.read_csv('pndf.csv').drop(columns = ['Org', 'MolTyp', 'Topol', 'Des', 'Seq'])\n",
    "df2 = pd.read_csv('pndf lenc tp.csv')[['T to G', 'G to A', 'T to T', 'T to C', 'G to T', 'A to C']].copy()\n",
    "df3 = pd.read_csv('res 340.csv')[['ATCA', 'ATC', 'ATCT', 'TATC', 'GATC', 'TCAG', \n",
    "                                  'TGGT', 'CGT', 'GCGT', 'CAGA', 'TCA', 'TCAT']].copy()\n",
    "df4 = pd.read_csv('../win5 len scaled.csv')[['AGATC', 'GGATC', 'GCGTT', 'GATCA', 'ACGTG', 'ATCAG', 'GATCT', 'ATCAT',\n",
    "       'CGCGT', 'ATCTC', 'ATATC', 'GTGGT', 'TCAGA', 'TGGTT', 'GCGTA', 'CACGT',\n",
    "       'TCATC', 'AGCGT', 'CGCTT', 'CGTGT']].copy()\n",
    "df5 = pd.read_csv('Id orfc.csv')[['orfc ml200']].copy()\n",
    "df = pd.concat([df1,df2,df3,df4,df5], axis = 1, copy = False)\n",
    "\n",
    "df.loc[df['Gen'] == 'ssRNA(+)', 'Gen'] = 0\n",
    "df.loc[df['Gen'] == 'ssRNA(-)', 'Gen'] = 1"
   ]
  },
  {
   "cell_type": "code",
   "execution_count": 22,
   "metadata": {},
   "outputs": [],
   "source": [
    "def rf(data, split, nest, crt, cvf):\n",
    "    #Splitting features and labels\n",
    "    X = data.iloc[:, 2:].values.astype(float)\n",
    "    y = data.iloc[:, 1].values.astype(float)\n",
    "    \n",
    "    # Splitting the dataset into the Training set and Test set\n",
    "    from sklearn.model_selection import train_test_split\n",
    "    X_train, X_test, y_train, y_test = train_test_split(X, y, test_size = split)\n",
    "    \n",
    "    # Feature Scaling\n",
    "    from sklearn.preprocessing import StandardScaler\n",
    "    sc = StandardScaler()\n",
    "    X_train = sc.fit_transform(X_train)\n",
    "    X_test = sc.transform(X_test)\n",
    "    \n",
    "    # Fitting Random Forest Classification to the Training set\n",
    "    from sklearn.ensemble import RandomForestClassifier\n",
    "    classifier = RandomForestClassifier(n_estimators = nest, criterion = crt)\n",
    "    classifier.fit(X_train, y_train)\n",
    "    \n",
    "    # Predicting the Test set results\n",
    "    y_pred = classifier.predict(X_test)\n",
    "    \n",
    "    # Making the Confusion Matrix\n",
    "    from sklearn.metrics import confusion_matrix\n",
    "    cm = confusion_matrix(y_test, y_pred)\n",
    "    \n",
    "    cv_bin = cross_val_score(classifier, X, y, cv=cvf, scoring='f1')\n",
    "    cv_mac = cross_val_score(classifier, X, y, cv=cvf, scoring='f1_macro')\n",
    "    f1bin = f1_score(y_test, y_pred, average='binary')\n",
    "    f1mac = f1_score(y_test, y_pred, average='macro')\n",
    "    \n",
    "    \n",
    "    dunnowhat = metrics.accuracy_score(y_test, y_pred)\n",
    "    y_pred_proba = classifier.predict_proba(X_test)[::,1]\n",
    "    fpr, tpr, _ = metrics.roc_curve(y_test,  y_pred_proba)\n",
    "    auc = metrics.roc_auc_score(y_test, y_pred_proba)\n",
    "    plt.plot(fpr,tpr,label=\"data 1, auc=\"+str(auc))\n",
    "    plt.legend(loc=4)\n",
    "    plt.show()\n",
    "\n",
    "#     #feature selection 1\n",
    "#     selector1 = SelectFromModel(RandomForestClassifier(n_estimators = 150))\n",
    "#     selector1.fit(X_train, y_train)\n",
    "#     #feature selection 2\n",
    "#     selector2 = RFECV(RandomForestClassifier(n_estimators = 150), step=1, cv=5)\n",
    "#     selector2 = selector2.fit(X_train, y_train)\n",
    "    \n",
    "#     return (selector1.get_support()), (selector2.get_support())\n",
    "    \n",
    "    return cv_bin, cv_mac, f1bin, dunnowhat"
   ]
  },
  {
   "cell_type": "code",
   "execution_count": 84,
   "metadata": {},
   "outputs": [],
   "source": [
    "a,b = rf(df, 0.25, 150, 'entropy', 5)"
   ]
  },
  {
   "cell_type": "code",
   "execution_count": 85,
   "metadata": {
    "scrolled": true
   },
   "outputs": [
    {
     "data": {
      "text/plain": [
       "Index([], dtype='object')"
      ]
     },
     "execution_count": 85,
     "metadata": {},
     "output_type": "execute_result"
    }
   ],
   "source": [
    "df.iloc[:,2:].columns[~b]"
   ]
  },
  {
   "cell_type": "code",
   "execution_count": 86,
   "metadata": {
    "scrolled": true
   },
   "outputs": [
    {
     "data": {
      "text/plain": [
       "Index(['T to G', 'G to A', 'T to T', 'T to C', 'G to T', 'A to C', 'TATC',\n",
       "       'TCAG', 'TGGT', 'CGT', 'GCGT', 'CAGA', 'TCAT', 'GGATC', 'GCGTT',\n",
       "       'ACGTG', 'GATCT', 'CGCGT', 'ATCTC', 'GTGGT', 'TCAGA', 'TGGTT', 'GCGTA',\n",
       "       'CACGT', 'TCATC', 'AGCGT', 'CGCTT', 'CGTGT'],\n",
       "      dtype='object')"
      ]
     },
     "execution_count": 86,
     "metadata": {},
     "output_type": "execute_result"
    }
   ],
   "source": [
    "df.iloc[:,2:].columns[~a]"
   ]
  },
  {
   "cell_type": "code",
   "execution_count": 23,
   "metadata": {
    "scrolled": true
   },
   "outputs": [
    {
     "data": {
      "image/png": "[encoded data removed]",
      "text/plain": [
       "<Figure size 432x288 with 1 Axes>"
      ]
     },
     "metadata": {
      "needs_background": "light"
     },
     "output_type": "display_data"
    },
    {
     "name": "stdout",
     "output_type": "stream",
     "text": [
      "0.9276824919445049 0.04493849223742054 0.9605174984184984 0.022871875017139075 0.9218749999999999 0.9872935196950444\n"
     ]
    }
   ],
   "source": [
    "cv_bin, cv_mac, f1bin, f1mac = rf(df, 0.25, 250, 'entropy', 5)\n",
    "\n",
    "print(cv_bin.mean(), cv_bin.std(), cv_mac.mean(), cv_mac.std(), f1bin, f1mac)"
   ]
  },
  {
   "cell_type": "code",
   "execution_count": 92,
   "metadata": {},
   "outputs": [
    {
     "name": "stdout",
     "output_type": "stream",
     "text": [
      "0.9168011409857175 0.05429153763125063 0.9576400565161756 0.023630328422923095 1.0 1.0\n"
     ]
    }
   ],
   "source": [
    "cv_bin, cv_mac, f1bin, f1mac = rf(df, 0.25, 150, 'entropy', 5)\n",
    "\n",
    "print(cv_bin.mean(), cv_bin.std(), cv_mac.mean(), cv_mac.std(), f1bin, f1mac)"
   ]
  },
  {
   "cell_type": "code",
   "execution_count": null,
   "metadata": {},
   "outputs": [],
   "source": []
  }
 ],
 "metadata": {
  "kernelspec": {
   "display_name": "Python 3",
   "language": "python",
   "name": "python3"
  }
 },
 "nbformat": 4,
 "nbformat_minor": 4
}
