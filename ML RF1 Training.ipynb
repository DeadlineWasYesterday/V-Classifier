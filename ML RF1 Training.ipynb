{
 "cells": [
  {
   "cell_type": "code",
   "execution_count": 50,
   "metadata": {},
   "outputs": [],
   "source": [
    "import numpy as np\n",
    "import pandas as pd\n",
    "import random\n",
    "import matplotlib.pyplot as plt\n",
    "import seaborn as sns\n",
    "from Bio import SeqIO\n",
    "from Bio.Seq import Seq\n",
    "from Bio.Alphabet import IUPAC\n",
    "from Bio.SeqRecord import SeqRecord\n",
    "from Bio import SeqUtils\n",
    "from sklearn.model_selection import cross_val_score\n",
    "from sklearn.metrics import f1_score\n",
    "from sklearn.ensemble import RandomForestClassifier\n",
    "from sklearn.preprocessing import StandardScaler\n",
    "sc = StandardScaler()\n",
    "from sklearn.model_selection import train_test_split\n",
    "from sklearn.ensemble import RandomForestClassifier\n",
    "from sklearn.feature_selection import SelectFromModel\n",
    "from sklearn.feature_selection import RFECV\n",
    "import scikitplot as skplt\n",
    "from sklearn import metrics\n",
    "from scipy.stats import mannwhitneyu\n",
    "from sklearn.metrics import confusion_matrix"
   ]
  },
  {
   "cell_type": "code",
   "execution_count": 25,
   "metadata": {},
   "outputs": [],
   "source": [
    "l = ['CAATCG', 'GGTA', 'GTTGA', 'CATACG', 'TGAT', 'GTCGAA', 'CCAATT', 'TGTCGA', 'GTTGAC', 'CGGTTA', 'CGATA', 'TAGCGT', 'AAAAAA', 'GGTTGA', 'AAAAA', 'CAAT', 'CGTCAA', 'CGGTAA', 'CGTTGA', 'CAAC', 'ACCAAT', 'TTGACG', 'TCAATC', 'GTTG', 'CAATTG', 'CGCAAT', 'GGTT', 'TTGTCG', 'TCAA', 'CCAAT', 'ATACGC', 'CGATAG', 'TTGA', 'CATCAA', 'GTTGAT', 'ATACGG', 'CGATC', 'GTTGGT', 'GATC', 'CCGATA', 'GTCAAT', 'CGATAA', 'CGCGTT', 'ATCGTA', 'TCGGTT', 'ATCAAC', 'ATTGG', 'TCGA', 'GCAATC', 'CAATCT', 'GCGTAC', 'TTCGAC', 'GGTTG', 'TCCAAT', 'CGTAGT', 'TTGCG', 'CGGTT', 'CGATTA', 'ACGGTT', 'ATCAAT', 'TTGCGC', 'CAATC', 'CGAT', 'GCGTTA', 'CCGTTA', 'TTGAC', 'CGTCGA', 'ATAGCG', 'GTTGAG', 'TATCCG', 'GGTAGT', 'CGTTGC', 'TCGGTA', 'TGGTT', 'AGGTTG', 'AGGAA', 'TCGAGT', 'TCAAT', 'ATAGGG', 'GTACGC', 'ACGCAA', 'GGTACG', 'TCCTG', 'CAGAG', 'TTGATG', 'GTCGAC', 'CGGTTG', 'ACATCG', 'CAGC', 'TTTTTT', 'GGTATG', 'TAGGGT', 'GGTTC', 'TGGTTC', 'CGCGTA', 'AACC', 'CTCGAT', 'AACGGT', 'ATCAA', 'TCCAAC', 'AAAATG', 'AAATG', 'GTTGT', 'GTCATA', 'TCAATT', 'ACAATC', 'AATAAA', 'AATTGG', 'ATCATA', 'GGCGTA', 'AAATAA', 'TCAAC', 'CTAACG', 'ACGATA', 'TCAACC', 'ACCGGT', 'CAGA', 'GCATAC', 'CTGTA', 'CGGTA', 'GTTGC', 'CTGT', 'ATTGGT', 'GGTCAA', 'CGTA', 'GTCAA', 'TCGCAA', 'AGCTG', 'ATGGTA', 'CGCAA', 'GTCAAA', 'GATTGG', 'CTGGA', 'TTCGCA', 'ATCCAA', 'AACCGA', 'CCGCAA', 'GTCGA', 'TAACAC', 'TTTTTA', 'ATAACG', 'TATGGT', 'TTGGCG', 'TGGT', 'TCCAT', 'CAATT', 'GCGTAA', 'TCGT', 'CCGTAA', 'GGGTTA', 'CAATTA', 'AGCCT', 'TAGCGA', 'TACCAC', 'CGCAAA', 'ATATCG', 'CTGCA', 'CGTACC', 'ATCGGT', 'TCGATA', 'TCGTTG', 'TTGGT', 'CGACCA', 'GAAGA', 'GT', 'CTGAG', 'ATGCGA', 'CAG', 'GGTAC', 'GGTTGT', 'CCATAC', 'GTTGCG', 'GATAGG', 'GAT', 'CAA', 'CATACC', 'AACCGT', 'TTGCGA', 'CGTAT', 'CGTAAT', 'CGATGT', 'TTCCT', 'AC', 'CGATCG', 'CGCTAA', 'CACAAC', 'TACC', 'TTGAG', 'CCAATC', 'TATGCG', 'TATCG', 'AGCAG', 'GGTAG', 'TCGTAG']"
   ]
  },
  {
   "cell_type": "code",
   "execution_count": 26,
   "metadata": {},
   "outputs": [],
   "source": [
    "c = [f for f in l if len(f) < 6]\n",
    "b = [f for f in l if len(f) == 6]\n",
    "b1 = [f for f in b if f[0] == 'A' or f[0] == 'T']\n",
    "b2 = [f for f in b if f[0] == 'G' or f[0] == 'C']"
   ]
  },
  {
   "cell_type": "code",
   "execution_count": 27,
   "metadata": {},
   "outputs": [],
   "source": [
    "df1 = pd.concat([pd.read_csv('../ppnnw5.csv')[['Gen', 'die', 'Fam'] + c], \n",
    "                 pd.read_csv('../ppnnw6.csv')[b]], axis = 1)\n",
    "\n",
    "df1 = df1.loc[df1['die'] == 'no']\n",
    "#df1 = pd.concat([df1[df1['Gen'] == 'ssRNA(-)'], df1[df1['Gen'] == 'ssRNA(-)g']],\n",
    "#               axis = 0).reset_index(drop = True)\n",
    "df1['Gen'] = 1"
   ]
  },
  {
   "cell_type": "code",
   "execution_count": 289,
   "metadata": {},
   "outputs": [],
   "source": [
    "df1t = pd.read_csv('../rnavtr2kup scored ls')\n",
    "df1t['Gen'] = 1"
   ]
  },
  {
   "cell_type": "code",
   "execution_count": 290,
   "metadata": {},
   "outputs": [],
   "source": [
    "df1 = pd.concat([df1, df1t], axis = 0).reset_index(drop = True)"
   ]
  },
  {
   "cell_type": "code",
   "execution_count": 51,
   "metadata": {},
   "outputs": [],
   "source": [
    "df2 = pd.concat([pd.read_csv('../h1w5.csv')[['die'] + c], \n",
    "                 pd.read_csv('../h1w6p1.csv')[b1],\n",
    "                 pd.read_csv('../h1w6p2.csv')[b2]], axis = 1)\n",
    "df2 = df2.loc[df2['die'] == 'no']\n",
    "df2['Gen'] = 0"
   ]
  },
  {
   "cell_type": "code",
   "execution_count": 52,
   "metadata": {},
   "outputs": [],
   "source": [
    "data = pd.concat([df1,df2], axis = 0).reset_index(drop = True)"
   ]
  },
  {
   "cell_type": "code",
   "execution_count": 55,
   "metadata": {
    "scrolled": true
   },
   "outputs": [],
   "source": [
    "#Splitting features and labels\n",
    "X_train = data.iloc[:, 3:].values.astype(float)\n",
    "y_train = data.iloc[:, 0].values.astype(float)\n",
    "\n",
    "X_test = ebv3[data.iloc[:,3:].columns].values.astype(float)\n",
    "y_test = ebv3.iloc[:, -1].values.astype(float)\n",
    "\n",
    "# Feature Scaling\n",
    "from sklearn.preprocessing import StandardScaler\n",
    "sc = StandardScaler()\n",
    "X_train = sc.fit_transform(X_train)\n",
    "X_test = sc.transform(X_test)\n",
    "\n",
    "# Fitting Random Forest Classification to the Training set\n",
    "from sklearn.ensemble import RandomForestClassifier\n",
    "classifier = RandomForestClassifier(n_estimators = 280, criterion = 'entropy')\n",
    "classifier.fit(X_train, y_train)\n",
    "\n",
    "# Predicting the Test set results\n",
    "y_pred = classifier.predict(X_test)\n",
    "\n",
    "# Making the Confusion Matrix\n",
    "from sklearn.metrics import confusion_matrix\n",
    "cm = confusion_matrix(y_test, y_pred)\n",
    "\n",
    "f1bin = f1_score(y_test, y_pred, average='binary')\n",
    "f1mac = f1_score(y_test, y_pred, average='macro')\n"
   ]
  },
  {
   "cell_type": "code",
   "execution_count": 61,
   "metadata": {},
   "outputs": [],
   "source": [
    "def test(ebv3, data):\n",
    "    X_test = ebv3[data.iloc[:,3:].columns].values.astype(float)\n",
    "    y_test = ebv3.iloc[:, -1].values.astype(float)\n",
    "    X_test = sc.transform(X_test)\n",
    "    y_pred = classifier.predict(X_test)\n",
    "    cm = confusion_matrix(y_test, y_pred)\n",
    "    f1bin = f1_score(y_test, y_pred, average='binary')\n",
    "    f1mac = f1_score(y_test, y_pred, average='macro')\n",
    "    \n",
    "    return f1bin, f1mac"
   ]
  },
  {
   "cell_type": "code",
   "execution_count": 56,
   "metadata": {
    "scrolled": true
   },
   "outputs": [
    {
     "data": {
      "text/plain": [
       "array([[   66,     0],\n",
       "       [10109,   500]], dtype=int64)"
      ]
     },
     "execution_count": 56,
     "metadata": {},
     "output_type": "execute_result"
    }
   ],
   "source": [
    "cm"
   ]
  },
  {
   "cell_type": "code",
   "execution_count": 57,
   "metadata": {
    "scrolled": false
   },
   "outputs": [
    {
     "name": "stdout",
     "output_type": "stream",
     "text": [
      "0.05145323476122118 0.09001710324961744\n"
     ]
    }
   ],
   "source": [
    "print(f1mac, f1bin)"
   ]
  },
  {
   "cell_type": "code",
   "execution_count": 73,
   "metadata": {},
   "outputs": [
    {
     "name": "stdout",
     "output_type": "stream",
     "text": [
      "idba-tran ---- f1mac: 1.000000 ** f1bin: 1.000000\n",
      "rna-spades ---- f1mac: 1.000000 ** f1bin: 1.000000\n",
      "soap-trans-default ---- f1mac: 0.800000 ** f1bin: 0.400000\n",
      "trans-abyss ---- f1mac: 0.800000 ** f1bin: 0.400000\n",
      "bridger ---- f1mac: 0.592593 ** f1bin: 0.296296\n",
      "oases ---- f1mac: 0.645161 ** f1bin: 0.322581\n",
      "shannon ---- f1mac: 0.568182 ** f1bin: 0.284091\n",
      "trinity ---- f1mac: 0.568182 ** f1bin: 0.284091\n",
      "spades ---- f1mac: 0.583333 ** f1bin: 0.291667\n"
     ]
    }
   ],
   "source": [
    "ebv3 = pd.read_csv('../pn nuc vs ebv23.fasta scored lab')#.drop(columns = 'Unnamed: 0')\n",
    "ebv3['Len'] = [len(s) for s in ebv3['1']]\n",
    "inx = []\n",
    "prev = ebv3.loc[0,'0'].split(' ')[-1].lower()\n",
    "for i,r in ebv3.iterrows():\n",
    "    ass = r['0'].split(' ')[-1].lower()\n",
    "    if ass == prev:\n",
    "        inx.append(i)\n",
    "    else:\n",
    "        temp = ebv3.drop(index = [i for i in ebv3.index if i not in inx]).reset_index(drop = True)\n",
    "        temp = temp.drop(columns= ['1'])\n",
    "        gen = temp[\"Gen\"]\n",
    "        temp = temp[temp['Len'] >= 10000].reset_index(drop = True)\n",
    "        temp = temp.iloc[:,1:-1].div(temp['Len'], axis = 0)\n",
    "        temp[\"Gen\"] = gen\n",
    "        \n",
    "        \n",
    "        a, b = test(temp, data)\n",
    "        \n",
    "        print('%s ---- f1mac: %f ** f1bin: %f' %(ass, a, b))\n",
    "        prev = r['0'].split(' ')[-1].lower()                  "
   ]
  },
  {
   "cell_type": "code",
   "execution_count": 77,
   "metadata": {},
   "outputs": [],
   "source": [
    "from Bio import SeqIO\n",
    "dcsq = []\n",
    "for sr in SeqIO.parse('../sdaR.fasta', 'fasta'):\n",
    "    dcsq.append((sr.description, sr.seq))"
   ]
  },
  {
   "cell_type": "code",
   "execution_count": 80,
   "metadata": {},
   "outputs": [],
   "source": [
    "dcsq2 = []\n",
    "for i in dcsq:\n",
    "    dcsq2.append((i[0], str(i[1]).upper().replace('-', '')))"
   ]
  },
  {
   "cell_type": "code",
   "execution_count": 82,
   "metadata": {},
   "outputs": [],
   "source": [
    "for i in dcsq2:\n",
    "    with open('sdar2.fasta', 'a') as f:\n",
    "        f.write('>%s\\n%s\\n' % (i[0], i[1]))"
   ]
  }
 ],
 "metadata": {
  "kernelspec": {
   "display_name": "Python 3",
   "language": "python",
   "name": "python3"
  },
  "language_info": {
   "codemirror_mode": {
    "name": "ipython",
    "version": 3
   },
   "file_extension": ".py",
   "mimetype": "text/x-python",
   "name": "python",
   "nbconvert_exporter": "python",
   "pygments_lexer": "ipython3",
   "version": "3.8.2"
  }
 },
 "nbformat": 4,
 "nbformat_minor": 4
}
