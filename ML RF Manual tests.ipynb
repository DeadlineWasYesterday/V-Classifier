{
 "cells": [
  {
   "cell_type": "code",
   "execution_count": null,
   "metadata": {},
   "outputs": [],
   "source": [
    "import numpy as np\n",
    "import pandas as pd\n",
    "import random\n",
    "import matplotlib.pyplot as plt\n",
    "import seaborn as sns\n",
    "from Bio import SeqIO\n",
    "from Bio.Seq import Seq\n",
    "from Bio.Alphabet import IUPAC\n",
    "from Bio.SeqRecord import SeqRecord\n",
    "from Bio import SeqUtils\n",
    "from sklearn.model_selection import cross_val_score\n",
    "from sklearn.metrics import f1_score"
   ]
  },
  {
   "cell_type": "code",
   "execution_count": 1,
   "metadata": {
    "scrolled": true
   },
   "outputs": [],
   "source": [
    "def rfimp(feats,pnr):\n",
    "    \n",
    "    r = res[feats].copy()\n",
    "    pnr = pnr.drop(columns=['Id', 'MolTyp', 'Topol', 'Des'])\n",
    "\n",
    "    ps = pnr.loc[pnr['Gen'] == 1]\n",
    "    ns = pnr.loc[pnr['Gen'] == 0]\n",
    "\n",
    "    pnrs = pd.concat([ps,ns])\n",
    "    \n",
    "    #Splitting features and labels\n",
    "    X = pnrs.iloc[:, 3:].values.astype(float)\n",
    "    y = pnrs.iloc[:, 1].values.astype(float)\n",
    "    \n",
    "    # Splitting the dataset into the Training set and Test set\n",
    "    from sklearn.model_selection import train_test_split\n",
    "    X_train, X_test, y_train, y_test = train_test_split(X, y, test_size = 0.25)\n",
    "    \n",
    "    # Feature Scaling\n",
    "    from sklearn.preprocessing import StandardScaler\n",
    "    sc = StandardScaler()\n",
    "    X_train = sc.fit_transform(X_train)\n",
    "    X_test = sc.transform(X_test)\n",
    "    \n",
    "    # Fitting Random Forest Classification to the Training set\n",
    "    from sklearn.ensemble import RandomForestClassifier\n",
    "    classifier = RandomForestClassifier(n_estimators = 15, criterion = 'entropy')\n",
    "    classifier.fit(X_train, y_train)\n",
    "    \n",
    "    # Predicting the Test set results\n",
    "    y_pred = classifier.predict(X_test)\n",
    "    \n",
    "    # Making the Confusion Matrix\n",
    "    from sklearn.metrics import confusion_matrix\n",
    "    cm = confusion_matrix(y_test, y_pred)\n",
    "    \n",
    "    cv_bin = cross_val_score(classifier, X, y, cv=5, scoring='f1')\n",
    "    cv_mac = cross_val_score(classifier, X, y, cv=5, scoring='f1_macro')\n",
    "    f1bin = f1_score(y_test, y_pred, average='binary')\n",
    "    f1mac = f1_score(y_test, y_pred, average='macro')\n",
    "    return cv_bin, cv_mac, f1bin, f1mac"
   ]
  },
  {
   "cell_type": "code",
   "execution_count": 8,
   "metadata": {},
   "outputs": [
    {
     "name": "stdout",
     "output_type": "stream",
     "text": [
      "0.9201008909653658 0.07213781802967897\n",
      "0.9201008909653658 0.07213781802967897\n",
      "0.9201008909653658 0.07213781802967897\n",
      "0.9201008909653658 0.07213781802967897\n",
      "0.9201008909653658 0.07213781802967897\n",
      "0.9201008909653658 0.07213781802967897\n",
      "0.9201008909653658 0.07213781802967897\n",
      "0.9201008909653658 0.07213781802967897\n",
      "0.9201008909653658 0.07213781802967897\n",
      "0.9201008909653658 0.07213781802967897\n",
      "0.9201008909653658 0.07213781802967897\n",
      "0.9201008909653658 0.07213781802967897\n",
      "0.9201008909653658 0.07213781802967897\n",
      "0.9201008909653658 0.07213781802967897\n",
      "0.9201008909653658 0.07213781802967897\n",
      "0.9201008909653658 0.07213781802967897\n",
      "0.9201008909653658 0.07213781802967897\n",
      "0.9201008909653658 0.07213781802967897\n",
      "0.9201008909653658 0.07213781802967897\n",
      "0.9201008909653658 0.07213781802967897\n",
      "0.9201008909653657\n"
     ]
    }
   ],
   "source": [
    "aclist = []\n",
    "\n",
    "for i in range(20):\n",
    "    fmac = whole(pnr)\n",
    "    aclist.append(fmac.mean())\n",
    "    print(fmac.mean(), fmac.std() *2)\n",
    "\n",
    "print(np.mean(aclist))"
   ]
  },
  {
   "cell_type": "code",
   "execution_count": null,
   "metadata": {},
   "outputs": [],
   "source": []
  }
 ],
 "metadata": {
  "kernelspec": {
   "display_name": "Python 3",
   "language": "python",
   "name": "python3"
  },
  "language_info": {
   "codemirror_mode": {
    "name": "ipython",
    "version": 3
   },
   "file_extension": ".py",
   "mimetype": "text/x-python",
   "name": "python",
   "nbconvert_exporter": "python",
   "pygments_lexer": "ipython3",
   "version": "3.8.2"
  }
 },
 "nbformat": 4,
 "nbformat_minor": 4
}
