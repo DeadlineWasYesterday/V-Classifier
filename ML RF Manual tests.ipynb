{
 "cells": [
  {
   "cell_type": "code",
   "execution_count": 2,
   "metadata": {},
   "outputs": [],
   "source": [
    "import pandas as pd\n",
    "df = pd.read_csv('../final file hopefully no errors.csv')"
   ]
  },
  {
   "cell_type": "code",
   "execution_count": 3,
   "metadata": {},
   "outputs": [],
   "source": [
    "df['Len'] = [len(s) for s in df[\"Seq\"]]"
   ]
  },
  {
   "cell_type": "code",
   "execution_count": 8,
   "metadata": {},
   "outputs": [
    {
     "data": {
      "text/html": [
       "<div>\n",
       "<style scoped>\n",
       "    .dataframe tbody tr th:only-of-type {\n",
       "        vertical-align: middle;\n",
       "    }\n",
       "\n",
       "    .dataframe tbody tr th {\n",
       "        vertical-align: top;\n",
       "    }\n",
       "\n",
       "    .dataframe thead th {\n",
       "        text-align: right;\n",
       "    }\n",
       "</style>\n",
       "<table border=\"1\" class=\"dataframe\">\n",
       "  <thead>\n",
       "    <tr style=\"text-align: right;\">\n",
       "      <th></th>\n",
       "      <th>Id</th>\n",
       "      <th>Org</th>\n",
       "      <th>MolTyp</th>\n",
       "      <th>Topol</th>\n",
       "      <th>Des</th>\n",
       "      <th>Gen</th>\n",
       "      <th>Seq</th>\n",
       "      <th>Len</th>\n",
       "    </tr>\n",
       "  </thead>\n",
       "  <tbody>\n",
       "    <tr>\n",
       "      <th>3867</th>\n",
       "      <td>NC_014977.1</td>\n",
       "      <td>Penaeus vannamei nodavirus</td>\n",
       "      <td>ss-RNA</td>\n",
       "      <td>linear</td>\n",
       "      <td>Penaeus vannamei nodavirus RNA-2, complete genome</td>\n",
       "      <td>ssRNA(+)</td>\n",
       "      <td>CCGCGCTGAGCGTTAAGCGACGTGATCGCGTGCGGCGCAACGGATC...</td>\n",
       "      <td>1183</td>\n",
       "    </tr>\n",
       "    <tr>\n",
       "      <th>2506</th>\n",
       "      <td>NC_002691.1</td>\n",
       "      <td>Nodamura virus</td>\n",
       "      <td>RNA</td>\n",
       "      <td>linear</td>\n",
       "      <td>Nodamura virus RNA2, complete genome</td>\n",
       "      <td>ssRNA(+)</td>\n",
       "      <td>GTAAACAACCAATAACATCATGGTATCCAAAGCAGCACGCCGCCGA...</td>\n",
       "      <td>1336</td>\n",
       "    </tr>\n",
       "    <tr>\n",
       "      <th>2698</th>\n",
       "      <td>NC_004144.1</td>\n",
       "      <td>Flock House virus</td>\n",
       "      <td>RNA</td>\n",
       "      <td>linear</td>\n",
       "      <td>Flock house virus, complete genome</td>\n",
       "      <td>ssRNA(+)</td>\n",
       "      <td>GTAAACAATTCCAAGTTCCAAAATGGTTAATAACAACAGACCAAGA...</td>\n",
       "      <td>1400</td>\n",
       "    </tr>\n",
       "    <tr>\n",
       "      <th>2576</th>\n",
       "      <td>NC_003449.1</td>\n",
       "      <td>Striped jack nervous necrosis virus</td>\n",
       "      <td>ss-RNA</td>\n",
       "      <td>linear</td>\n",
       "      <td>Striped Jack nervous necrosis virus, complete ...</td>\n",
       "      <td>ssRNA(+)</td>\n",
       "      <td>TAATCTAACACCGCTTTGCAAGTCAAAATGGTACGCAAAGGTGATA...</td>\n",
       "      <td>1421</td>\n",
       "    </tr>\n",
       "    <tr>\n",
       "      <th>5903</th>\n",
       "      <td>NC_030866.1</td>\n",
       "      <td>Fusarium poae narnavirus 2</td>\n",
       "      <td>RNA</td>\n",
       "      <td>linear</td>\n",
       "      <td>Fusarium poae narnavirus 2 genomic RNA, comple...</td>\n",
       "      <td>ssRNA(+)</td>\n",
       "      <td>CTTGCGAGCCTACTCTTTCGAGCGTAGTATTGTTTGAGTTTCCCCA...</td>\n",
       "      <td>2054</td>\n",
       "    </tr>\n",
       "    <tr>\n",
       "      <th>...</th>\n",
       "      <td>...</td>\n",
       "      <td>...</td>\n",
       "      <td>...</td>\n",
       "      <td>...</td>\n",
       "      <td>...</td>\n",
       "      <td>...</td>\n",
       "      <td>...</td>\n",
       "      <td>...</td>\n",
       "    </tr>\n",
       "    <tr>\n",
       "      <th>2259</th>\n",
       "      <td>AC_000192.1</td>\n",
       "      <td>Murine hepatitis virus strain JHM</td>\n",
       "      <td>ss-RNA</td>\n",
       "      <td>linear</td>\n",
       "      <td>Murine hepatitis virus strain JHM, complete ge...</td>\n",
       "      <td>ssRNA(+)</td>\n",
       "      <td>TATAAGAGTGATTGGCGTCCGTACGTACCCTCTCTACTCTAAAACT...</td>\n",
       "      <td>31526</td>\n",
       "    </tr>\n",
       "    <tr>\n",
       "      <th>3427</th>\n",
       "      <td>NC_010646.1</td>\n",
       "      <td>Beluga whale coronavirus SW1</td>\n",
       "      <td>RNA</td>\n",
       "      <td>linear</td>\n",
       "      <td>Beluga Whale coronavirus SW1, complete genome</td>\n",
       "      <td>ssRNA(+)</td>\n",
       "      <td>CTATTTGTGAATAATATATATATATATATATATCATTCATTCGTTT...</td>\n",
       "      <td>31686</td>\n",
       "    </tr>\n",
       "    <tr>\n",
       "      <th>7236</th>\n",
       "      <td>KF793824.1</td>\n",
       "      <td>Bottlenose dolphin coronavirus HKU22</td>\n",
       "      <td>RNA</td>\n",
       "      <td>linear</td>\n",
       "      <td>Bottlenose dolphin coronavirus HKU22 isolate C...</td>\n",
       "      <td>ssRNA(+)</td>\n",
       "      <td>CTATTTGTGAATAATATATATATATATATCATTCATTCGTTTACCC...</td>\n",
       "      <td>31769</td>\n",
       "    </tr>\n",
       "    <tr>\n",
       "      <th>4973</th>\n",
       "      <td>NC_024709.1</td>\n",
       "      <td>Ball python nidovirus 1</td>\n",
       "      <td>RNA</td>\n",
       "      <td>linear</td>\n",
       "      <td>Ball python nidovirus strain 07-53, complete g...</td>\n",
       "      <td>ssRNA(+)</td>\n",
       "      <td>GTCATAGAGGTATATTGTATATATATAATATACCTCCAGACAGTGA...</td>\n",
       "      <td>33452</td>\n",
       "    </tr>\n",
       "    <tr>\n",
       "      <th>350</th>\n",
       "      <td>NC_040361.1</td>\n",
       "      <td>Planarian secretory cell nidovirus</td>\n",
       "      <td>RNA</td>\n",
       "      <td>linear</td>\n",
       "      <td>Planarian secretory cell nidovirus isolate UIU...</td>\n",
       "      <td>ssRNA(+)</td>\n",
       "      <td>ATCAATTATCAATTATACCTAAAATTACTATTCTTACTACTACTAC...</td>\n",
       "      <td>41178</td>\n",
       "    </tr>\n",
       "  </tbody>\n",
       "</table>\n",
       "<p>2862 rows × 8 columns</p>\n",
       "</div>"
      ],
      "text/plain": [
       "               Id                                   Org  MolTyp   Topol  \\\n",
       "3867  NC_014977.1            Penaeus vannamei nodavirus  ss-RNA  linear   \n",
       "2506  NC_002691.1                        Nodamura virus     RNA  linear   \n",
       "2698  NC_004144.1                     Flock House virus     RNA  linear   \n",
       "2576  NC_003449.1   Striped jack nervous necrosis virus  ss-RNA  linear   \n",
       "5903  NC_030866.1            Fusarium poae narnavirus 2     RNA  linear   \n",
       "...           ...                                   ...     ...     ...   \n",
       "2259  AC_000192.1     Murine hepatitis virus strain JHM  ss-RNA  linear   \n",
       "3427  NC_010646.1          Beluga whale coronavirus SW1     RNA  linear   \n",
       "7236   KF793824.1  Bottlenose dolphin coronavirus HKU22     RNA  linear   \n",
       "4973  NC_024709.1               Ball python nidovirus 1     RNA  linear   \n",
       "350   NC_040361.1    Planarian secretory cell nidovirus     RNA  linear   \n",
       "\n",
       "                                                    Des       Gen  \\\n",
       "3867  Penaeus vannamei nodavirus RNA-2, complete genome  ssRNA(+)   \n",
       "2506               Nodamura virus RNA2, complete genome  ssRNA(+)   \n",
       "2698                 Flock house virus, complete genome  ssRNA(+)   \n",
       "2576  Striped Jack nervous necrosis virus, complete ...  ssRNA(+)   \n",
       "5903  Fusarium poae narnavirus 2 genomic RNA, comple...  ssRNA(+)   \n",
       "...                                                 ...       ...   \n",
       "2259  Murine hepatitis virus strain JHM, complete ge...  ssRNA(+)   \n",
       "3427      Beluga Whale coronavirus SW1, complete genome  ssRNA(+)   \n",
       "7236  Bottlenose dolphin coronavirus HKU22 isolate C...  ssRNA(+)   \n",
       "4973  Ball python nidovirus strain 07-53, complete g...  ssRNA(+)   \n",
       "350   Planarian secretory cell nidovirus isolate UIU...  ssRNA(+)   \n",
       "\n",
       "                                                    Seq    Len  \n",
       "3867  CCGCGCTGAGCGTTAAGCGACGTGATCGCGTGCGGCGCAACGGATC...   1183  \n",
       "2506  GTAAACAACCAATAACATCATGGTATCCAAAGCAGCACGCCGCCGA...   1336  \n",
       "2698  GTAAACAATTCCAAGTTCCAAAATGGTTAATAACAACAGACCAAGA...   1400  \n",
       "2576  TAATCTAACACCGCTTTGCAAGTCAAAATGGTACGCAAAGGTGATA...   1421  \n",
       "5903  CTTGCGAGCCTACTCTTTCGAGCGTAGTATTGTTTGAGTTTCCCCA...   2054  \n",
       "...                                                 ...    ...  \n",
       "2259  TATAAGAGTGATTGGCGTCCGTACGTACCCTCTCTACTCTAAAACT...  31526  \n",
       "3427  CTATTTGTGAATAATATATATATATATATATATCATTCATTCGTTT...  31686  \n",
       "7236  CTATTTGTGAATAATATATATATATATATCATTCATTCGTTTACCC...  31769  \n",
       "4973  GTCATAGAGGTATATTGTATATATATAATATACCTCCAGACAGTGA...  33452  \n",
       "350   ATCAATTATCAATTATACCTAAAATTACTATTCTTACTACTACTAC...  41178  \n",
       "\n",
       "[2862 rows x 8 columns]"
      ]
     },
     "execution_count": 8,
     "metadata": {},
     "output_type": "execute_result"
    }
   ],
   "source": [
    "df[df['Gen'] == 'ssRNA(+)'].sort_values('Len')"
   ]
  },
  {
   "cell_type": "code",
   "execution_count": 5,
   "metadata": {},
   "outputs": [
    {
     "data": {
      "text/html": [
       "<div>\n",
       "<style scoped>\n",
       "    .dataframe tbody tr th:only-of-type {\n",
       "        vertical-align: middle;\n",
       "    }\n",
       "\n",
       "    .dataframe tbody tr th {\n",
       "        vertical-align: top;\n",
       "    }\n",
       "\n",
       "    .dataframe thead th {\n",
       "        text-align: right;\n",
       "    }\n",
       "</style>\n",
       "<table border=\"1\" class=\"dataframe\">\n",
       "  <thead>\n",
       "    <tr style=\"text-align: right;\">\n",
       "      <th></th>\n",
       "      <th>Id</th>\n",
       "      <th>Org</th>\n",
       "      <th>MolTyp</th>\n",
       "      <th>Topol</th>\n",
       "      <th>Des</th>\n",
       "      <th>Gen</th>\n",
       "      <th>Seq</th>\n",
       "      <th>Len</th>\n",
       "    </tr>\n",
       "  </thead>\n",
       "  <tbody>\n",
       "    <tr>\n",
       "      <th>632</th>\n",
       "      <td>MK888699.1</td>\n",
       "      <td>Citrus dwarfing viroid</td>\n",
       "      <td>RNA</td>\n",
       "      <td>circular</td>\n",
       "      <td>Citrus dwarfing viroid isolate SL-06, complete...</td>\n",
       "      <td>ssRNA</td>\n",
       "      <td>CTCCGCTAGTCGGAAGACTCCGCATCCTCCGGCTGACCCGCTCAGT...</td>\n",
       "      <td>235</td>\n",
       "    </tr>\n",
       "    <tr>\n",
       "      <th>584</th>\n",
       "      <td>MN073490.1</td>\n",
       "      <td>Coconut cadang-cadang viroid</td>\n",
       "      <td>RNA</td>\n",
       "      <td>circular</td>\n",
       "      <td>Coconut cadang-cadang viroid isolate OSK, comp...</td>\n",
       "      <td>ssRNA</td>\n",
       "      <td>CTGGGGAAATCTACAGGGCACCCCAAAAACTACTGCAGGAGAGGCC...</td>\n",
       "      <td>246</td>\n",
       "    </tr>\n",
       "    <tr>\n",
       "      <th>2306</th>\n",
       "      <td>NC_001410.1</td>\n",
       "      <td>Avocado sunblotch viroid</td>\n",
       "      <td>ss-RNA</td>\n",
       "      <td>circular</td>\n",
       "      <td>Avocado sunblotch viroid, complete genome</td>\n",
       "      <td>ssRNA</td>\n",
       "      <td>TTTATTAGAACAAGAAGTGAGGATATGATTAAACTTTGTTTGACGA...</td>\n",
       "      <td>247</td>\n",
       "    </tr>\n",
       "    <tr>\n",
       "      <th>2614</th>\n",
       "      <td>NC_003681.1</td>\n",
       "      <td>Coleus blumei viroid 1</td>\n",
       "      <td>ss-RNA</td>\n",
       "      <td>circular</td>\n",
       "      <td>Coleus blumei viroid 1, complete genome</td>\n",
       "      <td>ssRNA</td>\n",
       "      <td>TGGCTCGAACTGACTAGAACGGTTTTAAGAAAAAGTTCTTACCTGG...</td>\n",
       "      <td>248</td>\n",
       "    </tr>\n",
       "    <tr>\n",
       "      <th>2322</th>\n",
       "      <td>NC_001471.1</td>\n",
       "      <td>Coconut tinangaja viroid</td>\n",
       "      <td>ss-RNA</td>\n",
       "      <td>linear</td>\n",
       "      <td>Coconut tinangaja viroid, complete genome</td>\n",
       "      <td>ssRNA</td>\n",
       "      <td>CTGGGGAATTCCCACGGCTCGGCAAAATAAAAGCACAAGAGCGACT...</td>\n",
       "      <td>254</td>\n",
       "    </tr>\n",
       "    <tr>\n",
       "      <th>...</th>\n",
       "      <td>...</td>\n",
       "      <td>...</td>\n",
       "      <td>...</td>\n",
       "      <td>...</td>\n",
       "      <td>...</td>\n",
       "      <td>...</td>\n",
       "      <td>...</td>\n",
       "      <td>...</td>\n",
       "    </tr>\n",
       "    <tr>\n",
       "      <th>6708</th>\n",
       "      <td>KU877344.1</td>\n",
       "      <td>Powai lake megavirus</td>\n",
       "      <td>DNA</td>\n",
       "      <td>linear</td>\n",
       "      <td>Powai lake megavirus isolate 1, complete genome</td>\n",
       "      <td>dsDNA</td>\n",
       "      <td>CCTTTTTTGGATAATTTTTGATATTTATTTAAAGGACTATTTAGAA...</td>\n",
       "      <td>1208707</td>\n",
       "    </tr>\n",
       "    <tr>\n",
       "      <th>7226</th>\n",
       "      <td>JX885207.1</td>\n",
       "      <td>Megavirus lba</td>\n",
       "      <td>DNA</td>\n",
       "      <td>linear</td>\n",
       "      <td>Megavirus lba isolate LBA111, complete genome</td>\n",
       "      <td>dsDNA</td>\n",
       "      <td>TAATTCATTATTTTTCTCCAACAACAATTTTATTTTTTTGTCTTGT...</td>\n",
       "      <td>1230522</td>\n",
       "    </tr>\n",
       "    <tr>\n",
       "      <th>7215</th>\n",
       "      <td>JX975216.1</td>\n",
       "      <td>Megavirus courdo11</td>\n",
       "      <td>DNA</td>\n",
       "      <td>linear</td>\n",
       "      <td>Megavirus courdo11, complete genome</td>\n",
       "      <td>dsDNA</td>\n",
       "      <td>TCTGCATCTACTTTTAATTTCTTTGGAACACCTCCATATCCTATTA...</td>\n",
       "      <td>1246126</td>\n",
       "    </tr>\n",
       "    <tr>\n",
       "      <th>4011</th>\n",
       "      <td>NC_016072.1</td>\n",
       "      <td>Megavirus chiliensis</td>\n",
       "      <td>DNA</td>\n",
       "      <td>linear</td>\n",
       "      <td>Megavirus chiliensis, complete genome</td>\n",
       "      <td>dsDNA</td>\n",
       "      <td>AAAGTATATTATAGTTTATTTTATATATTACCTGTAGATGCGACGG...</td>\n",
       "      <td>1259197</td>\n",
       "    </tr>\n",
       "    <tr>\n",
       "      <th>6281</th>\n",
       "      <td>NC_036594.1</td>\n",
       "      <td>Orpheovirus IHUMI-LCC2</td>\n",
       "      <td>DNA</td>\n",
       "      <td>circular</td>\n",
       "      <td>Orpheovirus IHUMI-LCC2 genome assembly, comple...</td>\n",
       "      <td>dsDNA</td>\n",
       "      <td>TTTTATCTATTATAATTTTCTATAACTTATAATTTTTATCTATTAT...</td>\n",
       "      <td>1473573</td>\n",
       "    </tr>\n",
       "  </tbody>\n",
       "</table>\n",
       "<p>8872 rows × 8 columns</p>\n",
       "</div>"
      ],
      "text/plain": [
       "               Id                           Org  MolTyp     Topol  \\\n",
       "632    MK888699.1        Citrus dwarfing viroid     RNA  circular   \n",
       "584    MN073490.1  Coconut cadang-cadang viroid     RNA  circular   \n",
       "2306  NC_001410.1      Avocado sunblotch viroid  ss-RNA  circular   \n",
       "2614  NC_003681.1        Coleus blumei viroid 1  ss-RNA  circular   \n",
       "2322  NC_001471.1      Coconut tinangaja viroid  ss-RNA    linear   \n",
       "...           ...                           ...     ...       ...   \n",
       "6708   KU877344.1          Powai lake megavirus     DNA    linear   \n",
       "7226   JX885207.1                 Megavirus lba     DNA    linear   \n",
       "7215   JX975216.1            Megavirus courdo11     DNA    linear   \n",
       "4011  NC_016072.1          Megavirus chiliensis     DNA    linear   \n",
       "6281  NC_036594.1        Orpheovirus IHUMI-LCC2     DNA  circular   \n",
       "\n",
       "                                                    Des    Gen  \\\n",
       "632   Citrus dwarfing viroid isolate SL-06, complete...  ssRNA   \n",
       "584   Coconut cadang-cadang viroid isolate OSK, comp...  ssRNA   \n",
       "2306          Avocado sunblotch viroid, complete genome  ssRNA   \n",
       "2614            Coleus blumei viroid 1, complete genome  ssRNA   \n",
       "2322          Coconut tinangaja viroid, complete genome  ssRNA   \n",
       "...                                                 ...    ...   \n",
       "6708    Powai lake megavirus isolate 1, complete genome  dsDNA   \n",
       "7226      Megavirus lba isolate LBA111, complete genome  dsDNA   \n",
       "7215                Megavirus courdo11, complete genome  dsDNA   \n",
       "4011              Megavirus chiliensis, complete genome  dsDNA   \n",
       "6281  Orpheovirus IHUMI-LCC2 genome assembly, comple...  dsDNA   \n",
       "\n",
       "                                                    Seq      Len  \n",
       "632   CTCCGCTAGTCGGAAGACTCCGCATCCTCCGGCTGACCCGCTCAGT...      235  \n",
       "584   CTGGGGAAATCTACAGGGCACCCCAAAAACTACTGCAGGAGAGGCC...      246  \n",
       "2306  TTTATTAGAACAAGAAGTGAGGATATGATTAAACTTTGTTTGACGA...      247  \n",
       "2614  TGGCTCGAACTGACTAGAACGGTTTTAAGAAAAAGTTCTTACCTGG...      248  \n",
       "2322  CTGGGGAATTCCCACGGCTCGGCAAAATAAAAGCACAAGAGCGACT...      254  \n",
       "...                                                 ...      ...  \n",
       "6708  CCTTTTTTGGATAATTTTTGATATTTATTTAAAGGACTATTTAGAA...  1208707  \n",
       "7226  TAATTCATTATTTTTCTCCAACAACAATTTTATTTTTTTGTCTTGT...  1230522  \n",
       "7215  TCTGCATCTACTTTTAATTTCTTTGGAACACCTCCATATCCTATTA...  1246126  \n",
       "4011  AAAGTATATTATAGTTTATTTTATATATTACCTGTAGATGCGACGG...  1259197  \n",
       "6281  TTTTATCTATTATAATTTTCTATAACTTATAATTTTTATCTATTAT...  1473573  \n",
       "\n",
       "[8872 rows x 8 columns]"
      ]
     },
     "execution_count": 5,
     "metadata": {},
     "output_type": "execute_result"
    }
   ],
   "source": [
    "df.sort_values(by='Len')"
   ]
  },
  {
   "cell_type": "code",
   "execution_count": 20,
   "metadata": {},
   "outputs": [],
   "source": [
    "import numpy as np\n",
    "import pandas as pd\n",
    "import random\n",
    "import matplotlib.pyplot as plt\n",
    "import seaborn as sns\n",
    "from Bio import SeqIO\n",
    "from Bio.Seq import Seq\n",
    "from Bio.Alphabet import IUPAC\n",
    "from Bio.SeqRecord import SeqRecord\n",
    "from Bio import SeqUtils\n",
    "from sklearn.model_selection import cross_val_score\n",
    "from sklearn.metrics import f1_score\n",
    "from sklearn import metrics"
   ]
  },
  {
   "cell_type": "code",
   "execution_count": 21,
   "metadata": {
    "scrolled": true
   },
   "outputs": [],
   "source": [
    "def rfimp(feats,pnr):\n",
    "    \n",
    "    r = res[feats].copy()\n",
    "    pnr = pnr.drop(columns=['Id', 'MolTyp', 'Topol', 'Des'])\n",
    "\n",
    "    ps = pnr.loc[pnr['Gen'] == 1]\n",
    "    ns = pnr.loc[pnr['Gen'] == 0]\n",
    "\n",
    "    pnrs = pd.concat([ps,ns])\n",
    "    \n",
    "    #Splitting features and labels\n",
    "    X = pnrs.iloc[:, 3:].values.astype(float)\n",
    "    y = pnrs.iloc[:, 1].values.astype(float)\n",
    "    \n",
    "    # Splitting the dataset into the Training set and Test set\n",
    "    from sklearn.model_selection import train_test_split\n",
    "    X_train, X_test, y_train, y_test = train_test_split(X, y, test_size = 0.25)\n",
    "    \n",
    "    # Feature Scaling\n",
    "    from sklearn.preprocessing import StandardScaler\n",
    "    sc = StandardScaler()\n",
    "    X_train = sc.fit_transform(X_train)\n",
    "    X_test = sc.transform(X_test)\n",
    "    \n",
    "    # Fitting Random Forest Classification to the Training set\n",
    "    from sklearn.ensemble import RandomForestClassifier\n",
    "    classifier = RandomForestClassifier(n_estimators = 15, criterion = 'entropy')\n",
    "    classifier.fit(X_train, y_train)\n",
    "    \n",
    "    # Predicting the Test set results\n",
    "    y_pred = classifier.predict(X_test)\n",
    "    \n",
    "    # Making the Confusion Matrix\n",
    "    from sklearn.metrics import confusion_matrix\n",
    "    cm = confusion_matrix(y_test, y_pred)\n",
    "    \n",
    "    dunnowhat = metrics.accuracy_score(y_test, y_pred)\n",
    "    cv_bin = cross_val_score(classifier, X, y, cv=5, scoring='f1')\n",
    "    cv_mac = cross_val_score(classifier, X, y, cv=5, scoring='f1_macro')\n",
    "    f1bin = f1_score(y_test, y_pred, average='binary')\n",
    "    f1mac = f1_score(y_test, y_pred, average='macro')\n",
    "    return cv_bin, cv_mac, f1bin, f1mac, dunnowhat"
   ]
  },
  {
   "cell_type": "code",
   "execution_count": 8,
   "metadata": {},
   "outputs": [
    {
     "name": "stdout",
     "output_type": "stream",
     "text": [
      "0.9201008909653658 0.07213781802967897\n",
      "0.9201008909653658 0.07213781802967897\n",
      "0.9201008909653658 0.07213781802967897\n",
      "0.9201008909653658 0.07213781802967897\n",
      "0.9201008909653658 0.07213781802967897\n",
      "0.9201008909653658 0.07213781802967897\n",
      "0.9201008909653658 0.07213781802967897\n",
      "0.9201008909653658 0.07213781802967897\n",
      "0.9201008909653658 0.07213781802967897\n",
      "0.9201008909653658 0.07213781802967897\n",
      "0.9201008909653658 0.07213781802967897\n",
      "0.9201008909653658 0.07213781802967897\n",
      "0.9201008909653658 0.07213781802967897\n",
      "0.9201008909653658 0.07213781802967897\n",
      "0.9201008909653658 0.07213781802967897\n",
      "0.9201008909653658 0.07213781802967897\n",
      "0.9201008909653658 0.07213781802967897\n",
      "0.9201008909653658 0.07213781802967897\n",
      "0.9201008909653658 0.07213781802967897\n",
      "0.9201008909653658 0.07213781802967897\n",
      "0.9201008909653657\n"
     ]
    }
   ],
   "source": [
    "aclist = []\n",
    "\n",
    "for i in range(20):\n",
    "    fmac = whole(pnr)\n",
    "    aclist.append(fmac.mean())\n",
    "    print(fmac.mean(), fmac.std() *2)\n",
    "\n",
    "print(np.mean(aclist))"
   ]
  },
  {
   "cell_type": "markdown",
   "metadata": {},
   "source": [
    "Selection using SelectFromModel and RFECV "
   ]
  },
  {
   "cell_type": "code",
   "execution_count": 40,
   "metadata": {
    "collapsed": true
   },
   "outputs": [
    {
     "ename": "NameError",
     "evalue": "name 'classifier' is not defined",
     "output_type": "error",
     "traceback": [
      "\u001b[1;31m---------------------------------------------------------------------------\u001b[0m",
      "\u001b[1;31mNameError\u001b[0m                                 Traceback (most recent call last)",
      "\u001b[1;32m<ipython-input-40-02f2dcd67cd3>\u001b[0m in \u001b[0;36m<module>\u001b[1;34m\u001b[0m\n\u001b[0;32m     49\u001b[0m \u001b[1;31m#cm = confusion_matrix(y_test, y_pred)\u001b[0m\u001b[1;33m\u001b[0m\u001b[1;33m\u001b[0m\u001b[1;33m\u001b[0m\u001b[0m\n\u001b[0;32m     50\u001b[0m \u001b[1;33m\u001b[0m\u001b[0m\n\u001b[1;32m---> 51\u001b[1;33m \u001b[0mcv_bin\u001b[0m \u001b[1;33m=\u001b[0m \u001b[0mcross_val_score\u001b[0m\u001b[1;33m(\u001b[0m\u001b[0mclassifier\u001b[0m\u001b[1;33m,\u001b[0m \u001b[0mX_train\u001b[0m\u001b[1;33m,\u001b[0m \u001b[0my_train\u001b[0m\u001b[1;33m,\u001b[0m \u001b[0mcv\u001b[0m\u001b[1;33m=\u001b[0m\u001b[1;36m5\u001b[0m\u001b[1;33m,\u001b[0m \u001b[0mscoring\u001b[0m\u001b[1;33m=\u001b[0m\u001b[1;34m'f1'\u001b[0m\u001b[1;33m)\u001b[0m\u001b[1;33m\u001b[0m\u001b[1;33m\u001b[0m\u001b[0m\n\u001b[0m\u001b[0;32m     52\u001b[0m \u001b[0mcv_mac\u001b[0m \u001b[1;33m=\u001b[0m \u001b[0mcross_val_score\u001b[0m\u001b[1;33m(\u001b[0m\u001b[0mclassifier\u001b[0m\u001b[1;33m,\u001b[0m \u001b[0mX_train\u001b[0m\u001b[1;33m,\u001b[0m \u001b[0my_train\u001b[0m\u001b[1;33m,\u001b[0m \u001b[0mcv\u001b[0m\u001b[1;33m=\u001b[0m\u001b[1;36m5\u001b[0m\u001b[1;33m,\u001b[0m \u001b[0mscoring\u001b[0m\u001b[1;33m=\u001b[0m\u001b[1;34m'f1_macro'\u001b[0m\u001b[1;33m)\u001b[0m\u001b[1;33m\u001b[0m\u001b[1;33m\u001b[0m\u001b[0m\n\u001b[0;32m     53\u001b[0m \u001b[1;33m\u001b[0m\u001b[0m\n",
      "\u001b[1;31mNameError\u001b[0m: name 'classifier' is not defined"
     ]
    }
   ],
   "source": [
    "#selecting from res 340\n",
    "pn = pd.read_csv('pndf.csv')\n",
    "res = pd.read_csv('res 340.csv')\n",
    "pn.loc[pn['Gen'] == 'ssRNA(+)', 'Gen'] = 0\n",
    "pn.loc[pn['Gen'] == 'ssRNA(-)', 'Gen'] = 1\n",
    "\n",
    "fts = fdf.sort_values(by='final', ascending = False)[:50].index\n",
    "r = res[fts].copy()\n",
    "pnr = pd.concat([pn, r], axis = 1)\n",
    "pnr = pnr.drop(columns=['Id', 'MolTyp', 'Topol', 'Des', 'Len'])\n",
    "\n",
    "ps = pnr.loc[pnr['Gen'] == 1]\n",
    "ns = pnr.loc[pnr['Gen'] == 0]\n",
    "\n",
    "pnrs = pd.concat([ps,ns], axis = 0).reset_index(drop=True)\n",
    "\n",
    "#Splitting features and labels\n",
    "X = pnrs.iloc[:, 3:].values.astype(float)\n",
    "y = pnrs.iloc[:, 1].values.astype(float)\n",
    "\n",
    "# Splitting the dataset into the Training set and Test set\n",
    "from sklearn.model_selection import train_test_split\n",
    "X_train, X_test, y_train, y_test = train_test_split(X, y, test_size = 0.25)\n",
    "\n",
    "# Feature Scaling\n",
    "from sklearn.preprocessing import StandardScaler\n",
    "sc = StandardScaler()\n",
    "X_train = sc.fit_transform(X_train)\n",
    "X_test = sc.transform(X_test)\n",
    "\n",
    "# Fitting Random Forest Classification to the Training set\n",
    "from sklearn.ensemble import RandomForestClassifier\n",
    "from sklearn.feature_selection import SelectFromModel\n",
    "from sklearn.feature_selection import RFECV\n",
    "#classifier = RandomForestClassifier(n_estimators = 20, criterion = 'entropy')\n",
    "#classifier.fit(X_train, y_train)\n",
    "\n",
    "#feature selection 1\n",
    "selector1 = SelectFromModel(RandomForestClassifier(n_estimators = 20))\n",
    "selector1.fit(X_train, y_train)\n",
    "#feature selection 2\n",
    "selector2 = RFECV(RandomForestClassifier(n_estimators = 20), step=1, cv=5)\n",
    "selector2 = selector2.fit(X_train, y_train)\n",
    "\n",
    "# Predicting the Test set results\n",
    "#y_pred = sel.predict(X_test)\n",
    "\n",
    "# Making the Confusion Matrix\n",
    "from sklearn.metrics import confusion_matrix\n",
    "#cm = confusion_matrix(y_test, y_pred)\n",
    "\n",
    "cv_bin = cross_val_score(classifier, X_train, y_train, cv=5, scoring='f1')\n",
    "cv_mac = cross_val_score(classifier, X_train, y_train, cv=5, scoring='f1_macro')\n",
    "\n",
    "f1bin = f1_score(y_test, y_pred, average='binary')\n",
    "f1mac = f1_score(y_test, y_pred, average='macro')"
   ]
  },
  {
   "cell_type": "code",
   "execution_count": 44,
   "metadata": {},
   "outputs": [
    {
     "data": {
      "text/plain": [
       "Index(['Len', 'ATCA', 'ATCT', 'GCGT', 'TGGT', 'ATC', 'GTG', 'GATC', 'TATC',\n",
       "       'TCA', 'AATC', 'TCAT', 'TCAG'],\n",
       "      dtype='object')"
      ]
     },
     "execution_count": 44,
     "metadata": {},
     "output_type": "execute_result"
    }
   ],
   "source": [
    "pnrs.iloc[:, 3:].columns[(sel.get_support())]"
   ]
  },
  {
   "cell_type": "code",
   "execution_count": 45,
   "metadata": {},
   "outputs": [
    {
     "data": {
      "text/plain": [
       "Index(['Len', 'ATCA', 'ATCT', 'GCGT', 'TGGT', 'ATC', 'GTG', 'GATC', 'TATC',\n",
       "       'TCA', 'GAT', 'CGCT', 'AGAT', 'CGT', 'TCAG', 'AGA', 'CACG'],\n",
       "      dtype='object')"
      ]
     },
     "execution_count": 45,
     "metadata": {},
     "output_type": "execute_result"
    }
   ],
   "source": [
    "pnrs.iloc[:, 3:].columns[(selector2.get_support())]"
   ]
  },
  {
   "cell_type": "markdown",
   "metadata": {},
   "source": [
    "selecting from lenc and tp"
   ]
  },
  {
   "cell_type": "code",
   "execution_count": 7,
   "metadata": {},
   "outputs": [
    {
     "data": {
      "text/plain": [
       "0       1\n",
       "1       1\n",
       "2       1\n",
       "3       1\n",
       "4       1\n",
       "       ..\n",
       "3140    0\n",
       "3141    0\n",
       "3142    0\n",
       "3143    0\n",
       "3144    0\n",
       "Name: Gen, Length: 3145, dtype: object"
      ]
     },
     "execution_count": 7,
     "metadata": {},
     "output_type": "execute_result"
    }
   ],
   "source": [
    "pnrs.iloc[:, 5]"
   ]
  },
  {
   "cell_type": "code",
   "execution_count": 3,
   "metadata": {
    "scrolled": true
   },
   "outputs": [],
   "source": [
    "fdf = pd.read_csv('../fdf2 win5.csv', index_col = 'Unnamed: 0')"
   ]
  },
  {
   "cell_type": "code",
   "execution_count": 71,
   "metadata": {},
   "outputs": [],
   "source": [
    "facs = fdf.sort_values(by= 'final', ascending = False)[:120].index"
   ]
  },
  {
   "cell_type": "code",
   "execution_count": 11,
   "metadata": {
    "scrolled": true
   },
   "outputs": [],
   "source": [
    "#selecting for tps and res 340\n",
    "pn = pd.read_csv('pndf.csv')\n",
    "res = pd.read_csv('../win5.csv')\n",
    "pn.loc[pn['Gen'] == 'ssRNA(+)', 'Gen'] = 0\n",
    "pn.loc[pn['Gen'] == 'ssRNA(-)', 'Gen'] = 1\n",
    "\n",
    "fts = fdf.sort_values(by='result', ascending = False)[:120].index\n",
    "r = res[fts].copy()\n",
    "pnr = pd.concat([pn, r], axis = 1)\n",
    "\n",
    "ps = pnr.loc[pnr['Gen'] == 1]\n",
    "ns = pnr.loc[pnr['Gen'] == 0]\n",
    "\n",
    "pnrs = pd.concat([ps,ns], axis = 0).reset_index(drop=True)\n",
    "\n",
    "def tpfeatsel(pnrs):\n",
    "    \n",
    "    #Splitting features and labels\n",
    "    X = pnrs.iloc[:, -120:].values.astype(float)\n",
    "    y = pnrs.iloc[:, 5].values.astype(float)\n",
    "\n",
    "    # Splitting the dataset into the Training set and Test set\n",
    "    from sklearn.model_selection import train_test_split\n",
    "    X_train, X_test, y_train, y_test = train_test_split(X, y, test_size = 0.25)\n",
    "\n",
    "    # Feature Scaling\n",
    "    from sklearn.preprocessing import StandardScaler\n",
    "    sc = StandardScaler()\n",
    "    X_train = sc.fit_transform(X_train)\n",
    "    X_test = sc.transform(X_test)\n",
    "\n",
    "    # Fitting Random Forest Classification to the Training set\n",
    "    from sklearn.ensemble import RandomForestClassifier\n",
    "    from sklearn.feature_selection import SelectFromModel\n",
    "    from sklearn.feature_selection import RFECV\n",
    "    classifier = RandomForestClassifier(n_estimators = 20)\n",
    "    #classifier.fit(X_train, y_train)\n",
    "\n",
    "    #feature selection 1\n",
    "    selector1 = SelectFromModel(RandomForestClassifier(n_estimators = 20))\n",
    "    selector1.fit(X_train, y_train)\n",
    "    #feature selection 2\n",
    "    selector2 = RFECV(RandomForestClassifier(n_estimators = 20), step=1, cv=5)\n",
    "    selector2 = selector2.fit(X_train, y_train)\n",
    "\n",
    "    #Predicting the Test set results\n",
    "    #y_pred = classifier.predict(X_test)\n",
    "\n",
    "    #Making the Confusion Matrix\n",
    "    from sklearn.metrics import confusion_matrix\n",
    "    #cm = confusion_matrix(y_test, y_pred)\n",
    "\n",
    "    cv_bin = cross_val_score(classifier, X_train, y_train, cv=5, scoring='f1')\n",
    "    cv_mac = cross_val_score(classifier, X_train, y_train, cv=5, scoring='f1_macro')\n",
    "\n",
    "    #f1bin = f1_score(y_test, y_pred, average='binary')\n",
    "    #f1mac = f1_score(y_test, y_pred, average='macro')\n",
    "    \n",
    "    return list(pnrs.iloc[:,-120:].columns[(selector2.get_support())]) + \\\n",
    "                list(pnrs.iloc[:,-120:].columns[(selector1.get_support())]), cv_mac"
   ]
  },
  {
   "cell_type": "code",
   "execution_count": 12,
   "metadata": {},
   "outputs": [
    {
     "name": "stdout",
     "output_type": "stream",
     "text": [
      "19 iterations remain.\n",
      "18 iterations remain.\n",
      "17 iterations remain.\n",
      "16 iterations remain.\n",
      "15 iterations remain.\n",
      "14 iterations remain.\n",
      "13 iterations remain.\n",
      "12 iterations remain.\n",
      "11 iterations remain.\n",
      "10 iterations remain.\n",
      "9 iterations remain.\n",
      "8 iterations remain.\n",
      "7 iterations remain.\n",
      "6 iterations remain.\n",
      "5 iterations remain.\n",
      "4 iterations remain.\n",
      "3 iterations remain.\n",
      "2 iterations remain.\n",
      "1 iterations remain.\n",
      "0 iterations remain.\n"
     ]
    }
   ],
   "source": [
    "tfdf = pd.DataFrame(index = pnrs.iloc[:,-120:].columns, columns = ['count', 'mac'])\n",
    "tfdf['count'] = 0\n",
    "tfdf['mac'] = 0\n",
    "\n",
    "for i in range(20):\n",
    "    lit, mac = tpfeatsel(pnrs)\n",
    "    for f in lit:\n",
    "        tfdf.loc[f,'count'] = tfdf.loc[f,'count'] + 1\n",
    "        tfdf.loc[f,'mac'] = tfdf.loc[f,'mac'] + mac.mean()\n",
    "        \n",
    "    print('%d iterations remain.' % (19 - i))"
   ]
  },
  {
   "cell_type": "code",
   "execution_count": 18,
   "metadata": {},
   "outputs": [
    {
     "data": {
      "text/plain": [
       "Index(['AGATC', 'GGATC', 'GCGTT', 'GATCA', 'ACGTG', 'ATCAG', 'GATCT', 'ATCAT',\n",
       "       'CGCGT', 'ATCTC', 'ATATC', 'GTGGT', 'TCAGA', 'TGGTT', 'GCGTA', 'CACGT',\n",
       "       'TCATC', 'AGCGT', 'CGCTT', 'CGTGT'],\n",
       "      dtype='object')"
      ]
     },
     "execution_count": 18,
     "metadata": {},
     "output_type": "execute_result"
    }
   ],
   "source": [
    "tfdf.sort_values(by = 'count', ascending = False)[:20].index"
   ]
  },
  {
   "cell_type": "code",
   "execution_count": 88,
   "metadata": {},
   "outputs": [
    {
     "data": {
      "text/plain": [
       "Index(['ATCA', 'ATC', 'ATCT', 'TATC', 'GATC', 'TCAG', 'TGGT', 'CGT', 'GCGT',\n",
       "       'CAGA', 'TCA', 'TCAT'],\n",
       "      dtype='object')"
      ]
     },
     "execution_count": 88,
     "metadata": {},
     "output_type": "execute_result"
    }
   ],
   "source": [
    "tfdf.sort_values(by = 'count', ascending = False).index[:12]"
   ]
  },
  {
   "cell_type": "code",
   "execution_count": 15,
   "metadata": {},
   "outputs": [],
   "source": [
    "tfdf['f1mac'] = tfdf['mac']/tfdf['count']"
   ]
  },
  {
   "cell_type": "code",
   "execution_count": 40,
   "metadata": {},
   "outputs": [
    {
     "data": {
      "text/plain": [
       "Index(['T to G', 'G to A', 'T to T', 'T to C', 'C to G', 'G to T', 'A to T',\n",
       "       'G to C', 'A to C'],\n",
       "      dtype='object')"
      ]
     },
     "execution_count": 40,
     "metadata": {},
     "output_type": "execute_result"
    }
   ],
   "source": [
    "tfdf.sort_values(by = 'count', ascending = False).index[:9]"
   ]
  },
  {
   "cell_type": "code",
   "execution_count": 23,
   "metadata": {},
   "outputs": [
    {
     "data": {
      "text/plain": [
       "Index(['A to A', 'A to T', 'A to G', 'A to C', 'T to A', 'T to T', 'T to G',\n",
       "       'T to C', 'G to A', 'G to T', 'G to G', 'G to C', 'C to G'],\n",
       "      dtype='object')"
      ]
     },
     "execution_count": 23,
     "metadata": {},
     "output_type": "execute_result"
    }
   ],
   "source": [
    "pnrs.iloc[:,-16:].columns[(selector2.get_support())]"
   ]
  },
  {
   "cell_type": "code",
   "execution_count": 22,
   "metadata": {},
   "outputs": [
    {
     "data": {
      "text/plain": [
       "Index(['A to T', 'T to T', 'T to G', 'T to C', 'G to A', 'G to T', 'G to C',\n",
       "       'C to G'],\n",
       "      dtype='object')"
      ]
     },
     "execution_count": 22,
     "metadata": {},
     "output_type": "execute_result"
    }
   ],
   "source": [
    "pnrs.iloc[:,-16:].columns[(selector1.get_support())]"
   ]
  },
  {
   "cell_type": "code",
   "execution_count": null,
   "metadata": {},
   "outputs": [],
   "source": []
  },
  {
   "cell_type": "code",
   "execution_count": null,
   "metadata": {},
   "outputs": [],
   "source": []
  }
 ],
 "metadata": {
  "kernelspec": {
   "display_name": "Python 3",
   "language": "python",
   "name": "python3"
  },
  "language_info": {
   "codemirror_mode": {
    "name": "ipython",
    "version": 3
   },
   "file_extension": ".py",
   "mimetype": "text/x-python",
   "name": "python",
   "nbconvert_exporter": "python",
   "pygments_lexer": "ipython3",
   "version": "3.8.2"
  }
 },
 "nbformat": 4,
 "nbformat_minor": 4
}
