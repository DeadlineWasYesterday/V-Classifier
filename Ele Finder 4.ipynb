{
 "cells": [
  {
   "cell_type": "code",
   "execution_count": 1,
   "metadata": {},
   "outputs": [],
   "source": [
    "import numpy as np\n",
    "import pandas as pd"
   ]
  },
  {
   "cell_type": "code",
   "execution_count": 2,
   "metadata": {},
   "outputs": [],
   "source": [
    "df = pd.read_csv('final file hopefully no errors.csv')\n",
    "df['Len'] = [len(s) for s in df['Seq'].to_list()]\n",
    "\n",
    "dfp = df.loc[df['Gen'] == 'ssRNA(+)']\n",
    "dfn = df.loc[df['Gen'] == 'ssRNA(-)']\n",
    "\n",
    "wdfp = dfp.sample(len(dfn))\n",
    "\n",
    "wdfp = wdfp.reset_index(drop = True)\n",
    "dfp = dfp.reset_index(drop = True)\n",
    "dfn = dfn.reset_index(drop = True)"
   ]
  },
  {
   "cell_type": "code",
   "execution_count": 4,
   "metadata": {},
   "outputs": [],
   "source": [
    "#taking all ATGC permutations for windows of length 7\n",
    "\n",
    "import itertools\n",
    "\n",
    "winlist7 = []\n",
    "\n",
    "for i in range(7,8):\n",
    "\n",
    "    for i in (itertools.product('ATGC', repeat=i)):\n",
    "        winlist7.append(''.join(i))"
   ]
  },
  {
   "cell_type": "code",
   "execution_count": 7,
   "metadata": {},
   "outputs": [
    {
     "name": "stdout",
     "output_type": "stream",
     "text": [
      "Done making 16384 windows\n"
     ]
    },
    {
     "ename": "NameError",
     "evalue": "name 'calculate_element_score3' is not defined",
     "output_type": "error",
     "traceback": [
      "\u001b[1;31m---------------------------------------------------------------------------\u001b[0m",
      "\u001b[1;31mNameError\u001b[0m                                 Traceback (most recent call last)",
      "\u001b[1;32m<ipython-input-7-0b44e21bb3a4>\u001b[0m in \u001b[0;36m<module>\u001b[1;34m\u001b[0m\n\u001b[0;32m     37\u001b[0m     \u001b[1;32mfor\u001b[0m \u001b[0melement\u001b[0m \u001b[1;32min\u001b[0m \u001b[0mwinlist\u001b[0m\u001b[1;33m:\u001b[0m\u001b[1;33m\u001b[0m\u001b[1;33m\u001b[0m\u001b[0m\n\u001b[0;32m     38\u001b[0m         \u001b[1;32mfor\u001b[0m \u001b[0mi\u001b[0m\u001b[1;33m,\u001b[0m \u001b[0mr\u001b[0m \u001b[1;32min\u001b[0m \u001b[0mdfp\u001b[0m\u001b[1;33m.\u001b[0m\u001b[0miterrows\u001b[0m\u001b[1;33m(\u001b[0m\u001b[1;33m)\u001b[0m\u001b[1;33m:\u001b[0m\u001b[1;33m\u001b[0m\u001b[1;33m\u001b[0m\u001b[0m\n\u001b[1;32m---> 39\u001b[1;33m             \u001b[0mscore\u001b[0m \u001b[1;33m=\u001b[0m \u001b[0mcalculate_element_score3\u001b[0m\u001b[1;33m(\u001b[0m\u001b[0mmatch_award\u001b[0m\u001b[1;33m,\u001b[0m \u001b[0mmismatch_penalty\u001b[0m\u001b[1;33m,\u001b[0m \u001b[0mgap_penalty\u001b[0m\u001b[1;33m,\u001b[0m \u001b[0melement\u001b[0m\u001b[1;33m,\u001b[0m \u001b[0mr\u001b[0m\u001b[1;33m[\u001b[0m\u001b[1;34m'Seq'\u001b[0m\u001b[1;33m]\u001b[0m\u001b[1;33m)\u001b[0m\u001b[1;33m\u001b[0m\u001b[1;33m\u001b[0m\u001b[0m\n\u001b[0m\u001b[0;32m     40\u001b[0m \u001b[1;33m\u001b[0m\u001b[0m\n\u001b[0;32m     41\u001b[0m             \u001b[0mresultp\u001b[0m\u001b[1;33m.\u001b[0m\u001b[0mloc\u001b[0m\u001b[1;33m[\u001b[0m\u001b[0mi\u001b[0m\u001b[1;33m,\u001b[0m \u001b[0melement\u001b[0m\u001b[1;33m]\u001b[0m \u001b[1;33m=\u001b[0m \u001b[0mscore\u001b[0m\u001b[1;33m\u001b[0m\u001b[1;33m\u001b[0m\u001b[0m\n",
      "\u001b[1;31mNameError\u001b[0m: name 'calculate_element_score3' is not defined"
     ]
    }
   ],
   "source": [
    "#load databases as dataframes\n",
    "\n",
    "#set fragment/window size\n",
    "\n",
    "window_sizes = list(range(7,8))\n",
    "\n",
    "#set count threshold\n",
    "###\n",
    "\n",
    "#set other parameters\n",
    "match_award      = 2\n",
    "mismatch_penalty = -1\n",
    "gap_penalty      = -1 # both for opening and extanding\n",
    "\n",
    "#complete workflow\n",
    "\n",
    "for win in window_sizes:\n",
    "    winlist = [w for w in winlist7 if len(w) == win]\n",
    "    \n",
    "    #taking all unique elements into winlist\n",
    "    \n",
    "#     for repseq in repseqs:\n",
    "#         for i in range(0, len(repseq) - win + 1):\n",
    "#             piece = repseq[i:i + win]\n",
    "#             if piece not in winlist:\n",
    "#                 winlist.append(piece)\n",
    "                \n",
    "    print('Done making %d windows' % len(winlist)) \n",
    "    \n",
    "    #two dataframes to stores results\n",
    "    \n",
    "    resultp = pd.DataFrame(index = list(range(len(dfp))), columns = winlist)\n",
    "    resultn = pd.DataFrame(index = list(range(len(dfn))), columns = winlist)\n",
    "    \n",
    "    c = 1\n",
    "    \n",
    "    for element in winlist:\n",
    "        for i, r in dfp.iterrows():\n",
    "            score = calculate_element_score3(match_award, mismatch_penalty, gap_penalty, element, r['Seq'])\n",
    "            \n",
    "            resultp.loc[i, element] = score\n",
    "            \n",
    "        for i, r in dfn.iterrows():\n",
    "            score = calculate_element_score3(match_award, mismatch_penalty, gap_penalty, element, r['Seq'])\n",
    "            \n",
    "            resultn.loc[i, element] = score\n",
    "            \n",
    "        print('%d iterations done in winlist. %d remaining' % (c, (len(winlist) - c) ))\n",
    "        \n",
    "        c+=1\n",
    "\n",
    "    resultp.to_csv('resultp window %d.csv' % win, index = False)\n",
    "    resultn.to_csv('resultn window %d.csv' % win, index = False)"
   ]
  },
  {
   "cell_type": "code",
   "execution_count": 8,
   "metadata": {},
   "outputs": [],
   "source": [
    "def calculate_element_score3(match_award, mismatch_penalty, gap_penalty, seq1, seq2):\n",
    "    m, n = len(seq1), len(seq2)  # length of two sequences\n",
    "\n",
    "    # Generate DP table and traceback path pointer matrix\n",
    "    score = np.zeros((m+1, n+1)).astype(int)      # the DP table\n",
    "                                                    # to store the traceback path\n",
    "\n",
    "    max_score = 0        # initial maximum score in DP table\n",
    "    # Calculate DP table and mark pointers\n",
    "\n",
    "    scores_list = []\n",
    "\n",
    "    for i in range(1, m + 1):\n",
    "        for j in range(1, n + 1):\n",
    "            score_diagonal = score[i-1][j-1] + match_score(seq1[i-1], seq2[j-1])\n",
    "            score_up = score[i][j-1] + gap_penalty\n",
    "            score_left = score[i-1][j] + gap_penalty\n",
    "            score[i][j] = max(0,score_left, score_up, score_diagonal)\n",
    "            if score[i][j] >= max_score:\n",
    "                max_i = i\n",
    "                max_j = j\n",
    "                max_score = score[i][j];\n",
    "\n",
    "    perfect_score = min(len(seq1), len(seq2)) * match_award\n",
    "\n",
    "    perfect_matches = np.count_nonzero(score == perfect_score)\n",
    "\n",
    "    first_tolerance_match = np.count_nonzero(score == perfect_score - 1)\n",
    "    second_tolerance_match = np.count_nonzero(score == perfect_score - 2)\n",
    "    third_tolerance_match = np.count_nonzero(score == perfect_score - 3)\n",
    "\n",
    "    final_score = perfect_matches + first_tolerance_match/(perfect_score * 2) + second_tolerance_match/(perfect_score * 4) + third_tolerance_match/(perfect_score * 8)\n",
    "    \n",
    "    return final_score\n",
    "\n",
    "def match_score(alpha, beta):\n",
    "    if alpha == beta:\n",
    "        return match_award\n",
    "    elif alpha == '-' or beta == '-':\n",
    "        return gap_penalty\n",
    "    else:\n",
    "        return mismatch_penalty"
   ]
  }
 ],
 "metadata": {
  "kernelspec": {
   "display_name": "Python 3",
   "language": "python",
   "name": "python3"
  },
  "language_info": {
   "codemirror_mode": {
    "name": "ipython",
    "version": 3
   },
   "file_extension": ".py",
   "mimetype": "text/x-python",
   "name": "python",
   "nbconvert_exporter": "python",
   "pygments_lexer": "ipython3",
   "version": "3.8.2"
  }
 },
 "nbformat": 4,
 "nbformat_minor": 4
}
