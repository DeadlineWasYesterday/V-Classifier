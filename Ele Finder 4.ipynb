{
 "cells": [
  {
   "cell_type": "code",
   "execution_count": 21,
   "metadata": {},
   "outputs": [],
   "source": [
    "import numpy as np\n",
    "import pandas as pd\n",
    "import random\n",
    "import matplotlib.pyplot as plt\n",
    "import seaborn as sns"
   ]
  },
  {
   "cell_type": "code",
   "execution_count": 4,
   "metadata": {},
   "outputs": [
    {
     "data": {
      "text/plain": [
       "'CGCGCGAATATCTCGACAGCACCTTGGCCTCCCACTGGAGGTCCATAGCA'"
      ]
     },
     "execution_count": 4,
     "metadata": {},
     "output_type": "execute_result"
    }
   ],
   "source": []
  },
  {
   "cell_type": "code",
   "execution_count": 28,
   "metadata": {},
   "outputs": [],
   "source": [
    "df = pd.read_csv('final file hopefully no errors.csv')\n",
    "df['Len'] = [len(s) for s in df['Seq'].to_list()]\n",
    "\n",
    "dfp = df.loc[df['Gen'] == 'ssRNA(+)']\n",
    "dfn = df.loc[df['Gen'] == 'ssRNA(-)']\n",
    "\n",
    "wdfp = dfp.sample(len(dfn))\n",
    "\n",
    "wdfp = wdfp.reset_index(drop = True)\n",
    "dfp = dfp.reset_index(drop = True)\n",
    "dfn = dfn.reset_index(drop = True)"
   ]
  },
  {
   "cell_type": "code",
   "execution_count": 4,
   "metadata": {},
   "outputs": [],
   "source": [
    "#taking all ATGC permutations for windows of length 7\n",
    "\n",
    "import itertools\n",
    "\n",
    "winlist7 = []\n",
    "\n",
    "for i in range(7,8):\n",
    "\n",
    "    for i in (itertools.product('ATGC', repeat=i)):\n",
    "        winlist7.append(''.join(i))"
   ]
  },
  {
   "cell_type": "code",
   "execution_count": 7,
   "metadata": {},
   "outputs": [
    {
     "name": "stdout",
     "output_type": "stream",
     "text": [
      "Done making 16384 windows\n"
     ]
    },
    {
     "ename": "NameError",
     "evalue": "name 'calculate_element_score3' is not defined",
     "output_type": "error",
     "traceback": [
      "\u001b[1;31m---------------------------------------------------------------------------\u001b[0m",
      "\u001b[1;31mNameError\u001b[0m                                 Traceback (most recent call last)",
      "\u001b[1;32m<ipython-input-7-0b44e21bb3a4>\u001b[0m in \u001b[0;36m<module>\u001b[1;34m\u001b[0m\n\u001b[0;32m     37\u001b[0m     \u001b[1;32mfor\u001b[0m \u001b[0melement\u001b[0m \u001b[1;32min\u001b[0m \u001b[0mwinlist\u001b[0m\u001b[1;33m:\u001b[0m\u001b[1;33m\u001b[0m\u001b[1;33m\u001b[0m\u001b[0m\n\u001b[0;32m     38\u001b[0m         \u001b[1;32mfor\u001b[0m \u001b[0mi\u001b[0m\u001b[1;33m,\u001b[0m \u001b[0mr\u001b[0m \u001b[1;32min\u001b[0m \u001b[0mdfp\u001b[0m\u001b[1;33m.\u001b[0m\u001b[0miterrows\u001b[0m\u001b[1;33m(\u001b[0m\u001b[1;33m)\u001b[0m\u001b[1;33m:\u001b[0m\u001b[1;33m\u001b[0m\u001b[1;33m\u001b[0m\u001b[0m\n\u001b[1;32m---> 39\u001b[1;33m             \u001b[0mscore\u001b[0m \u001b[1;33m=\u001b[0m \u001b[0mcalculate_element_score3\u001b[0m\u001b[1;33m(\u001b[0m\u001b[0mmatch_award\u001b[0m\u001b[1;33m,\u001b[0m \u001b[0mmismatch_penalty\u001b[0m\u001b[1;33m,\u001b[0m \u001b[0mgap_penalty\u001b[0m\u001b[1;33m,\u001b[0m \u001b[0melement\u001b[0m\u001b[1;33m,\u001b[0m \u001b[0mr\u001b[0m\u001b[1;33m[\u001b[0m\u001b[1;34m'Seq'\u001b[0m\u001b[1;33m]\u001b[0m\u001b[1;33m)\u001b[0m\u001b[1;33m\u001b[0m\u001b[1;33m\u001b[0m\u001b[0m\n\u001b[0m\u001b[0;32m     40\u001b[0m \u001b[1;33m\u001b[0m\u001b[0m\n\u001b[0;32m     41\u001b[0m             \u001b[0mresultp\u001b[0m\u001b[1;33m.\u001b[0m\u001b[0mloc\u001b[0m\u001b[1;33m[\u001b[0m\u001b[0mi\u001b[0m\u001b[1;33m,\u001b[0m \u001b[0melement\u001b[0m\u001b[1;33m]\u001b[0m \u001b[1;33m=\u001b[0m \u001b[0mscore\u001b[0m\u001b[1;33m\u001b[0m\u001b[1;33m\u001b[0m\u001b[0m\n",
      "\u001b[1;31mNameError\u001b[0m: name 'calculate_element_score3' is not defined"
     ]
    }
   ],
   "source": [
    "#load databases as dataframes\n",
    "\n",
    "#set fragment/window size\n",
    "\n",
    "window_sizes = list(range(7,8))\n",
    "\n",
    "#set count threshold\n",
    "###\n",
    "\n",
    "#set other parameters\n",
    "match_award      = 2\n",
    "mismatch_penalty = -1\n",
    "gap_penalty      = -1 # both for opening and extanding\n",
    "\n",
    "#complete workflow\n",
    "\n",
    "for win in window_sizes:\n",
    "    winlist = [w for w in winlist7 if len(w) == win]\n",
    "    \n",
    "    #taking all unique elements into winlist\n",
    "    \n",
    "#     for repseq in repseqs:\n",
    "#         for i in range(0, len(repseq) - win + 1):\n",
    "#             piece = repseq[i:i + win]\n",
    "#             if piece not in winlist:\n",
    "#                 winlist.append(piece)\n",
    "                \n",
    "    print('Done making %d windows' % len(winlist)) \n",
    "    \n",
    "    #two dataframes to stores results\n",
    "    \n",
    "    resultp = pd.DataFrame(index = list(range(len(dfp))), columns = winlist)\n",
    "    resultn = pd.DataFrame(index = list(range(len(dfn))), columns = winlist)\n",
    "    \n",
    "    c = 1\n",
    "    \n",
    "    for element in winlist:\n",
    "        for i, r in dfp.iterrows():\n",
    "            score = calculate_element_score3(match_award, mismatch_penalty, gap_penalty, element, r['Seq'])\n",
    "            \n",
    "            resultp.loc[i, element] = score\n",
    "            \n",
    "        for i, r in dfn.iterrows():\n",
    "            score = calculate_element_score3(match_award, mismatch_penalty, gap_penalty, element, r['Seq'])\n",
    "            \n",
    "            resultn.loc[i, element] = score\n",
    "            \n",
    "        print('%d iterations done in winlist. %d remaining' % (c, (len(winlist) - c) ))\n",
    "        \n",
    "        c+=1\n",
    "\n",
    "    resultp.to_csv('resultp window %d.csv' % win, index = False)\n",
    "    resultn.to_csv('resultn window %d.csv' % win, index = False)"
   ]
  },
  {
   "cell_type": "code",
   "execution_count": 13,
   "metadata": {},
   "outputs": [],
   "source": [
    "def calculate_element_score3(match_award, mismatch_penalty, gap_penalty, seq1, seq2):\n",
    "    m, n = len(seq1), len(seq2)  # length of two sequences\n",
    "\n",
    "    # Generate DP table and traceback path pointer matrix\n",
    "    score = np.zeros((m+1, n+1)).astype(int)      # the DP table\n",
    "                                                    # to store the traceback path\n",
    "\n",
    "    max_score = 0        # initial maximum score in DP table\n",
    "    # Calculate DP table and mark pointers\n",
    "\n",
    "    scores_list = []\n",
    "\n",
    "    for i in range(1, m + 1):\n",
    "        for j in range(1, n + 1):\n",
    "            score_diagonal = score[i-1][j-1] + match_score(seq1[i-1], seq2[j-1])\n",
    "            score_up = score[i][j-1] + gap_penalty\n",
    "            score_left = score[i-1][j] + gap_penalty\n",
    "            score[i][j] = max(0,score_left, score_up, score_diagonal)\n",
    "            if score[i][j] >= max_score:\n",
    "                max_i = i\n",
    "                max_j = j\n",
    "                max_score = score[i][j];\n",
    "\n",
    "    perfect_score = min(len(seq1), len(seq2)) * match_award\n",
    "\n",
    "    perfect_matches = np.count_nonzero(score == perfect_score)\n",
    "\n",
    "    first_tolerance_match = np.count_nonzero(score == perfect_score - 1)\n",
    "    second_tolerance_match = np.count_nonzero(score == perfect_score - 2)\n",
    "    third_tolerance_match = np.count_nonzero(score == perfect_score - 3)\n",
    "\n",
    "    final_score = perfect_matches + first_tolerance_match/(perfect_score * 2) + second_tolerance_match/(perfect_score * 4) + third_tolerance_match/(perfect_score * 8)\n",
    "    \n",
    "    return final_score\n",
    "\n",
    "def match_score(alpha, beta):\n",
    "    if alpha == beta:\n",
    "        return match_award\n",
    "    elif alpha == '-' or beta == '-':\n",
    "        return gap_penalty\n",
    "    else:\n",
    "        return mismatch_penalty"
   ]
  },
  {
   "cell_type": "code",
   "execution_count": null,
   "metadata": {},
   "outputs": [],
   "source": [
    "#checking if scoring function scales with length"
   ]
  },
  {
   "cell_type": "code",
   "execution_count": 17,
   "metadata": {
    "collapsed": true
   },
   "outputs": [
    {
     "name": "stdout",
     "output_type": "stream",
     "text": [
      "iter 1\n",
      "iter 2\n",
      "iter 3\n",
      "iter 4\n",
      "iter 5\n",
      "iter 6\n",
      "iter 7\n",
      "iter 8\n",
      "iter 9\n",
      "iter 10\n",
      "iter 11\n",
      "iter 12\n",
      "iter 13\n",
      "iter 14\n",
      "iter 15\n",
      "iter 16\n",
      "iter 17\n",
      "iter 18\n",
      "iter 19\n",
      "iter 20\n",
      "iter 21\n",
      "iter 22\n",
      "iter 23\n",
      "iter 24\n",
      "iter 25\n",
      "iter 26\n",
      "iter 27\n",
      "iter 28\n",
      "iter 29\n",
      "iter 30\n",
      "iter 31\n",
      "iter 32\n",
      "iter 33\n",
      "iter 34\n",
      "iter 35\n",
      "iter 36\n",
      "iter 37\n",
      "iter 38\n",
      "iter 39\n",
      "iter 40\n",
      "iter 41\n",
      "iter 42\n",
      "iter 43\n",
      "iter 44\n",
      "iter 45\n",
      "iter 46\n",
      "iter 47\n",
      "iter 48\n",
      "iter 49\n",
      "iter 50\n",
      "iter 51\n",
      "iter 52\n",
      "iter 53\n",
      "iter 54\n",
      "iter 55\n",
      "iter 56\n",
      "iter 57\n",
      "iter 58\n",
      "iter 59\n",
      "iter 60\n",
      "iter 61\n",
      "iter 62\n",
      "iter 63\n",
      "iter 64\n",
      "iter 65\n",
      "iter 66\n",
      "iter 67\n",
      "iter 68\n",
      "iter 69\n",
      "iter 70\n",
      "iter 71\n",
      "iter 72\n",
      "iter 73\n",
      "iter 74\n",
      "iter 75\n",
      "iter 76\n",
      "iter 77\n",
      "iter 78\n",
      "iter 79\n",
      "iter 80\n",
      "iter 81\n",
      "iter 82\n",
      "iter 83\n",
      "iter 84\n",
      "iter 85\n",
      "iter 86\n",
      "iter 87\n",
      "iter 88\n",
      "iter 89\n",
      "iter 90\n",
      "iter 91\n",
      "iter 92\n",
      "iter 93\n",
      "iter 94\n",
      "iter 95\n",
      "iter 96\n",
      "iter 97\n",
      "iter 98\n",
      "iter 99\n",
      "iter 100\n",
      "iter 101\n",
      "iter 102\n",
      "iter 103\n",
      "iter 104\n",
      "iter 105\n",
      "iter 106\n",
      "iter 107\n",
      "iter 108\n",
      "iter 109\n",
      "iter 110\n",
      "iter 111\n",
      "iter 112\n",
      "iter 113\n",
      "iter 114\n",
      "iter 115\n",
      "iter 116\n",
      "iter 117\n",
      "iter 118\n",
      "iter 119\n"
     ]
    }
   ],
   "source": [
    "#set other parameters\n",
    "match_award      = 2\n",
    "mismatch_penalty = -1\n",
    "gap_penalty      = -1 # both for opening and extanding\n",
    "\n",
    "len_score = []\n",
    "\n",
    "for i in range(500,60000,500):\n",
    "\n",
    "    rs = ''.join(random.choice('ATGC') for _ in range(i))\n",
    "    \n",
    "    score = calculate_element_score3(match_award, mismatch_penalty, gap_penalty, 'ATGC', rs)\n",
    "    \n",
    "    len_score.append((len(rs), score))\n",
    "    \n",
    "    print('iter %d' % (i/500))\n"
   ]
  },
  {
   "cell_type": "code",
   "execution_count": 19,
   "metadata": {},
   "outputs": [],
   "source": [
    "a = np.array(len_score)"
   ]
  },
  {
   "cell_type": "code",
   "execution_count": 26,
   "metadata": {},
   "outputs": [
    {
     "data": {
      "text/plain": [
       "<matplotlib.collections.PathCollection at 0x12fcc790>"
      ]
     },
     "execution_count": 26,
     "metadata": {},
     "output_type": "execute_result"
    },
    {
     "data": {
      "image/png": "[encoded data removed]",
      "text/plain": [
       "<Figure size 432x288 with 1 Axes>"
      ]
     },
     "metadata": {
      "needs_background": "light"
     },
     "output_type": "display_data"
    }
   ],
   "source": [
    "plt.scatter(a[:,0],a[:,1])\n",
    "\n",
    "#score function scales linearly with length of sequence"
   ]
  },
  {
   "cell_type": "code",
   "execution_count": 35,
   "metadata": {},
   "outputs": [
    {
     "name": "stdout",
     "output_type": "stream",
     "text": [
      "60745\n"
     ]
    }
   ],
   "source": [
    "#generating nonrandom sequences\n",
    "\n",
    "supseq = ''\n",
    "\n",
    "for s in dfp.sort_values('Len')['Seq'].to_list():\n",
    "    supseq = supseq + s\n",
    "    \n",
    "    if len(supseq) >= 60000:\n",
    "        print(len(supseq))\n",
    "        break"
   ]
  },
  {
   "cell_type": "code",
   "execution_count": 36,
   "metadata": {
    "scrolled": true
   },
   "outputs": [
    {
     "name": "stdout",
     "output_type": "stream",
     "text": [
      "iter 1\n",
      "iter 2\n",
      "iter 3\n",
      "iter 4\n",
      "iter 5\n",
      "iter 6\n",
      "iter 7\n",
      "iter 8\n",
      "iter 9\n",
      "iter 10\n",
      "iter 11\n",
      "iter 12\n",
      "iter 13\n",
      "iter 14\n",
      "iter 15\n",
      "iter 16\n",
      "iter 17\n",
      "iter 18\n",
      "iter 19\n",
      "iter 20\n",
      "iter 21\n",
      "iter 22\n",
      "iter 23\n",
      "iter 24\n",
      "iter 25\n",
      "iter 26\n",
      "iter 27\n",
      "iter 28\n",
      "iter 29\n",
      "iter 30\n",
      "iter 31\n",
      "iter 32\n",
      "iter 33\n",
      "iter 34\n",
      "iter 35\n",
      "iter 36\n",
      "iter 37\n",
      "iter 38\n",
      "iter 39\n",
      "iter 40\n",
      "iter 41\n",
      "iter 42\n",
      "iter 43\n",
      "iter 44\n",
      "iter 45\n",
      "iter 46\n",
      "iter 47\n",
      "iter 48\n",
      "iter 49\n",
      "iter 50\n",
      "iter 51\n",
      "iter 52\n",
      "iter 53\n",
      "iter 54\n",
      "iter 55\n",
      "iter 56\n",
      "iter 57\n",
      "iter 58\n",
      "iter 59\n",
      "iter 60\n",
      "iter 61\n",
      "iter 62\n",
      "iter 63\n",
      "iter 64\n",
      "iter 65\n",
      "iter 66\n",
      "iter 67\n",
      "iter 68\n",
      "iter 69\n",
      "iter 70\n",
      "iter 71\n",
      "iter 72\n",
      "iter 73\n",
      "iter 74\n",
      "iter 75\n",
      "iter 76\n",
      "iter 77\n",
      "iter 78\n",
      "iter 79\n",
      "iter 80\n",
      "iter 81\n",
      "iter 82\n",
      "iter 83\n",
      "iter 84\n",
      "iter 85\n",
      "iter 86\n",
      "iter 87\n",
      "iter 88\n",
      "iter 89\n",
      "iter 90\n",
      "iter 91\n",
      "iter 92\n",
      "iter 93\n",
      "iter 94\n",
      "iter 95\n",
      "iter 96\n",
      "iter 97\n",
      "iter 98\n",
      "iter 99\n",
      "iter 100\n",
      "iter 101\n",
      "iter 102\n",
      "iter 103\n",
      "iter 104\n",
      "iter 105\n",
      "iter 106\n",
      "iter 107\n",
      "iter 108\n",
      "iter 109\n",
      "iter 110\n",
      "iter 111\n",
      "iter 112\n",
      "iter 113\n",
      "iter 114\n",
      "iter 115\n",
      "iter 116\n",
      "iter 117\n",
      "iter 118\n",
      "iter 119\n"
     ]
    },
    {
     "data": {
      "text/plain": [
       "<matplotlib.collections.PathCollection at 0x14466508>"
      ]
     },
     "execution_count": 36,
     "metadata": {},
     "output_type": "execute_result"
    },
    {
     "data": {
      "image/png": "[encoded data removed]",
      "text/plain": [
       "<Figure size 432x288 with 1 Axes>"
      ]
     },
     "metadata": {
      "needs_background": "light"
     },
     "output_type": "display_data"
    }
   ],
   "source": [
    "len_score = []\n",
    "\n",
    "for i in range(500,60000,500):\n",
    "\n",
    "    rs = supseq[:i]\n",
    "    \n",
    "    score = calculate_element_score3(match_award, mismatch_penalty, gap_penalty, 'ATGC', rs)\n",
    "    \n",
    "    len_score.append((len(rs), score))\n",
    "    \n",
    "    print('iter %d' % (i/500))\n",
    "    \n",
    "a = np.array(len_score)\n",
    "plt.scatter(a[:,0],a[:,1])"
   ]
  },
  {
   "cell_type": "code",
   "execution_count": 1,
   "metadata": {},
   "outputs": [],
   "source": []
  },
  {
   "cell_type": "code",
   "execution_count": 40,
   "metadata": {},
   "outputs": [],
   "source": [
    "d1 = pd.read_csv('resultp window 5 upto 388.csv')\n",
    "d12 = pd.read_csv('resultn window 5 upto 388.csv')"
   ]
  },
  {
   "cell_type": "code",
   "execution_count": 39,
   "metadata": {},
   "outputs": [],
   "source": [
    "d2 = pd.read_csv('resultp window 5 upto 512.csv')\n",
    "d22 = pd.read_csv('resultn window 5 upto 512.csv')\n",
    "\n",
    "d3 = pd.read_csv('win5 pool.csv')\n",
    "d4 = pd.read_csv('resultp window 5 last som.csv')\n",
    "d42 = pd.read_csv('resultn window 5 last som.csv')"
   ]
  },
  {
   "cell_type": "code",
   "execution_count": 41,
   "metadata": {
    "scrolled": true
   },
   "outputs": [],
   "source": [
    "d1 = pd.concat([d1,d12], axis = 0).reset_index(drop = True)\n",
    "d2 = pd.concat([d2,d22], axis = 0).reset_index(drop = True)\n",
    "d4 = pd.concat([d4,d42], axis = 0).reset_index(drop = True)"
   ]
  },
  {
   "cell_type": "code",
   "execution_count": 42,
   "metadata": {},
   "outputs": [],
   "source": [
    "d1 = d1.dropna(axis = 1, how='any')\n",
    "d2 = d2.dropna(axis = 1, how='any')\n",
    "d3 = d3.dropna(axis = 1, how='any')\n",
    "d4 = d4.dropna(axis = 1, how='any')"
   ]
  },
  {
   "cell_type": "code",
   "execution_count": 43,
   "metadata": {},
   "outputs": [],
   "source": [
    "d = pd.concat([d1,d2,d3,d4], axis = 1).reset_index(drop = True)"
   ]
  },
  {
   "cell_type": "code",
   "execution_count": 49,
   "metadata": {
    "scrolled": true
   },
   "outputs": [],
   "source": [
    "d = d.loc[:,~d.columns.duplicated()]"
   ]
  },
  {
   "cell_type": "code",
   "execution_count": 51,
   "metadata": {},
   "outputs": [],
   "source": [
    "d.to_csv('win5.csv', index = False)"
   ]
  },
  {
   "cell_type": "code",
   "execution_count": 52,
   "metadata": {},
   "outputs": [],
   "source": [
    "d = pd.read_csv('win5.csv')"
   ]
  },
  {
   "cell_type": "code",
   "execution_count": 54,
   "metadata": {},
   "outputs": [],
   "source": [
    "d2 = pd.read_csv('res 340.csv')"
   ]
  },
  {
   "cell_type": "code",
   "execution_count": 57,
   "metadata": {},
   "outputs": [],
   "source": [
    "pndf = pd.read_csv('pndf.csv')"
   ]
  },
  {
   "cell_type": "code",
   "execution_count": 62,
   "metadata": {},
   "outputs": [],
   "source": [
    "d = d.div(pndf['Len'], axis = 0)"
   ]
  },
  {
   "cell_type": "code",
   "execution_count": 67,
   "metadata": {},
   "outputs": [],
   "source": [
    "d.to_csv('win5 len scaled.csv', index = False)"
   ]
  }
 ],
 "metadata": {
  "kernelspec": {
   "display_name": "Python 3",
   "language": "python",
   "name": "python3"
  },
  "language_info": {
   "codemirror_mode": {
    "name": "ipython",
    "version": 3
   },
   "file_extension": ".py",
   "mimetype": "text/x-python",
   "name": "python",
   "nbconvert_exporter": "python",
   "pygments_lexer": "ipython3",
   "version": "3.8.2"
  }
 },
 "nbformat": 4,
 "nbformat_minor": 4
}
