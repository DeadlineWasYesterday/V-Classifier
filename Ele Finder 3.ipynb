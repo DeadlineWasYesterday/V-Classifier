{
 "cells": [
  {
   "cell_type": "code",
   "execution_count": 2,
   "metadata": {},
   "outputs": [],
   "source": [
    "import numpy as np\n",
    "import pandas as pd"
   ]
  },
  {
   "cell_type": "markdown",
   "metadata": {},
   "source": [
    "Loading data"
   ]
  },
  {
   "cell_type": "code",
   "execution_count": 3,
   "metadata": {
    "scrolled": false
   },
   "outputs": [],
   "source": [
    "df = pd.read_csv('final file hopefully no errors.csv')\n",
    "df['Len'] = [len(s) for s in df['Seq'].to_list()]"
   ]
  },
  {
   "cell_type": "code",
   "execution_count": 4,
   "metadata": {
    "scrolled": true
   },
   "outputs": [],
   "source": [
    "dfp = df.loc[df['Gen'] == 'ssRNA(+)']\n",
    "dfn = df.loc[df['Gen'] == 'ssRNA(-)']"
   ]
  },
  {
   "cell_type": "code",
   "execution_count": 5,
   "metadata": {},
   "outputs": [],
   "source": [
    "wdfp = dfp.sample(len(dfn))"
   ]
  },
  {
   "cell_type": "code",
   "execution_count": 108,
   "metadata": {},
   "outputs": [],
   "source": [
    "wdfp = wdfp.reset_index(drop = True)\n",
    "dfp = dfp.reset_index(drop = True)\n",
    "dfn = dfn.reset_index(drop = True)"
   ]
  },
  {
   "cell_type": "code",
   "execution_count": 7,
   "metadata": {},
   "outputs": [],
   "source": [
    "#load representative sequences into list\n",
    "#take 10 shortest sequences from each df. 20 total repseqs.\n",
    "\n",
    "repseqs = wdfp.sort_values('Len')[:10]['Seq'].to_list()\n",
    "\n",
    "repseqs = repseqs + (dfn.sort_values('Len')[:10]['Seq'].to_list())"
   ]
  },
  {
   "cell_type": "code",
   "execution_count": 98,
   "metadata": {},
   "outputs": [],
   "source": [
    "#taking all ATGC permutations for windows of length 1 to 6\n",
    "\n",
    "import itertools\n",
    "\n",
    "winlist16 = []\n",
    "\n",
    "for i in range(1,7):\n",
    "\n",
    "    for i in (itertools.product('ATGC', repeat=i)):\n",
    "        winlist16.append(''.join(i))"
   ]
  },
  {
   "cell_type": "code",
   "execution_count": null,
   "metadata": {
    "scrolled": true
   },
   "outputs": [
    {
     "name": "stdout",
     "output_type": "stream",
     "text": [
      "Done making 636 windows\n",
      "1 iterations done in winlist. 635 remaining\n",
      "2 iterations done in winlist. 634 remaining\n",
      "3 iterations done in winlist. 633 remaining\n",
      "4 iterations done in winlist. 632 remaining\n",
      "5 iterations done in winlist. 631 remaining\n",
      "6 iterations done in winlist. 630 remaining\n",
      "7 iterations done in winlist. 629 remaining\n",
      "8 iterations done in winlist. 628 remaining\n",
      "9 iterations done in winlist. 627 remaining\n",
      "10 iterations done in winlist. 626 remaining\n",
      "11 iterations done in winlist. 625 remaining\n"
     ]
    }
   ],
   "source": [
    "#load databases as dataframes\n",
    "\n",
    "#set fragment/window size\n",
    "\n",
    "window_sizes = list(range(5,7))\n",
    "\n",
    "#set count threshold\n",
    "###\n",
    "\n",
    "#set other parameters\n",
    "match_award      = 2\n",
    "mismatch_penalty = -1\n",
    "gap_penalty      = -1 # both for opening and extanding\n",
    "\n",
    "#complete workflow\n",
    "\n",
    "for win in window_sizes:\n",
    "    winlist = [w for w in winlist16 if len(w) == win]\n",
    "    winlist = winlist[388:]\n",
    "    \n",
    "    #taking all unique elements into winlist\n",
    "    \n",
    "#     for repseq in repseqs:\n",
    "#         for i in range(0, len(repseq) - win + 1):\n",
    "#             piece = repseq[i:i + win]\n",
    "#             if piece not in winlist:\n",
    "#                 winlist.append(piece)\n",
    "                \n",
    "    print('Done making %d windows' % len(winlist)) \n",
    "    \n",
    "    #two dataframes to stores results\n",
    "    \n",
    "    resultp = pd.DataFrame(index = list(range(len(dfp))), columns = winlist)\n",
    "    resultn = pd.DataFrame(index = list(range(len(dfn))), columns = winlist)\n",
    "    \n",
    "    c = 1\n",
    "    \n",
    "    for element in winlist:\n",
    "        for i, r in dfp.iterrows():\n",
    "            score = calculate_element_score3(match_award, mismatch_penalty, gap_penalty, element, r['Seq'])\n",
    "            \n",
    "            resultp.loc[i, element] = score\n",
    "            \n",
    "        for i, r in dfn.iterrows():\n",
    "            score = calculate_element_score3(match_award, mismatch_penalty, gap_penalty, element, r['Seq'])\n",
    "            \n",
    "            resultn.loc[i, element] = score\n",
    "            \n",
    "        print('%d iterations done in winlist. %d remaining' % (c, (len(winlist) - c) ))\n",
    "        \n",
    "        c+=1\n",
    "\n",
    "    resultp.to_csv('resultp window %d.csv' % win, index = False)\n",
    "    resultn.to_csv('resultn window %d.csv' % win, index = False)"
   ]
  },
  {
   "cell_type": "code",
   "execution_count": 112,
   "metadata": {},
   "outputs": [],
   "source": [
    "resultp.to_csv('resultp window %d upto 388.csv' % win, index = False)\n",
    "resultn.to_csv('resultn window %d upto 388.csv' % win, index = False)"
   ]
  },
  {
   "cell_type": "code",
   "execution_count": 55,
   "metadata": {},
   "outputs": [
    {
     "name": "stdout",
     "output_type": "stream",
     "text": [
      "Done making 67742 windows\n"
     ]
    }
   ],
   "source": [
    "window_sizes = list(range(20,21))\n",
    "\n",
    "for win in window_sizes:\n",
    "    winlist = []\n",
    "    \n",
    "    #taking all unique elements into winlist\n",
    "    \n",
    "    for repseq in repseqs:\n",
    "        for i in range(0, len(repseq) - win + 1):\n",
    "            piece = repseq[i:i + win]\n",
    "            if piece not in winlist:\n",
    "                winlist.append(piece)\n",
    "                \n",
    "    print('Done making %d windows' % len(winlist)) "
   ]
  },
  {
   "cell_type": "code",
   "execution_count": 58,
   "metadata": {
    "scrolled": true
   },
   "outputs": [
    {
     "name": "stdout",
     "output_type": "stream",
     "text": [
      "Wall time: 3.49 s\n"
     ]
    },
    {
     "data": {
      "text/plain": [
       "0.0"
      ]
     },
     "execution_count": 58,
     "metadata": {},
     "output_type": "execute_result"
    }
   ],
   "source": [
    "%%time\n",
    "calculate_element_score2(match_award, mismatch_penalty, gap_penalty, winlist[0], seq2)"
   ]
  },
  {
   "cell_type": "code",
   "execution_count": 64,
   "metadata": {
    "scrolled": true
   },
   "outputs": [
    {
     "name": "stdout",
     "output_type": "stream",
     "text": [
      "Wall time: 2.35 s\n"
     ]
    },
    {
     "data": {
      "text/plain": [
       "(0.0, 25, 0.625)"
      ]
     },
     "execution_count": 64,
     "metadata": {},
     "output_type": "execute_result"
    }
   ],
   "source": [
    "%%time\n",
    "calculate_element_score4(match_award, mismatch_penalty, gap_penalty, winlist[0], seq2)"
   ]
  },
  {
   "cell_type": "code",
   "execution_count": 63,
   "metadata": {},
   "outputs": [],
   "source": [
    "def calculate_element_score4(match_award, mismatch_penalty, gap_penalty, seq1, seq2):\n",
    "    m, n = len(seq1), len(seq2)  # length of two sequences\n",
    "\n",
    "    # Generate DP table and traceback path pointer matrix\n",
    "    score = np.zeros((m+1, n+1)).astype(int)      # the DP table\n",
    "                                                    # to store the traceback path\n",
    "\n",
    "    max_score = 0        # initial maximum score in DP table\n",
    "    # Calculate DP table and mark pointers\n",
    "\n",
    "    scores_list = []\n",
    "\n",
    "    for i in range(1, m + 1):\n",
    "        for j in range(1, n + 1):\n",
    "            score_diagonal = score[i-1][j-1] + match_score(seq1[i-1], seq2[j-1])\n",
    "            score_up = score[i][j-1] + gap_penalty\n",
    "            score_left = score[i-1][j] + gap_penalty\n",
    "            score[i][j] = max(0,score_left, score_up, score_diagonal)\n",
    "            if score[i][j] >= max_score:\n",
    "                max_i = i\n",
    "                max_j = j\n",
    "                max_score = score[i][j];\n",
    "\n",
    "    perfect_score = min(len(seq1), len(seq2)) * match_award\n",
    "\n",
    "    perfect_matches = np.count_nonzero(score == perfect_score)\n",
    "\n",
    "    first_tolerance_match = np.count_nonzero(score == perfect_score - 1)\n",
    "    second_tolerance_match = np.count_nonzero(score == perfect_score - 2)\n",
    "    third_tolerance_match = np.count_nonzero(score == perfect_score - 3)\n",
    "\n",
    "    final_score = perfect_matches + first_tolerance_match/(perfect_score * 2) + second_tolerance_match/(perfect_score * 4) + third_tolerance_match/(perfect_score * 8)\n",
    "\n",
    "    max_obtained = score.max()\n",
    "    \n",
    "    fraction_obtained = max_obtained/perfect_score\n",
    "\n",
    "    return final_score, max_obtained, fraction_obtained\n",
    "\n",
    "def match_score(alpha, beta):\n",
    "    if alpha == beta:\n",
    "        return match_award\n",
    "    elif alpha == '-' or beta == '-':\n",
    "        return gap_penalty\n",
    "    else:\n",
    "        return mismatch_penalty"
   ]
  },
  {
   "cell_type": "code",
   "execution_count": 10,
   "metadata": {},
   "outputs": [],
   "source": [
    "def calculate_element_score3(match_award, mismatch_penalty, gap_penalty, seq1, seq2):\n",
    "    m, n = len(seq1), len(seq2)  # length of two sequences\n",
    "\n",
    "    # Generate DP table and traceback path pointer matrix\n",
    "    score = np.zeros((m+1, n+1)).astype(int)      # the DP table\n",
    "                                                    # to store the traceback path\n",
    "\n",
    "    max_score = 0        # initial maximum score in DP table\n",
    "    # Calculate DP table and mark pointers\n",
    "\n",
    "    scores_list = []\n",
    "\n",
    "    for i in range(1, m + 1):\n",
    "        for j in range(1, n + 1):\n",
    "            score_diagonal = score[i-1][j-1] + match_score(seq1[i-1], seq2[j-1])\n",
    "            score_up = score[i][j-1] + gap_penalty\n",
    "            score_left = score[i-1][j] + gap_penalty\n",
    "            score[i][j] = max(0,score_left, score_up, score_diagonal)\n",
    "            if score[i][j] >= max_score:\n",
    "                max_i = i\n",
    "                max_j = j\n",
    "                max_score = score[i][j];\n",
    "\n",
    "    perfect_score = min(len(seq1), len(seq2)) * match_award\n",
    "\n",
    "    perfect_matches = np.count_nonzero(score == perfect_score)\n",
    "\n",
    "    first_tolerance_match = np.count_nonzero(score == perfect_score - 1)\n",
    "    second_tolerance_match = np.count_nonzero(score == perfect_score - 2)\n",
    "    third_tolerance_match = np.count_nonzero(score == perfect_score - 3)\n",
    "\n",
    "    final_score = perfect_matches + first_tolerance_match/(perfect_score * 2) + second_tolerance_match/(perfect_score * 4) + third_tolerance_match/(perfect_score * 8)\n",
    "    \n",
    "    return final_score\n",
    "\n",
    "def match_score(alpha, beta):\n",
    "    if alpha == beta:\n",
    "        return match_award\n",
    "    elif alpha == '-' or beta == '-':\n",
    "        return gap_penalty\n",
    "    else:\n",
    "        return mismatch_penalty"
   ]
  },
  {
   "cell_type": "code",
   "execution_count": 8,
   "metadata": {},
   "outputs": [],
   "source": [
    "def calculate_element_score2(match_award, mismatch_penalty, gap_penalty, seq1, seq2):\n",
    "    m, n = len(seq1), len(seq2)  # length of two sequences\n",
    "\n",
    "    # Generate DP table and traceback path pointer matrix\n",
    "    score = np.zeros((m+1, n+1)).astype(int)      # the DP table\n",
    "    pointer = np.zeros((m+1, n+1)).astype(int)    # to store the traceback path\n",
    "\n",
    "    max_score = 0        # initial maximum score in DP table\n",
    "    # Calculate DP table and mark pointers\n",
    "\n",
    "    scores_list = []\n",
    "\n",
    "    for i in range(1, m + 1):\n",
    "        for j in range(1, n + 1):\n",
    "            score_diagonal = score[i-1][j-1] + match_score(seq1[i-1], seq2[j-1])\n",
    "            score_up = score[i][j-1] + gap_penalty\n",
    "            score_left = score[i-1][j] + gap_penalty\n",
    "            score[i][j] = max(0,score_left, score_up, score_diagonal)\n",
    "            if score[i][j] == 0:\n",
    "                pointer[i][j] = 0 # 0 means end of the path\n",
    "            if score[i][j] == score_left:\n",
    "                pointer[i][j] = 1 # 1 means trace up\n",
    "            if score[i][j] == score_up:\n",
    "                pointer[i][j] = 2 # 2 means trace left\n",
    "            if score[i][j] == score_diagonal:\n",
    "                pointer[i][j] = 3 # 3 means trace diagonal\n",
    "            if score[i][j] >= max_score:\n",
    "                max_i = i\n",
    "                max_j = j\n",
    "                max_score = score[i][j];\n",
    "\n",
    "    perfect_score = min(len(seq1), len(seq2)) * match_award\n",
    "\n",
    "    perfect_matches = np.count_nonzero(score == perfect_score)\n",
    "\n",
    "    first_tolerance_match = np.count_nonzero(score == perfect_score - 1)\n",
    "    second_tolerance_match = np.count_nonzero(score == perfect_score - 2)\n",
    "    third_tolerance_match = np.count_nonzero(score == perfect_score - 3)\n",
    "\n",
    "    final_score = perfect_matches + first_tolerance_match/(perfect_score * 2) + second_tolerance_match/(perfect_score * 4) + third_tolerance_match/(perfect_score * 8)\n",
    "    \n",
    "    return final_score\n",
    "\n",
    "def match_score(alpha, beta):\n",
    "    if alpha == beta:\n",
    "        return match_award\n",
    "    elif alpha == '-' or beta == '-':\n",
    "        return gap_penalty\n",
    "    else:\n",
    "        return mismatch_penalty"
   ]
  },
  {
   "cell_type": "code",
   "execution_count": 14,
   "metadata": {
    "scrolled": true
   },
   "outputs": [],
   "source": [
    "def calculate_element_score(match_award, mismatch_penalty, gap_penalty, seq1, seq2):\n",
    "\n",
    "    m, n = len(seq1), len(seq2)  # length of two sequences\n",
    "\n",
    "    # Generate DP table and traceback path pointer matrix\n",
    "    score = np.zeros((m+1, n+1)).astype(int)      # the DP table\n",
    "    pointer = np.zeros((m+1, n+1)).astype(int)    # to store the traceback path\n",
    "\n",
    "    max_score = 0        # initial maximum score in DP table\n",
    "    # Calculate DP table and mark pointers\n",
    "\n",
    "    scores_list = []\n",
    "\n",
    "    for i in range(1, m + 1):\n",
    "        for j in range(1, n + 1):\n",
    "            score_diagonal = score[i-1][j-1] + match_score(seq1[i-1], seq2[j-1])\n",
    "            score_up = score[i][j-1] + gap_penalty\n",
    "            score_left = score[i-1][j] + gap_penalty\n",
    "            score[i][j] = max(0,score_left, score_up, score_diagonal)\n",
    "            if score[i][j] == 0:\n",
    "                pointer[i][j] = 0 # 0 means end of the path\n",
    "            if score[i][j] == score_left:\n",
    "                pointer[i][j] = 1 # 1 means trace up\n",
    "            if score[i][j] == score_up:\n",
    "                pointer[i][j] = 2 # 2 means trace left\n",
    "            if score[i][j] == score_diagonal:\n",
    "                pointer[i][j] = 3 # 3 means trace diagonal\n",
    "            if score[i][j] >= max_score:\n",
    "                max_i = i\n",
    "                max_j = j\n",
    "                max_score = score[i][j];\n",
    "\n",
    "    align1, align2 = '', ''    # initial sequences\n",
    "\n",
    "    i,j = max_i,max_j    # indices of path starting point\n",
    "\n",
    "    #traceback, follow pointers\n",
    "    while pointer[i][j] != 0:\n",
    "        if pointer[i][j] == 3:\n",
    "            align1 += seq1[i-1]\n",
    "            align2 += seq2[j-1]\n",
    "            i -= 1\n",
    "            j -= 1\n",
    "        elif pointer[i][j] == 2:\n",
    "            align1 += '-'\n",
    "            align2 += seq2[j-1]\n",
    "            j -= 1\n",
    "        elif pointer[i][j] == 1:\n",
    "            align1 += seq1[i-1]\n",
    "            align2 += '-'\n",
    "            i -= 1\n",
    "\n",
    "    identity, align, symbol = finalize(align1, align2, scores_list)\n",
    "\n",
    "    perfect_score = min(len(seq1), len(seq2)) * match_award\n",
    "\n",
    "    perfect_matches = np.count_nonzero(score == perfect_score)\n",
    "\n",
    "    first_tolerance_match = np.count_nonzero(score == perfect_score - 1)\n",
    "    second_tolerance_match = np.count_nonzero(score == perfect_score - 2)\n",
    "    third_tolerance_match = np.count_nonzero(score == perfect_score - 3)\n",
    "\n",
    "    final_score = perfect_matches + first_tolerance_match/(perfect_score * 2) + second_tolerance_match/(perfect_score * 4) + third_tolerance_match/(perfect_score * 8)\n",
    "    \n",
    "    return final_score"
   ]
  },
  {
   "cell_type": "markdown",
   "metadata": {},
   "source": [
    "fucntions"
   ]
  },
  {
   "cell_type": "code",
   "execution_count": 15,
   "metadata": {},
   "outputs": [],
   "source": [
    "def match_score(alpha, beta):\n",
    "    if alpha == beta:\n",
    "        return match_award\n",
    "    elif alpha == '-' or beta == '-':\n",
    "        return gap_penalty\n",
    "    else:\n",
    "        return mismatch_penalty"
   ]
  },
  {
   "cell_type": "code",
   "execution_count": 16,
   "metadata": {},
   "outputs": [],
   "source": [
    "def finalize(align1, align2, scores_list):\n",
    "    align1 = align1[::-1]    #reverse sequence 1\n",
    "    align2 = align2[::-1]    #reverse sequence 2\n",
    "    \n",
    "    i,j = 0,0\n",
    "    \n",
    "    #calcuate identity, score and aligned sequeces\n",
    "    symbol = ''\n",
    "    found = 0\n",
    "    score = 0\n",
    "    identity = 0\n",
    "    for i in range(0,len(align1)):\n",
    "        # if two AAs are the same, then output the letter\n",
    "        if align1[i] == align2[i]:                \n",
    "            symbol = symbol + align1[i]\n",
    "            identity = identity + 1\n",
    "            score += match_score(align1[i], align2[i])\n",
    "    \n",
    "        # if they are not identical and none of them is gap\n",
    "        elif align1[i] != align2[i] and align1[i] != '-' and align2[i] != '-': \n",
    "            score += match_score(align1[i], align2[i])\n",
    "            symbol += ' '\n",
    "            found = 0\n",
    "    \n",
    "        #if one of them is a gap, output a space\n",
    "        elif align1[i] == '-' or align2[i] == '-':          \n",
    "            symbol += ' '\n",
    "            score += gap_penalty\n",
    "    \n",
    "    \n",
    "    #identity2 = float(identity) / len(align1) * 100\n",
    "    \n",
    "    #print ('Identity =', \"%3.3f\" % identity2, 'percent')\n",
    "    #print ('Score =', score)\n",
    "    #print (align1)\n",
    "    #print (symbol)\n",
    "    #print (align2)\n",
    "    #print(n)\n",
    "    \n",
    "    return identity, align1, symbol"
   ]
  },
  {
   "cell_type": "code",
   "execution_count": null,
   "metadata": {},
   "outputs": [],
   "source": []
  },
  {
   "cell_type": "code",
   "execution_count": 35,
   "metadata": {
    "scrolled": false
   },
   "outputs": [
    {
     "name": "stdout",
     "output_type": "stream",
     "text": [
      "Identity = 100.000 percent\n",
      "Score = 32\n",
      "ATGCATGCCGCGAGTC\n",
      "ATGCATGCCGCGAGTC\n",
      "ATGCATGCCGCGAGTC\n"
     ]
    }
   ],
   "source": [
    "seq1     = 'ATGCATGCCGCGAGTC'\n",
    "seq2     = 'TTACATGCATGCCGCGAGTCAGGATGTGGATAGAAGCCCCCCCCACAGGATGTACAGGATGTGGATAGAAGCCCCCCCCCCCTGGATAGAAGGATAGGGGGTACAGGATGTGGATAGAAGGGGGGGGTAAGGATGTGGATAGAAGGGGGGGGAGATACAGGATGTGGGGGGGGGGCCCCCCCCCCCCCCCCCCCCCCCCCCCCCGGGGGGGGGGCTGAAGATTTTTTTTTTTTTTTTTTTTTACAGATACAGGATGTGCTGTTTTTTTTTTTTTTTTTTTTAATACATACACACATACAGGTGTGGTACAGATACAACAGATACAGGTTAGCGATACAGATACAGATACAGGATGTGCTGAATACATACACACATACAGGTGTGGTACAGATACAACAGATACAGGTTAGCGATACAGATACAGATACAGGATGTGCTGAATACATACACACATACAGGTGTGGTACAGATACAACAGATACAGGTTAGCGATACAGATACAGATACAGGATGTGCTGAATACATACACACATACAGGTGTGGTACAGATCCCCCCCCCCCCCCCCCCCCCCCCCCCCCACAACAGATACAGGTTAGCGATACATACTTTTTTTTTTCCCCCCCCCCCCCCCCCCCCCCCCCCCCCTTTTTTTTTTATACACACATACAGGTGTGGTACAGATACAACAGATACAGGTTAGCGATACA'\n",
    "\n",
    "water(seq1, seq2)"
   ]
  },
  {
   "cell_type": "markdown",
   "metadata": {},
   "source": [
    "Original"
   ]
  },
  {
   "cell_type": "code",
   "execution_count": 18,
   "metadata": {},
   "outputs": [],
   "source": [
    "#This software is a free software. Thus, it is licensed under GNU General Public License.\n",
    "#Python implementation to Smith-Waterman Algorithm for Homework 1 of Bioinformatics class.\n",
    "#Forrest Bao, Sept. 26 <http://fsbao.net> <forrest.bao aT gmail.com>\n",
    "\n",
    "# zeros() was origianlly from NumPy.\n",
    "# This version is implemented by alevchuk 2011-04-10\n",
    "def zeros(shape):\n",
    "    retval = []\n",
    "    for x in range(shape[0]):\n",
    "        retval.append([])\n",
    "        for y in range(shape[1]):\n",
    "            retval[-1].append(0)\n",
    "    return retval\n",
    "\n",
    "match_award      = 2\n",
    "mismatch_penalty = -1\n",
    "gap_penalty      = -1 # both for opening and extanding\n",
    "\n",
    "def match_score(alpha, beta):\n",
    "    if alpha == beta:\n",
    "        return match_award\n",
    "    elif alpha == '-' or beta == '-':\n",
    "        return gap_penalty\n",
    "    else:\n",
    "        return mismatch_penalty\n",
    "\n",
    "def finalize(align1, align2, scores_list):\n",
    "    align1 = align1[::-1]    #reverse sequence 1\n",
    "    align2 = align2[::-1]    #reverse sequence 2\n",
    "    \n",
    "    i,j = 0,0\n",
    "    \n",
    "    #calcuate identity, score and aligned sequeces\n",
    "    symbol = ''\n",
    "    found = 0\n",
    "    score = 0\n",
    "    identity = 0\n",
    "    for i in range(0,len(align1)):\n",
    "        # if two AAs are the same, then output the letter\n",
    "        if align1[i] == align2[i]:                \n",
    "            symbol = symbol + align1[i]\n",
    "            identity = identity + 1\n",
    "            score += match_score(align1[i], align2[i])\n",
    "    \n",
    "        # if they are not identical and none of them is gap\n",
    "        elif align1[i] != align2[i] and align1[i] != '-' and align2[i] != '-': \n",
    "            score += match_score(align1[i], align2[i])\n",
    "            symbol += ' '\n",
    "            found = 0\n",
    "    \n",
    "        #if one of them is a gap, output a space\n",
    "        elif align1[i] == '-' or align2[i] == '-':          \n",
    "            symbol += ' '\n",
    "            score += gap_penalty\n",
    "    \n",
    "    \n",
    "    identity = float(identity) / len(align1) * 100\n",
    "    \n",
    "    print ('Identity =', \"%3.3f\" % identity, 'percent')\n",
    "    print ('Score =', score)\n",
    "    print (align1)\n",
    "    print (symbol)\n",
    "    print (align2)\n",
    "    #print(n)\n",
    "\n",
    "def water(seq1, seq2):\n",
    "    m, n = len(seq1), len(seq2)  # length of two sequences\n",
    "    \n",
    "    # Generate DP table and traceback path pointer matrix\n",
    "    score = zeros((m+1, n+1))      # the DP table\n",
    "    pointer = zeros((m+1, n+1))    # to store the traceback path\n",
    "    \n",
    "    max_score = 0        # initial maximum score in DP table\n",
    "    # Calculate DP table and mark pointers\n",
    "    \n",
    "    scores_list = []\n",
    "    \n",
    "    for i in range(1, m + 1):\n",
    "        for j in range(1, n + 1):\n",
    "            score_diagonal = score[i-1][j-1] + match_score(seq1[i-1], seq2[j-1])\n",
    "            score_up = score[i][j-1] + gap_penalty\n",
    "            score_left = score[i-1][j] + gap_penalty\n",
    "            score[i][j] = max(0,score_left, score_up, score_diagonal)\n",
    "            if score[i][j] == 0:\n",
    "                pointer[i][j] = 0 # 0 means end of the path\n",
    "            if score[i][j] == score_left:\n",
    "                pointer[i][j] = 1 # 1 means trace up\n",
    "            if score[i][j] == score_up:\n",
    "                pointer[i][j] = 2 # 2 means trace left\n",
    "            if score[i][j] == score_diagonal:\n",
    "                pointer[i][j] = 3 # 3 means trace diagonal\n",
    "            if score[i][j] >= max_score:\n",
    "                max_i = i\n",
    "                max_j = j\n",
    "                max_score = score[i][j];\n",
    "            \n",
    "            #scores_list.append((score,i,j))\n",
    "    \n",
    "    \n",
    "    align1, align2 = '', ''    # initial sequences\n",
    "    \n",
    "    i,j = max_i,max_j    # indices of path starting point\n",
    "    \n",
    "    #traceback, follow pointers\n",
    "    while pointer[i][j] != 0:\n",
    "        if pointer[i][j] == 3:\n",
    "            align1 += seq1[i-1]\n",
    "            align2 += seq2[j-1]\n",
    "            i -= 1\n",
    "            j -= 1\n",
    "        elif pointer[i][j] == 2:\n",
    "            align1 += '-'\n",
    "            align2 += seq2[j-1]\n",
    "            j -= 1\n",
    "        elif pointer[i][j] == 1:\n",
    "            align1 += seq1[i-1]\n",
    "            align2 += '-'\n",
    "            i -= 1\n",
    "\n",
    "    finalize(align1, align2, scores_list)"
   ]
  },
  {
   "cell_type": "code",
   "execution_count": null,
   "metadata": {},
   "outputs": [],
   "source": []
  },
  {
   "cell_type": "code",
   "execution_count": null,
   "metadata": {},
   "outputs": [],
   "source": [
    "def needle(seq1, seq2):\n",
    "    m, n = len(seq1), len(seq2)  # length of two sequences\n",
    "    \n",
    "    # Generate DP table and traceback path pointer matrix\n",
    "    score = zeros((m+1, n+1))      # the DP table\n",
    "   \n",
    "    # Calculate DP table\n",
    "    for i in range(0, m + 1):\n",
    "        score[i][0] = gap_penalty * i\n",
    "    for j in range(0, n + 1):\n",
    "        score[0][j] = gap_penalty * j\n",
    "    for i in range(1, m + 1):\n",
    "        for j in range(1, n + 1):\n",
    "            match = score[i - 1][j - 1] + match_score(seq1[i-1], seq2[j-1])\n",
    "            delete = score[i - 1][j] + gap_penalty\n",
    "            insert = score[i][j - 1] + gap_penalty\n",
    "            score[i][j] = max(match, delete, insert)\n",
    "\n",
    "    # Traceback and compute the alignment \n",
    "    align1, align2 = '', ''\n",
    "    i,j = m,n # start from the bottom right cell\n",
    "    while i > 0 and j > 0: # end toching the top or the left edge\n",
    "        score_current = score[i][j]\n",
    "        score_diagonal = score[i-1][j-1]\n",
    "        score_up = score[i][j-1]\n",
    "        score_left = score[i-1][j]\n",
    "\n",
    "        if score_current == score_diagonal + match_score(seq1[i-1], seq2[j-1]):\n",
    "            align1 += seq1[i-1]\n",
    "            align2 += seq2[j-1]\n",
    "            i -= 1\n",
    "            j -= 1\n",
    "        elif score_current == score_left + gap_penalty:\n",
    "            align1 += seq1[i-1]\n",
    "            align2 += '-'\n",
    "            i -= 1\n",
    "        elif score_current == score_up + gap_penalty:\n",
    "            align1 += '-'\n",
    "            align2 += seq2[j-1]\n",
    "            j -= 1\n",
    "\n",
    "    # Finish tracing up to the top left cell\n",
    "    while i > 0:\n",
    "        align1 += seq1[i-1]\n",
    "        align2 += '-'\n",
    "        i -= 1\n",
    "    while j > 0:\n",
    "        align1 += '-'\n",
    "        align2 += seq2[j-1]\n",
    "        j -= 1\n",
    "\n",
    "    finalize(align1, align2)\n"
   ]
  },
  {
   "cell_type": "markdown",
   "metadata": {},
   "source": [
    "recycled code"
   ]
  },
  {
   "cell_type": "code",
   "execution_count": null,
   "metadata": {},
   "outputs": [],
   "source": [
    "perfect_hits = 0\n",
    "tolerated_hits = np.zeros(tolerance)\n",
    "lowest_tolerance = min(len(seq1), len(seq2)) - tolerance\n",
    "score_to_compare = max_score\n",
    "flattened_scores = score.flatten()\n",
    "flattened_scores.sort()\n",
    "\n",
    "if identity == min(len(seq1), len(seq2)):\n",
    "    perfect_hits = np.count_nonzero(score == max_score)\n",
    "    \n",
    "    for i in range(lowest_tolerance, identity):\n",
    "        tolerated_hits[identity - (i+1)] = np.count_nonzero(score == score_to_compare)\n",
    "        score_to_compare = list(set(flattened_scores))[-(i - lowest_tolerance + 2 )]\n",
    "\n",
    "else:\n",
    "    for i in range(lowest_tolerance, identity + 1):\n",
    "        tolerated_hits[identity - i] = np.count_nonzero(score == score_to_compare)\n",
    "        score_to_compare = list(set(flattened_scores))[-(i - lowest_tolerance + 2 )]\n",
    "        \n",
    "print('purrfect %d' %perfect_hits)\n",
    "for i in range(tolerance):\n",
    "    print('tolerating %d mismatches/gaps: %d' %  (i+1, tolerated_hits[i]))"
   ]
  }
 ],
 "metadata": {
  "kernelspec": {
   "display_name": "Python 3",
   "language": "python",
   "name": "python3"
  },
  "language_info": {
   "codemirror_mode": {
    "name": "ipython",
    "version": 3
   },
   "file_extension": ".py",
   "mimetype": "text/x-python",
   "name": "python",
   "nbconvert_exporter": "python",
   "pygments_lexer": "ipython3",
   "version": "3.8.2"
  }
 },
 "nbformat": 4,
 "nbformat_minor": 4
}
