{
 "cells": [
  {
   "cell_type": "code",
   "execution_count": null,
   "metadata": {},
   "outputs": [],
   "source": [
    "#make 16 separate window lists \n",
    "\n",
    "import itertools\n",
    "\n",
    "winlist6 = []\n",
    "\n",
    "for i in range(6,7):\n",
    "\n",
    "    for i in (itertools.product('ATGC', repeat=i)):\n",
    "        winlist6.append(''.join(i))"
   ]
  },
  {
   "cell_type": "code",
   "execution_count": null,
   "metadata": {},
   "outputs": [],
   "source": [
    "for i in range(16):\n",
    "    x = int(len(winlist6) / 16)\n",
    "    \n",
    "    winlist = winlist6[i:i+x]\n",
    "    \n",
    "    with open('winlist 6 %d .txt' % (i+1) , 'w') as f:\n",
    "        for e in winlist:\n",
    "            f.write(e)"
   ]
  }
 ],
 "metadata": {
  "kernelspec": {
   "display_name": "Python 3",
   "language": "python",
   "name": "python3"
  },
  "language_info": {
   "codemirror_mode": {
    "name": "ipython",
    "version": 3
   },
   "file_extension": ".py",
   "mimetype": "text/x-python",
   "name": "python",
   "nbconvert_exporter": "python",
   "pygments_lexer": "ipython3",
   "version": "3.8.2"
  }
 },
 "nbformat": 4,
 "nbformat_minor": 4
}
